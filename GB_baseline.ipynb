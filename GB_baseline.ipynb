{
  "metadata": {
    "kernelspec": {
      "display_name": "Python 3",
      "name": "python3"
    },
    "language_info": {
      "name": "python",
      "version": "3.7.12",
      "mimetype": "text/x-python",
      "codemirror_mode": {
        "name": "ipython",
        "version": 3
      },
      "pygments_lexer": "ipython3",
      "nbconvert_exporter": "python",
      "file_extension": ".py"
    },
    "kaggle": {
      "accelerator": "none",
      "dataSources": [
        {
          "sourceId": 4249043,
          "sourceType": "datasetVersion",
          "datasetId": 2503801
        }
      ],
      "dockerImageVersionId": 30407,
      "isInternetEnabled": false,
      "language": "python",
      "sourceType": "notebook",
      "isGpuEnabled": false
    },
    "colab": {
      "provenance": [],
      "gpuType": "T4"
    },
    "accelerator": "GPU"
  },
  "nbformat_minor": 0,
  "nbformat": 4,
  "cells": [
    {
      "cell_type": "markdown",
      "source": [
        "### 1. Install Required Dependencies"
      ],
      "metadata": {
        "id": "KikeLakGXeSb"
      }
    },
    {
      "cell_type": "code",
      "source": [
        "!pip install sentence-transformers"
      ],
      "metadata": {
        "id": "Sodvp03kYCK0"
      },
      "execution_count": null,
      "outputs": []
    },
    {
      "cell_type": "code",
      "source": [
        "import pandas as pd\n",
        "from sklearn.model_selection import train_test_split\n",
        "from sklearn.metrics import classification_report"
      ],
      "metadata": {
        "id": "d28GlrsToc9I"
      },
      "execution_count": null,
      "outputs": []
    },
    {
      "cell_type": "markdown",
      "source": [
        "### 2. Mount drive & Load data"
      ],
      "metadata": {
        "id": "vSsNpTzGXeSd"
      }
    },
    {
      "cell_type": "code",
      "source": [
        "from google.colab import drive\n",
        "drive.mount('/content/drive')"
      ],
      "metadata": {
        "colab": {
          "base_uri": "https://localhost:8080/"
        },
        "id": "SVVdXMEWXn10",
        "outputId": "070aafe4-d002-45c8-fa77-d37bc7d64c42"
      },
      "execution_count": null,
      "outputs": [
        {
          "output_type": "stream",
          "name": "stdout",
          "text": [
            "Mounted at /content/drive\n"
          ]
        }
      ]
    },
    {
      "cell_type": "code",
      "source": [
        "df = pd.read_json('/content/drive/MyDrive/Colab Notebooks/Intro_to_Machine_Learning/politifact_factcheck_data.json', lines=True)"
      ],
      "metadata": {
        "execution": {
          "iopub.status.busy": "2023-04-03T17:52:11.834453Z",
          "iopub.execute_input": "2023-04-03T17:52:11.834917Z",
          "iopub.status.idle": "2023-04-03T17:52:12.083428Z",
          "shell.execute_reply.started": "2023-04-03T17:52:11.834879Z",
          "shell.execute_reply": "2023-04-03T17:52:12.082403Z"
        },
        "trusted": true,
        "id": "zpRsm51lXeSd"
      },
      "outputs": [],
      "execution_count": null
    },
    {
      "cell_type": "markdown",
      "source": [
        "### 3. Preprocess (Label Binarization)"
      ],
      "metadata": {
        "id": "GafKaSkClZ0O"
      }
    },
    {
      "cell_type": "code",
      "source": [
        "print(len(df))\n",
        "df = df[df['verdict'] != 'half-true'].reset_index(drop=True)\n",
        "df = df[df['verdict'] != 'mostly-false'].reset_index(drop=True)\n",
        "print(len(df))"
      ],
      "metadata": {
        "colab": {
          "base_uri": "https://localhost:8080/"
        },
        "id": "LtXadEwJm_D7",
        "outputId": "718e98e2-c488-4f54-d0f1-3adb3857e404"
      },
      "execution_count": null,
      "outputs": [
        {
          "output_type": "stream",
          "name": "stdout",
          "text": [
            "21152\n",
            "14123\n"
          ]
        }
      ]
    },
    {
      "cell_type": "code",
      "source": [
        "# Binarize the labels\n",
        "binary_map = {\n",
        "    'true': 0,\n",
        "    'mostly-true': 0,\n",
        "    'false': 1,\n",
        "    'pants-fire': 1\n",
        "}\n",
        "df['binary_verdict'] = df['verdict'].map(binary_map)\n",
        "df.head()"
      ],
      "metadata": {
        "execution": {
          "iopub.status.busy": "2023-04-03T17:53:14.739337Z",
          "iopub.execute_input": "2023-04-03T17:53:14.73974Z",
          "iopub.status.idle": "2023-04-03T17:53:14.752239Z",
          "shell.execute_reply.started": "2023-04-03T17:53:14.739705Z",
          "shell.execute_reply": "2023-04-03T17:53:14.751084Z"
        },
        "trusted": true,
        "id": "RGjebi-AlJsc",
        "colab": {
          "base_uri": "https://localhost:8080/",
          "height": 206
        },
        "outputId": "4c22ad2f-f6a8-43f4-af69-c37a69d795cd"
      },
      "outputs": [
        {
          "output_type": "execute_result",
          "data": {
            "text/plain": [
              "       verdict statement_originator  \\\n",
              "0         true         Barack Obama   \n",
              "1        false           Matt Gaetz   \n",
              "2  mostly-true         Kelly Ayotte   \n",
              "3        false             Bloggers   \n",
              "4         true            S.E. Cupp   \n",
              "\n",
              "                                           statement statement_date  \\\n",
              "0  John McCain opposed bankruptcy protections for...      6/11/2008   \n",
              "1  \"Bennie Thompson actively cheer-led riots in t...       6/7/2022   \n",
              "2  Says Maggie Hassan was \"out of state on 30 day...      5/18/2016   \n",
              "3  \"BUSTED: CDC Inflated COVID Numbers, Accused o...       2/1/2021   \n",
              "4  \"There are actually only 30 countries that pra...      8/23/2015   \n",
              "\n",
              "  statement_source        factchecker factcheck_date  \\\n",
              "0           speech  Adriel Bettelheim      6/16/2008   \n",
              "1       television        Yacob Reyes      6/13/2022   \n",
              "2             news     Clay Wirestone      5/27/2016   \n",
              "3             blog     Madison Czopek       2/5/2021   \n",
              "4             news      Will Cabaniss      8/23/2015   \n",
              "\n",
              "                             factcheck_analysis_link  binary_verdict  \n",
              "0  https://www.politifact.com/factchecks/2008/jun...               0  \n",
              "1  https://www.politifact.com/factchecks/2022/jun...               1  \n",
              "2  https://www.politifact.com/factchecks/2016/may...               0  \n",
              "3  https://www.politifact.com/factchecks/2021/feb...               1  \n",
              "4  https://www.politifact.com/factchecks/2015/aug...               0  "
            ],
            "text/html": [
              "\n",
              "  <div id=\"df-0593125d-84d3-4761-8c33-eb708793fbd2\" class=\"colab-df-container\">\n",
              "    <div>\n",
              "<style scoped>\n",
              "    .dataframe tbody tr th:only-of-type {\n",
              "        vertical-align: middle;\n",
              "    }\n",
              "\n",
              "    .dataframe tbody tr th {\n",
              "        vertical-align: top;\n",
              "    }\n",
              "\n",
              "    .dataframe thead th {\n",
              "        text-align: right;\n",
              "    }\n",
              "</style>\n",
              "<table border=\"1\" class=\"dataframe\">\n",
              "  <thead>\n",
              "    <tr style=\"text-align: right;\">\n",
              "      <th></th>\n",
              "      <th>verdict</th>\n",
              "      <th>statement_originator</th>\n",
              "      <th>statement</th>\n",
              "      <th>statement_date</th>\n",
              "      <th>statement_source</th>\n",
              "      <th>factchecker</th>\n",
              "      <th>factcheck_date</th>\n",
              "      <th>factcheck_analysis_link</th>\n",
              "      <th>binary_verdict</th>\n",
              "    </tr>\n",
              "  </thead>\n",
              "  <tbody>\n",
              "    <tr>\n",
              "      <th>0</th>\n",
              "      <td>true</td>\n",
              "      <td>Barack Obama</td>\n",
              "      <td>John McCain opposed bankruptcy protections for...</td>\n",
              "      <td>6/11/2008</td>\n",
              "      <td>speech</td>\n",
              "      <td>Adriel Bettelheim</td>\n",
              "      <td>6/16/2008</td>\n",
              "      <td>https://www.politifact.com/factchecks/2008/jun...</td>\n",
              "      <td>0</td>\n",
              "    </tr>\n",
              "    <tr>\n",
              "      <th>1</th>\n",
              "      <td>false</td>\n",
              "      <td>Matt Gaetz</td>\n",
              "      <td>\"Bennie Thompson actively cheer-led riots in t...</td>\n",
              "      <td>6/7/2022</td>\n",
              "      <td>television</td>\n",
              "      <td>Yacob Reyes</td>\n",
              "      <td>6/13/2022</td>\n",
              "      <td>https://www.politifact.com/factchecks/2022/jun...</td>\n",
              "      <td>1</td>\n",
              "    </tr>\n",
              "    <tr>\n",
              "      <th>2</th>\n",
              "      <td>mostly-true</td>\n",
              "      <td>Kelly Ayotte</td>\n",
              "      <td>Says Maggie Hassan was \"out of state on 30 day...</td>\n",
              "      <td>5/18/2016</td>\n",
              "      <td>news</td>\n",
              "      <td>Clay Wirestone</td>\n",
              "      <td>5/27/2016</td>\n",
              "      <td>https://www.politifact.com/factchecks/2016/may...</td>\n",
              "      <td>0</td>\n",
              "    </tr>\n",
              "    <tr>\n",
              "      <th>3</th>\n",
              "      <td>false</td>\n",
              "      <td>Bloggers</td>\n",
              "      <td>\"BUSTED: CDC Inflated COVID Numbers, Accused o...</td>\n",
              "      <td>2/1/2021</td>\n",
              "      <td>blog</td>\n",
              "      <td>Madison Czopek</td>\n",
              "      <td>2/5/2021</td>\n",
              "      <td>https://www.politifact.com/factchecks/2021/feb...</td>\n",
              "      <td>1</td>\n",
              "    </tr>\n",
              "    <tr>\n",
              "      <th>4</th>\n",
              "      <td>true</td>\n",
              "      <td>S.E. Cupp</td>\n",
              "      <td>\"There are actually only 30 countries that pra...</td>\n",
              "      <td>8/23/2015</td>\n",
              "      <td>news</td>\n",
              "      <td>Will Cabaniss</td>\n",
              "      <td>8/23/2015</td>\n",
              "      <td>https://www.politifact.com/factchecks/2015/aug...</td>\n",
              "      <td>0</td>\n",
              "    </tr>\n",
              "  </tbody>\n",
              "</table>\n",
              "</div>\n",
              "    <div class=\"colab-df-buttons\">\n",
              "\n",
              "  <div class=\"colab-df-container\">\n",
              "    <button class=\"colab-df-convert\" onclick=\"convertToInteractive('df-0593125d-84d3-4761-8c33-eb708793fbd2')\"\n",
              "            title=\"Convert this dataframe to an interactive table.\"\n",
              "            style=\"display:none;\">\n",
              "\n",
              "  <svg xmlns=\"http://www.w3.org/2000/svg\" height=\"24px\" viewBox=\"0 -960 960 960\">\n",
              "    <path d=\"M120-120v-720h720v720H120Zm60-500h600v-160H180v160Zm220 220h160v-160H400v160Zm0 220h160v-160H400v160ZM180-400h160v-160H180v160Zm440 0h160v-160H620v160ZM180-180h160v-160H180v160Zm440 0h160v-160H620v160Z\"/>\n",
              "  </svg>\n",
              "    </button>\n",
              "\n",
              "  <style>\n",
              "    .colab-df-container {\n",
              "      display:flex;\n",
              "      gap: 12px;\n",
              "    }\n",
              "\n",
              "    .colab-df-convert {\n",
              "      background-color: #E8F0FE;\n",
              "      border: none;\n",
              "      border-radius: 50%;\n",
              "      cursor: pointer;\n",
              "      display: none;\n",
              "      fill: #1967D2;\n",
              "      height: 32px;\n",
              "      padding: 0 0 0 0;\n",
              "      width: 32px;\n",
              "    }\n",
              "\n",
              "    .colab-df-convert:hover {\n",
              "      background-color: #E2EBFA;\n",
              "      box-shadow: 0px 1px 2px rgba(60, 64, 67, 0.3), 0px 1px 3px 1px rgba(60, 64, 67, 0.15);\n",
              "      fill: #174EA6;\n",
              "    }\n",
              "\n",
              "    .colab-df-buttons div {\n",
              "      margin-bottom: 4px;\n",
              "    }\n",
              "\n",
              "    [theme=dark] .colab-df-convert {\n",
              "      background-color: #3B4455;\n",
              "      fill: #D2E3FC;\n",
              "    }\n",
              "\n",
              "    [theme=dark] .colab-df-convert:hover {\n",
              "      background-color: #434B5C;\n",
              "      box-shadow: 0px 1px 3px 1px rgba(0, 0, 0, 0.15);\n",
              "      filter: drop-shadow(0px 1px 2px rgba(0, 0, 0, 0.3));\n",
              "      fill: #FFFFFF;\n",
              "    }\n",
              "  </style>\n",
              "\n",
              "    <script>\n",
              "      const buttonEl =\n",
              "        document.querySelector('#df-0593125d-84d3-4761-8c33-eb708793fbd2 button.colab-df-convert');\n",
              "      buttonEl.style.display =\n",
              "        google.colab.kernel.accessAllowed ? 'block' : 'none';\n",
              "\n",
              "      async function convertToInteractive(key) {\n",
              "        const element = document.querySelector('#df-0593125d-84d3-4761-8c33-eb708793fbd2');\n",
              "        const dataTable =\n",
              "          await google.colab.kernel.invokeFunction('convertToInteractive',\n",
              "                                                    [key], {});\n",
              "        if (!dataTable) return;\n",
              "\n",
              "        const docLinkHtml = 'Like what you see? Visit the ' +\n",
              "          '<a target=\"_blank\" href=https://colab.research.google.com/notebooks/data_table.ipynb>data table notebook</a>'\n",
              "          + ' to learn more about interactive tables.';\n",
              "        element.innerHTML = '';\n",
              "        dataTable['output_type'] = 'display_data';\n",
              "        await google.colab.output.renderOutput(dataTable, element);\n",
              "        const docLink = document.createElement('div');\n",
              "        docLink.innerHTML = docLinkHtml;\n",
              "        element.appendChild(docLink);\n",
              "      }\n",
              "    </script>\n",
              "  </div>\n",
              "\n",
              "\n",
              "    <div id=\"df-b386ff4c-a150-4666-9968-695efa0eda20\">\n",
              "      <button class=\"colab-df-quickchart\" onclick=\"quickchart('df-b386ff4c-a150-4666-9968-695efa0eda20')\"\n",
              "                title=\"Suggest charts\"\n",
              "                style=\"display:none;\">\n",
              "\n",
              "<svg xmlns=\"http://www.w3.org/2000/svg\" height=\"24px\"viewBox=\"0 0 24 24\"\n",
              "     width=\"24px\">\n",
              "    <g>\n",
              "        <path d=\"M19 3H5c-1.1 0-2 .9-2 2v14c0 1.1.9 2 2 2h14c1.1 0 2-.9 2-2V5c0-1.1-.9-2-2-2zM9 17H7v-7h2v7zm4 0h-2V7h2v10zm4 0h-2v-4h2v4z\"/>\n",
              "    </g>\n",
              "</svg>\n",
              "      </button>\n",
              "\n",
              "<style>\n",
              "  .colab-df-quickchart {\n",
              "      --bg-color: #E8F0FE;\n",
              "      --fill-color: #1967D2;\n",
              "      --hover-bg-color: #E2EBFA;\n",
              "      --hover-fill-color: #174EA6;\n",
              "      --disabled-fill-color: #AAA;\n",
              "      --disabled-bg-color: #DDD;\n",
              "  }\n",
              "\n",
              "  [theme=dark] .colab-df-quickchart {\n",
              "      --bg-color: #3B4455;\n",
              "      --fill-color: #D2E3FC;\n",
              "      --hover-bg-color: #434B5C;\n",
              "      --hover-fill-color: #FFFFFF;\n",
              "      --disabled-bg-color: #3B4455;\n",
              "      --disabled-fill-color: #666;\n",
              "  }\n",
              "\n",
              "  .colab-df-quickchart {\n",
              "    background-color: var(--bg-color);\n",
              "    border: none;\n",
              "    border-radius: 50%;\n",
              "    cursor: pointer;\n",
              "    display: none;\n",
              "    fill: var(--fill-color);\n",
              "    height: 32px;\n",
              "    padding: 0;\n",
              "    width: 32px;\n",
              "  }\n",
              "\n",
              "  .colab-df-quickchart:hover {\n",
              "    background-color: var(--hover-bg-color);\n",
              "    box-shadow: 0 1px 2px rgba(60, 64, 67, 0.3), 0 1px 3px 1px rgba(60, 64, 67, 0.15);\n",
              "    fill: var(--button-hover-fill-color);\n",
              "  }\n",
              "\n",
              "  .colab-df-quickchart-complete:disabled,\n",
              "  .colab-df-quickchart-complete:disabled:hover {\n",
              "    background-color: var(--disabled-bg-color);\n",
              "    fill: var(--disabled-fill-color);\n",
              "    box-shadow: none;\n",
              "  }\n",
              "\n",
              "  .colab-df-spinner {\n",
              "    border: 2px solid var(--fill-color);\n",
              "    border-color: transparent;\n",
              "    border-bottom-color: var(--fill-color);\n",
              "    animation:\n",
              "      spin 1s steps(1) infinite;\n",
              "  }\n",
              "\n",
              "  @keyframes spin {\n",
              "    0% {\n",
              "      border-color: transparent;\n",
              "      border-bottom-color: var(--fill-color);\n",
              "      border-left-color: var(--fill-color);\n",
              "    }\n",
              "    20% {\n",
              "      border-color: transparent;\n",
              "      border-left-color: var(--fill-color);\n",
              "      border-top-color: var(--fill-color);\n",
              "    }\n",
              "    30% {\n",
              "      border-color: transparent;\n",
              "      border-left-color: var(--fill-color);\n",
              "      border-top-color: var(--fill-color);\n",
              "      border-right-color: var(--fill-color);\n",
              "    }\n",
              "    40% {\n",
              "      border-color: transparent;\n",
              "      border-right-color: var(--fill-color);\n",
              "      border-top-color: var(--fill-color);\n",
              "    }\n",
              "    60% {\n",
              "      border-color: transparent;\n",
              "      border-right-color: var(--fill-color);\n",
              "    }\n",
              "    80% {\n",
              "      border-color: transparent;\n",
              "      border-right-color: var(--fill-color);\n",
              "      border-bottom-color: var(--fill-color);\n",
              "    }\n",
              "    90% {\n",
              "      border-color: transparent;\n",
              "      border-bottom-color: var(--fill-color);\n",
              "    }\n",
              "  }\n",
              "</style>\n",
              "\n",
              "      <script>\n",
              "        async function quickchart(key) {\n",
              "          const quickchartButtonEl =\n",
              "            document.querySelector('#' + key + ' button');\n",
              "          quickchartButtonEl.disabled = true;  // To prevent multiple clicks.\n",
              "          quickchartButtonEl.classList.add('colab-df-spinner');\n",
              "          try {\n",
              "            const charts = await google.colab.kernel.invokeFunction(\n",
              "                'suggestCharts', [key], {});\n",
              "          } catch (error) {\n",
              "            console.error('Error during call to suggestCharts:', error);\n",
              "          }\n",
              "          quickchartButtonEl.classList.remove('colab-df-spinner');\n",
              "          quickchartButtonEl.classList.add('colab-df-quickchart-complete');\n",
              "        }\n",
              "        (() => {\n",
              "          let quickchartButtonEl =\n",
              "            document.querySelector('#df-b386ff4c-a150-4666-9968-695efa0eda20 button');\n",
              "          quickchartButtonEl.style.display =\n",
              "            google.colab.kernel.accessAllowed ? 'block' : 'none';\n",
              "        })();\n",
              "      </script>\n",
              "    </div>\n",
              "\n",
              "    </div>\n",
              "  </div>\n"
            ],
            "application/vnd.google.colaboratory.intrinsic+json": {
              "type": "dataframe",
              "variable_name": "df",
              "summary": "{\n  \"name\": \"df\",\n  \"rows\": 14123,\n  \"fields\": [\n    {\n      \"column\": \"verdict\",\n      \"properties\": {\n        \"dtype\": \"category\",\n        \"num_unique_values\": 4,\n        \"samples\": [\n          \"false\",\n          \"pants-fire\",\n          \"true\"\n        ],\n        \"semantic_type\": \"\",\n        \"description\": \"\"\n      }\n    },\n    {\n      \"column\": \"statement_originator\",\n      \"properties\": {\n        \"dtype\": \"category\",\n        \"num_unique_values\": 3475,\n        \"samples\": [\n          \"Mac Heller\",\n          \"Ruben Hinojosa\",\n          \"AmericanNews.com\"\n        ],\n        \"semantic_type\": \"\",\n        \"description\": \"\"\n      }\n    },\n    {\n      \"column\": \"statement\",\n      \"properties\": {\n        \"dtype\": \"string\",\n        \"num_unique_values\": 14113,\n        \"samples\": [\n          \"Says Lee Majors died and left $6 million to Donald Trump.\",\n          \"Says H.R. 1 \\\"allows minors to vote.\\\"\",\n          \"\\\"Only half of the murders in the city of St. Louis get solved.\\\"\"\n        ],\n        \"semantic_type\": \"\",\n        \"description\": \"\"\n      }\n    },\n    {\n      \"column\": \"statement_date\",\n      \"properties\": {\n        \"dtype\": \"object\",\n        \"num_unique_values\": 4374,\n        \"samples\": [\n          \"1/11/2021\",\n          \"9/26/2020\",\n          \"10/9/2016\"\n        ],\n        \"semantic_type\": \"\",\n        \"description\": \"\"\n      }\n    },\n    {\n      \"column\": \"statement_source\",\n      \"properties\": {\n        \"dtype\": \"category\",\n        \"num_unique_values\": 13,\n        \"samples\": [\n          \"testimony\",\n          \"radio\",\n          \"speech\"\n        ],\n        \"semantic_type\": \"\",\n        \"description\": \"\"\n      }\n    },\n    {\n      \"column\": \"factchecker\",\n      \"properties\": {\n        \"dtype\": \"category\",\n        \"num_unique_values\": 486,\n        \"samples\": [\n          \"Emma Roller\",\n          \"Vanessa Swales\",\n          \"Michaela Winberg\"\n        ],\n        \"semantic_type\": \"\",\n        \"description\": \"\"\n      }\n    },\n    {\n      \"column\": \"factcheck_date\",\n      \"properties\": {\n        \"dtype\": \"object\",\n        \"num_unique_values\": 4017,\n        \"samples\": [\n          \"1/25/2018\",\n          \"7/7/2011\",\n          \"7/29/2019\"\n        ],\n        \"semantic_type\": \"\",\n        \"description\": \"\"\n      }\n    },\n    {\n      \"column\": \"factcheck_analysis_link\",\n      \"properties\": {\n        \"dtype\": \"string\",\n        \"num_unique_values\": 14122,\n        \"samples\": [\n          \"https://www.politifact.com/factchecks/2017/may/26/blog-posting/fake-news-posts-say-us-rep-trey-gowdys-son-found-d/\",\n          \"https://www.politifact.com/factchecks/2018/aug/20/tammy-baldwin/lgbtq-advocates-back-sen-baldwins-statement-trump-/\",\n          \"https://www.politifact.com/factchecks/2009/dec/02/glenn-beck/beck-says-less-10-percent-obama-cabinet-members-ha/\"\n        ],\n        \"semantic_type\": \"\",\n        \"description\": \"\"\n      }\n    },\n    {\n      \"column\": \"binary_verdict\",\n      \"properties\": {\n        \"dtype\": \"number\",\n        \"std\": 0,\n        \"min\": 0,\n        \"max\": 1,\n        \"num_unique_values\": 2,\n        \"samples\": [\n          1,\n          0\n        ],\n        \"semantic_type\": \"\",\n        \"description\": \"\"\n      }\n    }\n  ]\n}"
            }
          },
          "metadata": {},
          "execution_count": 6
        }
      ],
      "execution_count": null
    },
    {
      "cell_type": "markdown",
      "source": [
        "Drop un-unsed metadata"
      ],
      "metadata": {
        "id": "r7BRohu9AJ6w"
      }
    },
    {
      "cell_type": "code",
      "source": [
        "columns_to_drop = [\n",
        "    'factchecker',\n",
        "    'factcheck_date',\n",
        "    'factcheck_analysis_link',\n",
        "    'statement_originator'\n",
        "]\n",
        "df.drop(columns_to_drop, axis=1, inplace=True)"
      ],
      "metadata": {
        "id": "8e9EfnqRPqNx"
      },
      "execution_count": null,
      "outputs": []
    },
    {
      "cell_type": "markdown",
      "source": [
        "### 4. Baseline | SentenceBERT Embedding w/ simple metadata\n"
      ],
      "metadata": {
        "id": "nkdsFiuNlJsc"
      }
    },
    {
      "cell_type": "markdown",
      "source": [
        "4-1. Get `statement_year`"
      ],
      "metadata": {
        "id": "2YWhRHnO6w2n"
      }
    },
    {
      "cell_type": "code",
      "source": [
        "df['statement_year'] = df['statement_date'].str.split('/').str[-1]\n",
        "df.drop('statement_date', axis=1, inplace=True)\n",
        "df.head()"
      ],
      "metadata": {
        "colab": {
          "base_uri": "https://localhost:8080/"
        },
        "id": "zTgMcvf9QXNb",
        "outputId": "c88b8642-42fb-4e89-e943-813ce89eb9fe"
      },
      "execution_count": null,
      "outputs": [
        {
          "output_type": "execute_result",
          "data": {
            "text/plain": [
              "       verdict                                          statement  \\\n",
              "0         true  John McCain opposed bankruptcy protections for...   \n",
              "1        false  \"Bennie Thompson actively cheer-led riots in t...   \n",
              "2  mostly-true  Says Maggie Hassan was \"out of state on 30 day...   \n",
              "3        false  \"BUSTED: CDC Inflated COVID Numbers, Accused o...   \n",
              "4         true  \"There are actually only 30 countries that pra...   \n",
              "\n",
              "  statement_source  binary_verdict statement_year  \n",
              "0           speech               0           2008  \n",
              "1       television               1           2022  \n",
              "2             news               0           2016  \n",
              "3             blog               1           2021  \n",
              "4             news               0           2015  "
            ],
            "text/html": [
              "\n",
              "  <div id=\"df-1900388d-b8c3-49f3-a356-19f9323357f5\" class=\"colab-df-container\">\n",
              "    <div>\n",
              "<style scoped>\n",
              "    .dataframe tbody tr th:only-of-type {\n",
              "        vertical-align: middle;\n",
              "    }\n",
              "\n",
              "    .dataframe tbody tr th {\n",
              "        vertical-align: top;\n",
              "    }\n",
              "\n",
              "    .dataframe thead th {\n",
              "        text-align: right;\n",
              "    }\n",
              "</style>\n",
              "<table border=\"1\" class=\"dataframe\">\n",
              "  <thead>\n",
              "    <tr style=\"text-align: right;\">\n",
              "      <th></th>\n",
              "      <th>verdict</th>\n",
              "      <th>statement</th>\n",
              "      <th>statement_source</th>\n",
              "      <th>binary_verdict</th>\n",
              "      <th>statement_year</th>\n",
              "    </tr>\n",
              "  </thead>\n",
              "  <tbody>\n",
              "    <tr>\n",
              "      <th>0</th>\n",
              "      <td>true</td>\n",
              "      <td>John McCain opposed bankruptcy protections for...</td>\n",
              "      <td>speech</td>\n",
              "      <td>0</td>\n",
              "      <td>2008</td>\n",
              "    </tr>\n",
              "    <tr>\n",
              "      <th>1</th>\n",
              "      <td>false</td>\n",
              "      <td>\"Bennie Thompson actively cheer-led riots in t...</td>\n",
              "      <td>television</td>\n",
              "      <td>1</td>\n",
              "      <td>2022</td>\n",
              "    </tr>\n",
              "    <tr>\n",
              "      <th>2</th>\n",
              "      <td>mostly-true</td>\n",
              "      <td>Says Maggie Hassan was \"out of state on 30 day...</td>\n",
              "      <td>news</td>\n",
              "      <td>0</td>\n",
              "      <td>2016</td>\n",
              "    </tr>\n",
              "    <tr>\n",
              "      <th>3</th>\n",
              "      <td>false</td>\n",
              "      <td>\"BUSTED: CDC Inflated COVID Numbers, Accused o...</td>\n",
              "      <td>blog</td>\n",
              "      <td>1</td>\n",
              "      <td>2021</td>\n",
              "    </tr>\n",
              "    <tr>\n",
              "      <th>4</th>\n",
              "      <td>true</td>\n",
              "      <td>\"There are actually only 30 countries that pra...</td>\n",
              "      <td>news</td>\n",
              "      <td>0</td>\n",
              "      <td>2015</td>\n",
              "    </tr>\n",
              "  </tbody>\n",
              "</table>\n",
              "</div>\n",
              "    <div class=\"colab-df-buttons\">\n",
              "\n",
              "  <div class=\"colab-df-container\">\n",
              "    <button class=\"colab-df-convert\" onclick=\"convertToInteractive('df-1900388d-b8c3-49f3-a356-19f9323357f5')\"\n",
              "            title=\"Convert this dataframe to an interactive table.\"\n",
              "            style=\"display:none;\">\n",
              "\n",
              "  <svg xmlns=\"http://www.w3.org/2000/svg\" height=\"24px\" viewBox=\"0 -960 960 960\">\n",
              "    <path d=\"M120-120v-720h720v720H120Zm60-500h600v-160H180v160Zm220 220h160v-160H400v160Zm0 220h160v-160H400v160ZM180-400h160v-160H180v160Zm440 0h160v-160H620v160ZM180-180h160v-160H180v160Zm440 0h160v-160H620v160Z\"/>\n",
              "  </svg>\n",
              "    </button>\n",
              "\n",
              "  <style>\n",
              "    .colab-df-container {\n",
              "      display:flex;\n",
              "      gap: 12px;\n",
              "    }\n",
              "\n",
              "    .colab-df-convert {\n",
              "      background-color: #E8F0FE;\n",
              "      border: none;\n",
              "      border-radius: 50%;\n",
              "      cursor: pointer;\n",
              "      display: none;\n",
              "      fill: #1967D2;\n",
              "      height: 32px;\n",
              "      padding: 0 0 0 0;\n",
              "      width: 32px;\n",
              "    }\n",
              "\n",
              "    .colab-df-convert:hover {\n",
              "      background-color: #E2EBFA;\n",
              "      box-shadow: 0px 1px 2px rgba(60, 64, 67, 0.3), 0px 1px 3px 1px rgba(60, 64, 67, 0.15);\n",
              "      fill: #174EA6;\n",
              "    }\n",
              "\n",
              "    .colab-df-buttons div {\n",
              "      margin-bottom: 4px;\n",
              "    }\n",
              "\n",
              "    [theme=dark] .colab-df-convert {\n",
              "      background-color: #3B4455;\n",
              "      fill: #D2E3FC;\n",
              "    }\n",
              "\n",
              "    [theme=dark] .colab-df-convert:hover {\n",
              "      background-color: #434B5C;\n",
              "      box-shadow: 0px 1px 3px 1px rgba(0, 0, 0, 0.15);\n",
              "      filter: drop-shadow(0px 1px 2px rgba(0, 0, 0, 0.3));\n",
              "      fill: #FFFFFF;\n",
              "    }\n",
              "  </style>\n",
              "\n",
              "    <script>\n",
              "      const buttonEl =\n",
              "        document.querySelector('#df-1900388d-b8c3-49f3-a356-19f9323357f5 button.colab-df-convert');\n",
              "      buttonEl.style.display =\n",
              "        google.colab.kernel.accessAllowed ? 'block' : 'none';\n",
              "\n",
              "      async function convertToInteractive(key) {\n",
              "        const element = document.querySelector('#df-1900388d-b8c3-49f3-a356-19f9323357f5');\n",
              "        const dataTable =\n",
              "          await google.colab.kernel.invokeFunction('convertToInteractive',\n",
              "                                                    [key], {});\n",
              "        if (!dataTable) return;\n",
              "\n",
              "        const docLinkHtml = 'Like what you see? Visit the ' +\n",
              "          '<a target=\"_blank\" href=https://colab.research.google.com/notebooks/data_table.ipynb>data table notebook</a>'\n",
              "          + ' to learn more about interactive tables.';\n",
              "        element.innerHTML = '';\n",
              "        dataTable['output_type'] = 'display_data';\n",
              "        await google.colab.output.renderOutput(dataTable, element);\n",
              "        const docLink = document.createElement('div');\n",
              "        docLink.innerHTML = docLinkHtml;\n",
              "        element.appendChild(docLink);\n",
              "      }\n",
              "    </script>\n",
              "  </div>\n",
              "\n",
              "\n",
              "    <div id=\"df-9773d855-279f-49fd-95a8-67100caa033a\">\n",
              "      <button class=\"colab-df-quickchart\" onclick=\"quickchart('df-9773d855-279f-49fd-95a8-67100caa033a')\"\n",
              "                title=\"Suggest charts\"\n",
              "                style=\"display:none;\">\n",
              "\n",
              "<svg xmlns=\"http://www.w3.org/2000/svg\" height=\"24px\"viewBox=\"0 0 24 24\"\n",
              "     width=\"24px\">\n",
              "    <g>\n",
              "        <path d=\"M19 3H5c-1.1 0-2 .9-2 2v14c0 1.1.9 2 2 2h14c1.1 0 2-.9 2-2V5c0-1.1-.9-2-2-2zM9 17H7v-7h2v7zm4 0h-2V7h2v10zm4 0h-2v-4h2v4z\"/>\n",
              "    </g>\n",
              "</svg>\n",
              "      </button>\n",
              "\n",
              "<style>\n",
              "  .colab-df-quickchart {\n",
              "      --bg-color: #E8F0FE;\n",
              "      --fill-color: #1967D2;\n",
              "      --hover-bg-color: #E2EBFA;\n",
              "      --hover-fill-color: #174EA6;\n",
              "      --disabled-fill-color: #AAA;\n",
              "      --disabled-bg-color: #DDD;\n",
              "  }\n",
              "\n",
              "  [theme=dark] .colab-df-quickchart {\n",
              "      --bg-color: #3B4455;\n",
              "      --fill-color: #D2E3FC;\n",
              "      --hover-bg-color: #434B5C;\n",
              "      --hover-fill-color: #FFFFFF;\n",
              "      --disabled-bg-color: #3B4455;\n",
              "      --disabled-fill-color: #666;\n",
              "  }\n",
              "\n",
              "  .colab-df-quickchart {\n",
              "    background-color: var(--bg-color);\n",
              "    border: none;\n",
              "    border-radius: 50%;\n",
              "    cursor: pointer;\n",
              "    display: none;\n",
              "    fill: var(--fill-color);\n",
              "    height: 32px;\n",
              "    padding: 0;\n",
              "    width: 32px;\n",
              "  }\n",
              "\n",
              "  .colab-df-quickchart:hover {\n",
              "    background-color: var(--hover-bg-color);\n",
              "    box-shadow: 0 1px 2px rgba(60, 64, 67, 0.3), 0 1px 3px 1px rgba(60, 64, 67, 0.15);\n",
              "    fill: var(--button-hover-fill-color);\n",
              "  }\n",
              "\n",
              "  .colab-df-quickchart-complete:disabled,\n",
              "  .colab-df-quickchart-complete:disabled:hover {\n",
              "    background-color: var(--disabled-bg-color);\n",
              "    fill: var(--disabled-fill-color);\n",
              "    box-shadow: none;\n",
              "  }\n",
              "\n",
              "  .colab-df-spinner {\n",
              "    border: 2px solid var(--fill-color);\n",
              "    border-color: transparent;\n",
              "    border-bottom-color: var(--fill-color);\n",
              "    animation:\n",
              "      spin 1s steps(1) infinite;\n",
              "  }\n",
              "\n",
              "  @keyframes spin {\n",
              "    0% {\n",
              "      border-color: transparent;\n",
              "      border-bottom-color: var(--fill-color);\n",
              "      border-left-color: var(--fill-color);\n",
              "    }\n",
              "    20% {\n",
              "      border-color: transparent;\n",
              "      border-left-color: var(--fill-color);\n",
              "      border-top-color: var(--fill-color);\n",
              "    }\n",
              "    30% {\n",
              "      border-color: transparent;\n",
              "      border-left-color: var(--fill-color);\n",
              "      border-top-color: var(--fill-color);\n",
              "      border-right-color: var(--fill-color);\n",
              "    }\n",
              "    40% {\n",
              "      border-color: transparent;\n",
              "      border-right-color: var(--fill-color);\n",
              "      border-top-color: var(--fill-color);\n",
              "    }\n",
              "    60% {\n",
              "      border-color: transparent;\n",
              "      border-right-color: var(--fill-color);\n",
              "    }\n",
              "    80% {\n",
              "      border-color: transparent;\n",
              "      border-right-color: var(--fill-color);\n",
              "      border-bottom-color: var(--fill-color);\n",
              "    }\n",
              "    90% {\n",
              "      border-color: transparent;\n",
              "      border-bottom-color: var(--fill-color);\n",
              "    }\n",
              "  }\n",
              "</style>\n",
              "\n",
              "      <script>\n",
              "        async function quickchart(key) {\n",
              "          const quickchartButtonEl =\n",
              "            document.querySelector('#' + key + ' button');\n",
              "          quickchartButtonEl.disabled = true;  // To prevent multiple clicks.\n",
              "          quickchartButtonEl.classList.add('colab-df-spinner');\n",
              "          try {\n",
              "            const charts = await google.colab.kernel.invokeFunction(\n",
              "                'suggestCharts', [key], {});\n",
              "          } catch (error) {\n",
              "            console.error('Error during call to suggestCharts:', error);\n",
              "          }\n",
              "          quickchartButtonEl.classList.remove('colab-df-spinner');\n",
              "          quickchartButtonEl.classList.add('colab-df-quickchart-complete');\n",
              "        }\n",
              "        (() => {\n",
              "          let quickchartButtonEl =\n",
              "            document.querySelector('#df-9773d855-279f-49fd-95a8-67100caa033a button');\n",
              "          quickchartButtonEl.style.display =\n",
              "            google.colab.kernel.accessAllowed ? 'block' : 'none';\n",
              "        })();\n",
              "      </script>\n",
              "    </div>\n",
              "\n",
              "    </div>\n",
              "  </div>\n"
            ],
            "application/vnd.google.colaboratory.intrinsic+json": {
              "type": "dataframe",
              "variable_name": "df",
              "summary": "{\n  \"name\": \"df\",\n  \"rows\": 14123,\n  \"fields\": [\n    {\n      \"column\": \"verdict\",\n      \"properties\": {\n        \"dtype\": \"category\",\n        \"num_unique_values\": 4,\n        \"samples\": [\n          \"false\",\n          \"pants-fire\",\n          \"true\"\n        ],\n        \"semantic_type\": \"\",\n        \"description\": \"\"\n      }\n    },\n    {\n      \"column\": \"statement\",\n      \"properties\": {\n        \"dtype\": \"string\",\n        \"num_unique_values\": 14113,\n        \"samples\": [\n          \"Says Lee Majors died and left $6 million to Donald Trump.\",\n          \"Says H.R. 1 \\\"allows minors to vote.\\\"\",\n          \"\\\"Only half of the murders in the city of St. Louis get solved.\\\"\"\n        ],\n        \"semantic_type\": \"\",\n        \"description\": \"\"\n      }\n    },\n    {\n      \"column\": \"statement_source\",\n      \"properties\": {\n        \"dtype\": \"category\",\n        \"num_unique_values\": 13,\n        \"samples\": [\n          \"testimony\",\n          \"radio\",\n          \"speech\"\n        ],\n        \"semantic_type\": \"\",\n        \"description\": \"\"\n      }\n    },\n    {\n      \"column\": \"binary_verdict\",\n      \"properties\": {\n        \"dtype\": \"number\",\n        \"std\": 0,\n        \"min\": 0,\n        \"max\": 1,\n        \"num_unique_values\": 2,\n        \"samples\": [\n          1,\n          0\n        ],\n        \"semantic_type\": \"\",\n        \"description\": \"\"\n      }\n    },\n    {\n      \"column\": \"statement_year\",\n      \"properties\": {\n        \"dtype\": \"object\",\n        \"num_unique_values\": 17,\n        \"samples\": [\n          \"2008\",\n          \"2022\"\n        ],\n        \"semantic_type\": \"\",\n        \"description\": \"\"\n      }\n    }\n  ]\n}"
            }
          },
          "metadata": {},
          "execution_count": 8
        }
      ]
    },
    {
      "cell_type": "markdown",
      "source": [
        "4-2. Extract Sentence BERT embeddings"
      ],
      "metadata": {
        "id": "BFjKdSSb65yx"
      }
    },
    {
      "cell_type": "code",
      "source": [
        "from sentence_transformers import SentenceTransformer\n",
        "sbert_model_name = 'all-MiniLM-L6-v2'\n",
        "sbert_model = SentenceTransformer(sbert_model_name)"
      ],
      "metadata": {
        "id": "qWR-bGKrsGH3"
      },
      "execution_count": null,
      "outputs": []
    },
    {
      "cell_type": "code",
      "source": [
        "statement_embeddings = sbert_model.encode(df['statement'].tolist(), show_progress_bar=True)\n",
        "statement_embeddings.shape"
      ],
      "metadata": {
        "id": "we1lqaIatQdz"
      },
      "execution_count": null,
      "outputs": []
    },
    {
      "cell_type": "code",
      "source": [
        "# Combine embeddings with the original DataFrame\n",
        "embedding_dim = statement_embeddings.shape[1]\n",
        "embedding_feature_names = [f'embed_{i}' for i in range(embedding_dim)]\n",
        "embeddings_df = pd.DataFrame(statement_embeddings, columns=embedding_feature_names, index=df.index)\n",
        "\n",
        "df = pd.concat([df.drop(['statement'], axis=1), embeddings_df], axis=1)"
      ],
      "metadata": {
        "id": "VGiTTe9FtJc3"
      },
      "execution_count": null,
      "outputs": []
    },
    {
      "cell_type": "markdown",
      "source": [
        "4-3. Convert text / integer data type to `category` for XGBoost"
      ],
      "metadata": {
        "id": "b5U0fM5ayO3v"
      }
    },
    {
      "cell_type": "code",
      "source": [
        "df.statement_source = df.statement_source.astype('category')\n",
        "df.statement_year = df.statement_year.astype('category')"
      ],
      "metadata": {
        "id": "IHgD-qFzVvgA"
      },
      "execution_count": null,
      "outputs": []
    },
    {
      "cell_type": "code",
      "source": [
        "y = df.binary_verdict\n",
        "X = df.drop(['verdict', 'binary_verdict'], axis=1)"
      ],
      "metadata": {
        "id": "6m_HGuCwTJzg"
      },
      "execution_count": null,
      "outputs": []
    },
    {
      "cell_type": "markdown",
      "source": [
        "4-4. Dataset split"
      ],
      "metadata": {
        "id": "CVmcMd5X3p6Z"
      }
    },
    {
      "cell_type": "code",
      "source": [
        "X_train, X_valid, y_train, y_valid = train_test_split(X, y, train_size=0.8, stratify=y, random_state=42)\n",
        "X_valid, X_test, y_valid, y_test = train_test_split(X_valid, y_valid, train_size=0.5, stratify=y_valid, random_state=42)\n",
        "print(len(X_train), len(X_valid), len(X_test))"
      ],
      "metadata": {
        "id": "GbsogWiRTRdu",
        "colab": {
          "base_uri": "https://localhost:8080/"
        },
        "outputId": "aeff2f29-1588-465f-d02e-19783beb0bb6"
      },
      "execution_count": null,
      "outputs": [
        {
          "output_type": "stream",
          "name": "stdout",
          "text": [
            "11298 1412 1413\n"
          ]
        }
      ]
    },
    {
      "cell_type": "markdown",
      "source": [
        "### 5. Classifier | Gradient Boosting based Models"
      ],
      "metadata": {
        "id": "I9-DTMri7GYv"
      }
    },
    {
      "cell_type": "code",
      "source": [
        "from lightgbm import LGBMClassifier\n",
        "from xgboost import XGBClassifier\n",
        "from sklearn.model_selection import GridSearchCV"
      ],
      "metadata": {
        "id": "SZgRINftTjGr"
      },
      "execution_count": null,
      "outputs": []
    },
    {
      "cell_type": "markdown",
      "source": [
        "#### 5-1. LGBM"
      ],
      "metadata": {
        "id": "FkgTgigQ9J6w"
      }
    },
    {
      "cell_type": "code",
      "source": [
        "lgbm = LGBMClassifier()\n",
        "\n",
        "param_grid = {\n",
        "    'max_depth': [3, 5],\n",
        "    'n_estimators': [100, 200]\n",
        "}\n",
        "\n",
        "grid = GridSearchCV(\n",
        "    estimator=lgbm,\n",
        "    param_grid=param_grid,\n",
        "    scoring='roc_auc',\n",
        "    cv=3,\n",
        "    verbose=1,\n",
        "    n_jobs=-1\n",
        ")\n",
        "\n",
        "grid.fit(X_train, y_train, **{'categorical_feature': 'auto'})"
      ],
      "metadata": {
        "id": "2TVT3OzETYvi"
      },
      "execution_count": null,
      "outputs": []
    },
    {
      "cell_type": "code",
      "source": [
        "# Get the best model\n",
        "best_model = grid.best_estimator_\n",
        "y_test_pred_lgbm = best_model.predict(X_test)\n",
        "y_test_proba_lgbm = best_model.predict_proba(X_test)\n",
        "\n",
        "print(grid.best_params_)\n",
        "print(classification_report(y_test, y_test_pred_lgbm))"
      ],
      "metadata": {
        "colab": {
          "base_uri": "https://localhost:8080/"
        },
        "id": "9XJQC_rby87b",
        "outputId": "ca542624-7ecd-49d2-8a3f-d0d1918d4fea"
      },
      "execution_count": null,
      "outputs": [
        {
          "output_type": "stream",
          "name": "stdout",
          "text": [
            "{'max_depth': 5, 'n_estimators': 200}\n",
            "              precision    recall  f1-score   support\n",
            "\n",
            "           0       0.67      0.69      0.68       580\n",
            "           1       0.78      0.77      0.77       833\n",
            "\n",
            "    accuracy                           0.73      1413\n",
            "   macro avg       0.73      0.73      0.73      1413\n",
            "weighted avg       0.74      0.73      0.73      1413\n",
            "\n"
          ]
        }
      ]
    },
    {
      "cell_type": "markdown",
      "source": [
        "#### 5-2. XGBoost"
      ],
      "metadata": {
        "id": "rVHB2Gj4Kvvv"
      }
    },
    {
      "cell_type": "code",
      "source": [
        "import time\n",
        "\n",
        "xgb_model = XGBClassifier(\n",
        "    objective='binary:logistic',\n",
        "    eval_metric='logloss',\n",
        "    random_state=42,\n",
        "    learning_rate=0.1,\n",
        "    enable_categorical=True,\n",
        ")\n",
        "\n",
        "param_grid = {\n",
        "    'max_depth': [3, 5],\n",
        "    'n_estimators': [100, 200],\n",
        "}\n",
        "\n",
        "start_time = time.time()\n",
        "\n",
        "grid_search = GridSearchCV(\n",
        "    estimator=xgb_model,\n",
        "    param_grid=param_grid,\n",
        "    scoring='roc_auc',\n",
        "    cv=3,\n",
        "    n_jobs=-1,\n",
        "    verbose=1\n",
        ")\n",
        "\n",
        "grid_search.fit(X_train, y_train)\n",
        "\n",
        "end_time = time.time()\n",
        "print(f\"GridSearchCV completed in {end_time - start_time:.2f} seconds.\")"
      ],
      "metadata": {
        "colab": {
          "base_uri": "https://localhost:8080/"
        },
        "id": "_STuOxbM0jVX",
        "outputId": "6859219d-9da6-44fc-e0fc-af29c6c52269"
      },
      "execution_count": null,
      "outputs": [
        {
          "output_type": "stream",
          "name": "stdout",
          "text": [
            "Fitting 3 folds for each of 4 candidates, totalling 12 fits\n",
            "GridSearchCV completed in 125.24 seconds.\n"
          ]
        }
      ]
    },
    {
      "cell_type": "code",
      "source": [
        "# Get the best model\n",
        "best_model = grid_search.best_estimator_\n",
        "y_test_pred_xgb = best_model.predict(X_test)\n",
        "y_test_proba_xgb = best_model.predict_proba(X_test)\n",
        "\n",
        "print(grid_search.best_params_)\n",
        "print(classification_report(y_test, y_test_pred_xgb))"
      ],
      "metadata": {
        "colab": {
          "base_uri": "https://localhost:8080/"
        },
        "id": "GvWFgaGU4T6Z",
        "outputId": "ffa0f2ba-4bb2-4c54-fb6e-be9ef19fa7ea"
      },
      "execution_count": null,
      "outputs": [
        {
          "output_type": "stream",
          "name": "stdout",
          "text": [
            "{'max_depth': 5, 'n_estimators': 200}\n",
            "              precision    recall  f1-score   support\n",
            "\n",
            "           0       0.68      0.69      0.68       580\n",
            "           1       0.78      0.77      0.78       833\n",
            "\n",
            "    accuracy                           0.74      1413\n",
            "   macro avg       0.73      0.73      0.73      1413\n",
            "weighted avg       0.74      0.74      0.74      1413\n",
            "\n"
          ]
        }
      ]
    },
    {
      "cell_type": "markdown",
      "source": [
        "### 5. Evaluation (LGBM & XGBoost)"
      ],
      "metadata": {
        "id": "ER1xDDK4_AzA"
      }
    },
    {
      "cell_type": "code",
      "source": [
        "import matplotlib.pyplot as plt\n",
        "from sklearn.metrics import roc_curve, roc_auc_score, average_precision_score\n",
        "\n",
        "def evaluate_ap_and_auroc(test_labels, test_preds, exp_names):\n",
        "  assert len(test_labels) == len(test_preds) and len(test_labels) == len(exp_names), \\\n",
        "          \"Length of each list should be identical.\"\n",
        "\n",
        "  for labels, preds, exp_name in zip(test_labels, test_preds, exp_names):\n",
        "    fpr, tpr, thresholds = roc_curve(labels, preds)\n",
        "    auc = roc_auc_score(labels, preds)\n",
        "    ap = average_precision_score(labels, preds)\n",
        "    plt.plot(fpr, tpr, label=f'{exp_name} : AUC = {auc:.3f}')\n",
        "    print(f\"[*] {exp_name} : AP = {ap:.3f}, AUROC = {auc:.3f}\")\n",
        "\n",
        "  print(\"-\" * 50)\n",
        "  plt.xlabel('False Positive Rate')\n",
        "  plt.ylabel('True Positive Rate')\n",
        "  plt.title('ROC Curve')\n",
        "  plt.legend()\n",
        "  plt.show()\n",
        "\n",
        "\n",
        "test_preds = [y_test_proba_xgb[:, 1], y_test_proba_lgbm[:, 1]]\n",
        "test_labels = [y_test.to_numpy()] * len(test_preds)\n",
        "exp_names = ['Baseline (XGB)', 'Baseline (LGBM)']\n",
        "\n",
        "evaluate_ap_and_auroc(test_labels, test_preds, exp_names)"
      ],
      "metadata": {
        "colab": {
          "base_uri": "https://localhost:8080/",
          "height": 527
        },
        "id": "anyFKYDf0vui",
        "outputId": "f6d1dd12-9d5c-4f3f-b474-c1ec44cba752"
      },
      "execution_count": null,
      "outputs": [
        {
          "output_type": "stream",
          "name": "stdout",
          "text": [
            "[*] Baseline (XGB) : AP = 0.871, AUROC = 0.811\n",
            "[*] Baseline (LGBM) : AP = 0.871, AUROC = 0.808\n",
            "--------------------------------------------------\n"
          ]
        },
        {
          "output_type": "display_data",
          "data": {
            "text/plain": [
              "<Figure size 640x480 with 1 Axes>"
            ],
            "image/png": "[encoded data removed]"
          },
          "metadata": {}
        }
      ]
    },
    {
      "cell_type": "code",
      "source": [
        "import numpy as np\n",
        "\n",
        "EXP_NAME = \"baseline_lgbm\"\n",
        "PATH = f\"/content/drive/MyDrive/Colab Notebooks/Intro_to_Machine_Learning/weights/{EXP_NAME}_best_preds.npy\"\n",
        "test_preds_probs_best_np = y_test_proba_lgbm[:, 1]\n",
        "\n",
        "with open(PATH, 'wb') as f:\n",
        "    np.save(f, test_preds_probs_best_np)"
      ],
      "metadata": {
        "id": "0zT415vn_sdV"
      },
      "execution_count": null,
      "outputs": []
    },
    {
      "cell_type": "code",
      "source": [
        "import numpy as np\n",
        "\n",
        "EXP_NAME = \"baseline_xgboost\"\n",
        "PATH = f\"/content/drive/MyDrive/Colab Notebooks/Intro_to_Machine_Learning/weights/{EXP_NAME}_best_preds.npy\"\n",
        "test_preds_probs_best_np = y_test_proba_xgb[:, 1]\n",
        "\n",
        "with open(PATH, 'wb') as f:\n",
        "    np.save(f, test_preds_probs_best_np)"
      ],
      "metadata": {
        "id": "F61ZddhT_YWh"
      },
      "execution_count": null,
      "outputs": []
    }
  ]
}