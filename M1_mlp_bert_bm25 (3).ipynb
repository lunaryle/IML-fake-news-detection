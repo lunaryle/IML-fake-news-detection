{
  "cells": [
    {
      "cell_type": "markdown",
      "metadata": {
        "id": "h2us98qNIH1R"
      },
      "source": [
        "#MLP+BERT+BM25+metadata"
      ]
    },
    {
      "cell_type": "code",
      "execution_count": null,
      "metadata": {
        "id": "hmXy4WwsIH1T",
        "outputId": "3ac4b540-7053-415d-c212-0e3a797afea6"
      },
      "outputs": [
        {
          "name": "stdout",
          "output_type": "stream",
          "text": [
            "Drive already mounted at /content/drive; to attempt to forcibly remount, call drive.mount(\"/content/drive\", force_remount=True).\n"
          ]
        }
      ],
      "source": [
        "import pandas as pd\n",
        "import numpy as np\n",
        "import json\n",
        "import torch\n",
        "import torch.nn as nn\n",
        "from torch.utils.data import TensorDataset, DataLoader\n",
        "from sklearn.model_selection import train_test_split\n",
        "from sklearn.preprocessing import OneHotEncoder, StandardScaler\n",
        "from sklearn.metrics import classification_report\n",
        "\n",
        "from google.colab import drive\n",
        "drive.mount('/content/drive')\n",
        "\n",
        "df = pd.read_json('/content/drive/MyDrive/politifact_factcheck_data.json', lines=True)\n",
        "df.columns = df.columns.str.strip()\n",
        "\n",
        "# mostly-false, half-true 제외\n",
        "df['label'] = df['verdict'].apply(\n",
        "    lambda x: 0 if x in ['true', 'mostly-true']\n",
        "    else 1 if x in ['false', 'pants-fire', 'barely-true']\n",
        "    else np.nan\n",
        ")\n",
        "df = df.dropna(subset=['label'])\n",
        "df['label'] = df['label'].astype(int)\n",
        "\n",
        "df = df.drop(['factchecker', 'factcheck_date', 'factcheck_analysis_link'], axis=1)"
      ]
    },
    {
      "cell_type": "code",
      "execution_count": null,
      "metadata": {
        "id": "hygT3v-MIH1W",
        "outputId": "486ddcca-e526-4ca5-d221-017176b9bcc7"
      },
      "outputs": [
        {
          "name": "stdout",
          "output_type": "stream",
          "text": [
            "Index(['verdict', 'statement_originator', 'statement', 'statement_date',\n",
            "       'statement_source', 'label'],\n",
            "      dtype='object')\n"
          ]
        }
      ],
      "source": [
        "print(df.columns)"
      ]
    },
    {
      "cell_type": "markdown",
      "metadata": {
        "id": "8M8Aj4tJIH1X"
      },
      "source": [
        "# BM25"
      ]
    },
    {
      "cell_type": "code",
      "execution_count": null,
      "metadata": {
        "id": "SKtcJipOIH1Y",
        "outputId": "f796e921-366c-4dcb-ecf3-4d45fd9f42a2"
      },
      "outputs": [
        {
          "name": "stdout",
          "output_type": "stream",
          "text": [
            "Requirement already satisfied: rank_bm25 in /usr/local/lib/python3.11/dist-packages (0.2.2)\n",
            "Requirement already satisfied: numpy in /usr/local/lib/python3.11/dist-packages (from rank_bm25) (2.0.2)\n"
          ]
        }
      ],
      "source": [
        "!pip install rank_bm25"
      ]
    },
    {
      "cell_type": "code",
      "execution_count": null,
      "metadata": {
        "id": "BfXwG5Y3IH1Y"
      },
      "outputs": [],
      "source": [
        "from rank_bm25 import BM25Okapi\n",
        "# BM25 문장 확장\n",
        "df['statement_source'] = df['statement_source'].fillna(\"\")\n",
        "df['statement_originator'] = df['statement_originator'].fillna(\"\")\n",
        "retrieval_corpus = df.apply(lambda row: f\"{row['statement_source']} {row['statement_originator']}\", axis=1).tolist()\n",
        "tokenized_corpus = [doc.split(\" \") for doc in retrieval_corpus]\n",
        "bm25 = BM25Okapi(tokenized_corpus)\n",
        "\n",
        "def enrich_statement(statement, n=3):\n",
        "    query = statement.split()\n",
        "    retrieved = bm25.get_top_n(query, retrieval_corpus, n=n)\n",
        "    return statement + \" \" + \" \".join(retrieved)\n",
        "\n",
        "df['enriched_text'] = df['statement'].apply(enrich_statement)"
      ]
    },
    {
      "cell_type": "markdown",
      "metadata": {
        "id": "kyJZubHqIH1a"
      },
      "source": [
        "#BERT"
      ]
    },
    {
      "cell_type": "code",
      "execution_count": null,
      "metadata": {
        "id": "cS1bqDMeIH1a",
        "outputId": "8f63902e-8d2d-406a-b120-c340afda30c7",
        "colab": {
          "referenced_widgets": [
            "98daaab9e30a4d8caf22bb87c338b31f"
          ]
        }
      },
      "outputs": [
        {
          "name": "stderr",
          "output_type": "stream",
          "text": [
            "/usr/local/lib/python3.11/dist-packages/huggingface_hub/utils/_auth.py:94: UserWarning: \n",
            "The secret `HF_TOKEN` does not exist in your Colab secrets.\n",
            "To authenticate with the Hugging Face Hub, create a token in your settings tab (https://huggingface.co/settings/tokens), set it as secret in your Google Colab and restart your session.\n",
            "You will be able to reuse this secret in all of your notebooks.\n",
            "Please note that authentication is recommended but still optional to access public models or datasets.\n",
            "  warnings.warn(\n"
          ]
        },
        {
          "data": {
            "application/vnd.jupyter.widget-view+json": {
              "model_id": "98daaab9e30a4d8caf22bb87c338b31f",
              "version_major": 2,
              "version_minor": 0
            },
            "text/plain": [
              "Batches:   0%|          | 0/442 [00:00<?, ?it/s]"
            ]
          },
          "metadata": {},
          "output_type": "display_data"
        }
      ],
      "source": [
        "from sentence_transformers import SentenceTransformer\n",
        "from sklearn.model_selection import train_test_split\n",
        "\n",
        "sbert = SentenceTransformer('all-MiniLM-L6-v2')\n",
        "texts = df['enriched_text'].tolist()\n",
        "labels = df['label'].tolist()\n",
        "sbert_embeddings = sbert.encode(texts, batch_size=32, show_progress_bar=True)"
      ]
    },
    {
      "cell_type": "code",
      "execution_count": null,
      "metadata": {
        "id": "0IwX42ZvIH1b"
      },
      "outputs": [],
      "source": [
        "from sklearn.preprocessing import OneHotEncoder\n",
        "\n",
        "df['statement_source'] = df['statement_source'].fillna('unknown')\n",
        "df['statement_originator'] = df['statement_originator'].fillna('unknown')\n",
        "\n",
        "encoder = OneHotEncoder(sparse_output=False, handle_unknown='ignore')\n",
        "meta_encoded = encoder.fit_transform(df[['statement_source', 'statement_originator']])\n",
        "\n",
        "\n",
        "meta_encoded = meta_encoded.astype(np.float32)\n",
        "X_total = np.concatenate([sbert_embeddings, meta_encoded], axis=1)"
      ]
    },
    {
      "cell_type": "code",
      "execution_count": null,
      "metadata": {
        "id": "AT4gioilIH1b"
      },
      "outputs": [],
      "source": [
        "# train/valid/test 분할\n",
        "from sklearn.model_selection import train_test_split\n",
        "\n",
        "y_total = df['label'].values\n",
        "\n",
        "X_train, X_temp, y_train, y_temp = train_test_split(X_total, y_total, test_size=0.2, random_state=42, stratify=y_total)\n",
        "X_valid, X_test, y_valid, y_test = train_test_split(X_temp, y_temp, test_size=0.5, random_state=42, stratify=y_temp)"
      ]
    },
    {
      "cell_type": "code",
      "execution_count": null,
      "metadata": {
        "id": "h_sLuBwwIH1c"
      },
      "outputs": [],
      "source": [
        "import torch\n",
        "from torch.utils.data import TensorDataset, DataLoader\n",
        "\n",
        "X_train_tensor = torch.tensor(X_train, dtype=torch.float32)\n",
        "X_valid_tensor = torch.tensor(X_valid, dtype=torch.float32)\n",
        "X_test_tensor = torch.tensor(X_test, dtype=torch.float32)\n",
        "y_train_tensor = torch.tensor(y_train, dtype=torch.long)\n",
        "y_valid_tensor = torch.tensor(y_valid, dtype=torch.long)\n",
        "y_test_tensor = torch.tensor(y_test, dtype=torch.long)\n",
        "\n",
        "# 4. DataLoader\n",
        "train_loader = DataLoader(TensorDataset(X_train_tensor, y_train_tensor), batch_size=64, shuffle=True)\n",
        "valid_loader = DataLoader(TensorDataset(X_valid_tensor, y_valid_tensor), batch_size=64)\n",
        "test_loader = DataLoader(TensorDataset(X_test_tensor, y_test_tensor), batch_size=64)"
      ]
    },
    {
      "cell_type": "code",
      "execution_count": null,
      "metadata": {
        "id": "-g0Ore98IH1c"
      },
      "outputs": [],
      "source": [
        "import torch.nn as nn\n",
        "\n",
        "class MLP(nn.Module):\n",
        "    def __init__(self, input_dim):\n",
        "        super().__init__()\n",
        "        self.model = nn.Sequential(\n",
        "            nn.Linear(input_dim, 512),\n",
        "            nn.BatchNorm1d(512),\n",
        "            nn.ReLU(),\n",
        "            nn.Dropout(0.5),\n",
        "            nn.Linear(512, 256),\n",
        "            nn.BatchNorm1d(256),\n",
        "            nn.ReLU(),\n",
        "            nn.Dropout(0.4),\n",
        "            nn.Linear(256, 64),\n",
        "            nn.ReLU(),\n",
        "            nn.Dropout(0.3),\n",
        "            nn.Linear(64, 1),\n",
        "            nn.Sigmoid()\n",
        "        )\n",
        "    def forward(self, x):\n",
        "        return self.model(x)\n",
        "\n",
        "model = MLP(input_dim=X_train.shape[1])\n",
        "optimizer = torch.optim.Adam(model.parameters(), lr=1e-3)\n",
        "criterion = nn.BCELoss()"
      ]
    },
    {
      "cell_type": "code",
      "execution_count": null,
      "metadata": {
        "id": "6wrHdhhFIH1d",
        "outputId": "6f59d36d-0604-4a9b-d0f8-ee6aea17c341"
      },
      "outputs": [
        {
          "name": "stdout",
          "output_type": "stream",
          "text": [
            "Epoch 0: Train Loss = 0.5139 | Val Loss = 0.4973\n",
            "Epoch 1: Train Loss = 0.4347 | Val Loss = 0.5063\n",
            "Epoch 2: Train Loss = 0.3551 | Val Loss = 0.5738\n",
            "Epoch 3: Train Loss = 0.2991 | Val Loss = 0.6318\n",
            "Epoch 4: Train Loss = 0.2469 | Val Loss = 0.6573\n",
            "Epoch 5: Train Loss = 0.2232 | Val Loss = 0.6970\n",
            "Early stopping\n",
            "              precision    recall  f1-score   support\n",
            "\n",
            "           0       0.68      0.71      0.70       580\n",
            "           1       0.79      0.77      0.78       833\n",
            "\n",
            "    accuracy                           0.75      1413\n",
            "   macro avg       0.74      0.74      0.74      1413\n",
            "weighted avg       0.75      0.75      0.75      1413\n",
            "\n"
          ]
        }
      ],
      "source": [
        "X_train_tensor = torch.tensor(X_train, dtype=torch.float32)\n",
        "X_valid_tensor = torch.tensor(X_valid, dtype=torch.float32)\n",
        "\n",
        "y_train_tensor = torch.tensor(y_train, dtype=torch.float32).unsqueeze(1)\n",
        "y_valid_tensor = torch.tensor(y_valid, dtype=torch.float32).unsqueeze(1)\n",
        "\n",
        "train_loader = DataLoader(TensorDataset(X_train_tensor, y_train_tensor), batch_size=64, shuffle=True)\n",
        "valid_loader = DataLoader(TensorDataset(X_valid_tensor, y_valid_tensor), batch_size=64)\n",
        "\n",
        "NUM_EPOCHS = 30\n",
        "early_stop = 5\n",
        "best_loss = float('inf')\n",
        "epochs_no_improve = 0\n",
        "early_stop = 5\n",
        "\n",
        "for epoch in range(NUM_EPOCHS):\n",
        "    model.train()\n",
        "    train_loss = []\n",
        "    for xb, yb in train_loader:\n",
        "        optimizer.zero_grad()\n",
        "        preds = model(xb)\n",
        "        loss = criterion(preds, yb)\n",
        "        loss.backward()\n",
        "        optimizer.step()\n",
        "        train_loss.append(loss.item())\n",
        "    model.eval()\n",
        "    val_loss = []\n",
        "    with torch.no_grad():\n",
        "        for xb, yb in valid_loader:\n",
        "            preds = model(xb)\n",
        "            loss = criterion(preds, yb)\n",
        "            val_loss.append(loss.item())\n",
        "    mean_val = np.mean(val_loss)\n",
        "    print(f\"Epoch {epoch}: Train Loss = {np.mean(train_loss):.4f} | Val Loss = {mean_val:.4f}\")\n",
        "    if mean_val < best_loss:\n",
        "        best_loss = mean_val\n",
        "        best_model = model\n",
        "        epochs_no_improve = 0\n",
        "    else:\n",
        "        epochs_no_improve += 1\n",
        "        if epochs_no_improve >= early_stop:\n",
        "            print(\"Early stopping\")\n",
        "            break\n",
        "\n",
        "# 평가\n",
        "from sklearn.metrics import classification_report\n",
        "best_model.eval()\n",
        "with torch.no_grad():\n",
        "  y_pred = best_model(X_test_tensor).squeeze().round()\n",
        "\n",
        "print(classification_report(y_test_tensor, y_pred))\n"
      ]
    },
    {
      "cell_type": "code",
      "execution_count": null,
      "metadata": {
        "id": "8LwQ5_E3IH1f"
      },
      "outputs": [],
      "source": [
        "model.eval()\n",
        "test_probs = []\n",
        "\n",
        "with torch.no_grad():\n",
        "    for xb, _ in test_loader:\n",
        "        preds = model(xb)\n",
        "        test_probs.extend(preds.cpu().numpy())\n",
        "\n",
        "test_preds_probs = np.array(test_probs)\n",
        "import numpy as np\n",
        "np.save(\"bm25+bert+mlp.npy\", test_preds_probs)"
      ]
    },
    {
      "cell_type": "code",
      "execution_count": null,
      "metadata": {
        "id": "WsECJhRkIH1f"
      },
      "outputs": [],
      "source": [
        "import matplotlib.pyplot as plt\n",
        "from sklearn.metrics import roc_curve, roc_auc_score, average_precision_score\n",
        "\n",
        "def evaluate_ap_and_auroc(y_test_tensor, test_preds, exp_names):\n",
        "  assert len(y_test_tensor) == len(test_preds) and len(y_test_tensor) == len(exp_names), \\\n",
        "          \"Length of each list should be identical.\"\n",
        "\n",
        "  for labels, preds, exp_name in zip(y_test_tensor, test_preds, exp_names):\n",
        "    fpr, tpr, thresholds = roc_curve(labels, preds)\n",
        "    auc = roc_auc_score(labels, preds)\n",
        "    ap = average_precision_score(labels, preds)\n",
        "    plt.plot(fpr, tpr, label=f'{exp_name} : AUC = {auc:.3f}')\n",
        "    print(f\"[*] {exp_name} : AP = {ap:.3f}, AUROC = {auc:.3f}\")\n",
        "\n",
        "  print(\"-\" * 50)\n",
        "  plt.xlabel('False Positive Rate')\n",
        "  plt.ylabel('True Positive Rate')\n",
        "  plt.title('ROC Curve')\n",
        "  plt.legend()\n",
        "  plt.grid(True)\n",
        "  plt.tight_layout()\n",
        "  plt.show()"
      ]
    },
    {
      "cell_type": "code",
      "execution_count": null,
      "metadata": {
        "id": "4WMqtxu4IH1g",
        "outputId": "cd5e56d5-1560-400e-d5e6-c4922f44f934"
      },
      "outputs": [
        {
          "name": "stdout",
          "output_type": "stream",
          "text": [
            "[*] BERT + BM25 + MLP : AP = 0.862, AUROC = 0.807\n",
            "--------------------------------------------------\n"
          ]
        },
        {
          "data": {
            "image/png": "[encoded data removed]",
            "text/plain": [
              "<Figure size 640x480 with 1 Axes>"
            ]
          },
          "metadata": {},
          "output_type": "display_data"
        }
      ],
      "source": [
        "evaluate_ap_and_auroc(\n",
        "    y_test_tensor=[y_test_tensor.numpy()],\n",
        "    test_preds=[test_preds_probs],\n",
        "    exp_names=['BERT + BM25 + MLP']\n",
        ")"
      ]
    }
  ],
  "metadata": {
    "colab": {
      "provenance": []
    },
    "kernelspec": {
      "display_name": "Python 3",
      "name": "python3"
    },
    "language_info": {
      "name": "python"
    }
  },
  "nbformat": 4,
  "nbformat_minor": 0
}