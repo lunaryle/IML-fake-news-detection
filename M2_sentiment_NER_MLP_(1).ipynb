{
  "cells": [
    {
      "cell_type": "markdown",
      "metadata": {
        "id": "f0NjJuTvOrYv"
      },
      "source": [
        "# 1. 파일 업로드"
      ]
    },
    {
      "cell_type": "code",
      "execution_count": null,
      "metadata": {
        "colab": {
          "base_uri": "https://localhost:8080/",
          "height": 460
        },
        "id": "bc7Xja_gOrmv",
        "outputId": "f697a5ed-8678-41bb-b49e-96c6540bc9f0"
      },
      "outputs": [
        {
          "output_type": "display_data",
          "data": {
            "text/plain": [
              "<IPython.core.display.HTML object>"
            ],
            "text/html": [
              "\n",
              "     <input type=\"file\" id=\"files-2941b057-1f7d-44f1-95d4-8bee8cce070a\" name=\"files[]\" multiple disabled\n",
              "        style=\"border:none\" />\n",
              "     <output id=\"result-2941b057-1f7d-44f1-95d4-8bee8cce070a\">\n",
              "      Upload widget is only available when the cell has been executed in the\n",
              "      current browser session. Please rerun this cell to enable.\n",
              "      </output>\n",
              "      <script>// Copyright 2017 Google LLC\n",
              "//\n",
              "// Licensed under the Apache License, Version 2.0 (the \"License\");\n",
              "// you may not use this file except in compliance with the License.\n",
              "// You may obtain a copy of the License at\n",
              "//\n",
              "//      http://www.apache.org/licenses/LICENSE-2.0\n",
              "//\n",
              "// Unless required by applicable law or agreed to in writing, software\n",
              "// distributed under the License is distributed on an \"AS IS\" BASIS,\n",
              "// WITHOUT WARRANTIES OR CONDITIONS OF ANY KIND, either express or implied.\n",
              "// See the License for the specific language governing permissions and\n",
              "// limitations under the License.\n",
              "\n",
              "/**\n",
              " * @fileoverview Helpers for google.colab Python module.\n",
              " */\n",
              "(function(scope) {\n",
              "function span(text, styleAttributes = {}) {\n",
              "  const element = document.createElement('span');\n",
              "  element.textContent = text;\n",
              "  for (const key of Object.keys(styleAttributes)) {\n",
              "    element.style[key] = styleAttributes[key];\n",
              "  }\n",
              "  return element;\n",
              "}\n",
              "\n",
              "// Max number of bytes which will be uploaded at a time.\n",
              "const MAX_PAYLOAD_SIZE = 100 * 1024;\n",
              "\n",
              "function _uploadFiles(inputId, outputId) {\n",
              "  const steps = uploadFilesStep(inputId, outputId);\n",
              "  const outputElement = document.getElementById(outputId);\n",
              "  // Cache steps on the outputElement to make it available for the next call\n",
              "  // to uploadFilesContinue from Python.\n",
              "  outputElement.steps = steps;\n",
              "\n",
              "  return _uploadFilesContinue(outputId);\n",
              "}\n",
              "\n",
              "// This is roughly an async generator (not supported in the browser yet),\n",
              "// where there are multiple asynchronous steps and the Python side is going\n",
              "// to poll for completion of each step.\n",
              "// This uses a Promise to block the python side on completion of each step,\n",
              "// then passes the result of the previous step as the input to the next step.\n",
              "function _uploadFilesContinue(outputId) {\n",
              "  const outputElement = document.getElementById(outputId);\n",
              "  const steps = outputElement.steps;\n",
              "\n",
              "  const next = steps.next(outputElement.lastPromiseValue);\n",
              "  return Promise.resolve(next.value.promise).then((value) => {\n",
              "    // Cache the last promise value to make it available to the next\n",
              "    // step of the generator.\n",
              "    outputElement.lastPromiseValue = value;\n",
              "    return next.value.response;\n",
              "  });\n",
              "}\n",
              "\n",
              "/**\n",
              " * Generator function which is called between each async step of the upload\n",
              " * process.\n",
              " * @param {string} inputId Element ID of the input file picker element.\n",
              " * @param {string} outputId Element ID of the output display.\n",
              " * @return {!Iterable<!Object>} Iterable of next steps.\n",
              " */\n",
              "function* uploadFilesStep(inputId, outputId) {\n",
              "  const inputElement = document.getElementById(inputId);\n",
              "  inputElement.disabled = false;\n",
              "\n",
              "  const outputElement = document.getElementById(outputId);\n",
              "  outputElement.innerHTML = '';\n",
              "\n",
              "  const pickedPromise = new Promise((resolve) => {\n",
              "    inputElement.addEventListener('change', (e) => {\n",
              "      resolve(e.target.files);\n",
              "    });\n",
              "  });\n",
              "\n",
              "  const cancel = document.createElement('button');\n",
              "  inputElement.parentElement.appendChild(cancel);\n",
              "  cancel.textContent = 'Cancel upload';\n",
              "  const cancelPromise = new Promise((resolve) => {\n",
              "    cancel.onclick = () => {\n",
              "      resolve(null);\n",
              "    };\n",
              "  });\n",
              "\n",
              "  // Wait for the user to pick the files.\n",
              "  const files = yield {\n",
              "    promise: Promise.race([pickedPromise, cancelPromise]),\n",
              "    response: {\n",
              "      action: 'starting',\n",
              "    }\n",
              "  };\n",
              "\n",
              "  cancel.remove();\n",
              "\n",
              "  // Disable the input element since further picks are not allowed.\n",
              "  inputElement.disabled = true;\n",
              "\n",
              "  if (!files) {\n",
              "    return {\n",
              "      response: {\n",
              "        action: 'complete',\n",
              "      }\n",
              "    };\n",
              "  }\n",
              "\n",
              "  for (const file of files) {\n",
              "    const li = document.createElement('li');\n",
              "    li.append(span(file.name, {fontWeight: 'bold'}));\n",
              "    li.append(span(\n",
              "        `(${file.type || 'n/a'}) - ${file.size} bytes, ` +\n",
              "        `last modified: ${\n",
              "            file.lastModifiedDate ? file.lastModifiedDate.toLocaleDateString() :\n",
              "                                    'n/a'} - `));\n",
              "    const percent = span('0% done');\n",
              "    li.appendChild(percent);\n",
              "\n",
              "    outputElement.appendChild(li);\n",
              "\n",
              "    const fileDataPromise = new Promise((resolve) => {\n",
              "      const reader = new FileReader();\n",
              "      reader.onload = (e) => {\n",
              "        resolve(e.target.result);\n",
              "      };\n",
              "      reader.readAsArrayBuffer(file);\n",
              "    });\n",
              "    // Wait for the data to be ready.\n",
              "    let fileData = yield {\n",
              "      promise: fileDataPromise,\n",
              "      response: {\n",
              "        action: 'continue',\n",
              "      }\n",
              "    };\n",
              "\n",
              "    // Use a chunked sending to avoid message size limits. See b/62115660.\n",
              "    let position = 0;\n",
              "    do {\n",
              "      const length = Math.min(fileData.byteLength - position, MAX_PAYLOAD_SIZE);\n",
              "      const chunk = new Uint8Array(fileData, position, length);\n",
              "      position += length;\n",
              "\n",
              "      const base64 = btoa(String.fromCharCode.apply(null, chunk));\n",
              "      yield {\n",
              "        response: {\n",
              "          action: 'append',\n",
              "          file: file.name,\n",
              "          data: base64,\n",
              "        },\n",
              "      };\n",
              "\n",
              "      let percentDone = fileData.byteLength === 0 ?\n",
              "          100 :\n",
              "          Math.round((position / fileData.byteLength) * 100);\n",
              "      percent.textContent = `${percentDone}% done`;\n",
              "\n",
              "    } while (position < fileData.byteLength);\n",
              "  }\n",
              "\n",
              "  // All done.\n",
              "  yield {\n",
              "    response: {\n",
              "      action: 'complete',\n",
              "    }\n",
              "  };\n",
              "}\n",
              "\n",
              "scope.google = scope.google || {};\n",
              "scope.google.colab = scope.google.colab || {};\n",
              "scope.google.colab._files = {\n",
              "  _uploadFiles,\n",
              "  _uploadFilesContinue,\n",
              "};\n",
              "})(self);\n",
              "</script> "
            ]
          },
          "metadata": {}
        },
        {
          "output_type": "stream",
          "name": "stdout",
          "text": [
            "Saving politifact_factcheck_data.json to politifact_factcheck_data (1).json\n"
          ]
        },
        {
          "output_type": "execute_result",
          "data": {
            "text/plain": [
              "       verdict statement_originator  \\\n",
              "0         true         Barack Obama   \n",
              "1        false           Matt Gaetz   \n",
              "2  mostly-true         Kelly Ayotte   \n",
              "3        false             Bloggers   \n",
              "4    half-true         Bobby Jindal   \n",
              "\n",
              "                                           statement statement_date  \\\n",
              "0  John McCain opposed bankruptcy protections for...      6/11/2008   \n",
              "1  \"Bennie Thompson actively cheer-led riots in t...       6/7/2022   \n",
              "2  Says Maggie Hassan was \"out of state on 30 day...      5/18/2016   \n",
              "3  \"BUSTED: CDC Inflated COVID Numbers, Accused o...       2/1/2021   \n",
              "4  \"I'm the only (Republican) candidate that has ...      8/30/2015   \n",
              "\n",
              "  statement_source        factchecker factcheck_date  \\\n",
              "0           speech  Adriel Bettelheim      6/16/2008   \n",
              "1       television        Yacob Reyes      6/13/2022   \n",
              "2             news     Clay Wirestone      5/27/2016   \n",
              "3             blog     Madison Czopek       2/5/2021   \n",
              "4       television          Linda Qiu      8/30/2015   \n",
              "\n",
              "                             factcheck_analysis_link  \n",
              "0  https://www.politifact.com/factchecks/2008/jun...  \n",
              "1  https://www.politifact.com/factchecks/2022/jun...  \n",
              "2  https://www.politifact.com/factchecks/2016/may...  \n",
              "3  https://www.politifact.com/factchecks/2021/feb...  \n",
              "4  https://www.politifact.com/factchecks/2015/aug...  "
            ],
            "text/html": [
              "\n",
              "  <div id=\"df-21c058e7-3c4f-4093-8a00-3c26040eabb3\" class=\"colab-df-container\">\n",
              "    <div>\n",
              "<style scoped>\n",
              "    .dataframe tbody tr th:only-of-type {\n",
              "        vertical-align: middle;\n",
              "    }\n",
              "\n",
              "    .dataframe tbody tr th {\n",
              "        vertical-align: top;\n",
              "    }\n",
              "\n",
              "    .dataframe thead th {\n",
              "        text-align: right;\n",
              "    }\n",
              "</style>\n",
              "<table border=\"1\" class=\"dataframe\">\n",
              "  <thead>\n",
              "    <tr style=\"text-align: right;\">\n",
              "      <th></th>\n",
              "      <th>verdict</th>\n",
              "      <th>statement_originator</th>\n",
              "      <th>statement</th>\n",
              "      <th>statement_date</th>\n",
              "      <th>statement_source</th>\n",
              "      <th>factchecker</th>\n",
              "      <th>factcheck_date</th>\n",
              "      <th>factcheck_analysis_link</th>\n",
              "    </tr>\n",
              "  </thead>\n",
              "  <tbody>\n",
              "    <tr>\n",
              "      <th>0</th>\n",
              "      <td>true</td>\n",
              "      <td>Barack Obama</td>\n",
              "      <td>John McCain opposed bankruptcy protections for...</td>\n",
              "      <td>6/11/2008</td>\n",
              "      <td>speech</td>\n",
              "      <td>Adriel Bettelheim</td>\n",
              "      <td>6/16/2008</td>\n",
              "      <td>https://www.politifact.com/factchecks/2008/jun...</td>\n",
              "    </tr>\n",
              "    <tr>\n",
              "      <th>1</th>\n",
              "      <td>false</td>\n",
              "      <td>Matt Gaetz</td>\n",
              "      <td>\"Bennie Thompson actively cheer-led riots in t...</td>\n",
              "      <td>6/7/2022</td>\n",
              "      <td>television</td>\n",
              "      <td>Yacob Reyes</td>\n",
              "      <td>6/13/2022</td>\n",
              "      <td>https://www.politifact.com/factchecks/2022/jun...</td>\n",
              "    </tr>\n",
              "    <tr>\n",
              "      <th>2</th>\n",
              "      <td>mostly-true</td>\n",
              "      <td>Kelly Ayotte</td>\n",
              "      <td>Says Maggie Hassan was \"out of state on 30 day...</td>\n",
              "      <td>5/18/2016</td>\n",
              "      <td>news</td>\n",
              "      <td>Clay Wirestone</td>\n",
              "      <td>5/27/2016</td>\n",
              "      <td>https://www.politifact.com/factchecks/2016/may...</td>\n",
              "    </tr>\n",
              "    <tr>\n",
              "      <th>3</th>\n",
              "      <td>false</td>\n",
              "      <td>Bloggers</td>\n",
              "      <td>\"BUSTED: CDC Inflated COVID Numbers, Accused o...</td>\n",
              "      <td>2/1/2021</td>\n",
              "      <td>blog</td>\n",
              "      <td>Madison Czopek</td>\n",
              "      <td>2/5/2021</td>\n",
              "      <td>https://www.politifact.com/factchecks/2021/feb...</td>\n",
              "    </tr>\n",
              "    <tr>\n",
              "      <th>4</th>\n",
              "      <td>half-true</td>\n",
              "      <td>Bobby Jindal</td>\n",
              "      <td>\"I'm the only (Republican) candidate that has ...</td>\n",
              "      <td>8/30/2015</td>\n",
              "      <td>television</td>\n",
              "      <td>Linda Qiu</td>\n",
              "      <td>8/30/2015</td>\n",
              "      <td>https://www.politifact.com/factchecks/2015/aug...</td>\n",
              "    </tr>\n",
              "  </tbody>\n",
              "</table>\n",
              "</div>\n",
              "    <div class=\"colab-df-buttons\">\n",
              "\n",
              "  <div class=\"colab-df-container\">\n",
              "    <button class=\"colab-df-convert\" onclick=\"convertToInteractive('df-21c058e7-3c4f-4093-8a00-3c26040eabb3')\"\n",
              "            title=\"Convert this dataframe to an interactive table.\"\n",
              "            style=\"display:none;\">\n",
              "\n",
              "  <svg xmlns=\"http://www.w3.org/2000/svg\" height=\"24px\" viewBox=\"0 -960 960 960\">\n",
              "    <path d=\"M120-120v-720h720v720H120Zm60-500h600v-160H180v160Zm220 220h160v-160H400v160Zm0 220h160v-160H400v160ZM180-400h160v-160H180v160Zm440 0h160v-160H620v160ZM180-180h160v-160H180v160Zm440 0h160v-160H620v160Z\"/>\n",
              "  </svg>\n",
              "    </button>\n",
              "\n",
              "  <style>\n",
              "    .colab-df-container {\n",
              "      display:flex;\n",
              "      gap: 12px;\n",
              "    }\n",
              "\n",
              "    .colab-df-convert {\n",
              "      background-color: #E8F0FE;\n",
              "      border: none;\n",
              "      border-radius: 50%;\n",
              "      cursor: pointer;\n",
              "      display: none;\n",
              "      fill: #1967D2;\n",
              "      height: 32px;\n",
              "      padding: 0 0 0 0;\n",
              "      width: 32px;\n",
              "    }\n",
              "\n",
              "    .colab-df-convert:hover {\n",
              "      background-color: #E2EBFA;\n",
              "      box-shadow: 0px 1px 2px rgba(60, 64, 67, 0.3), 0px 1px 3px 1px rgba(60, 64, 67, 0.15);\n",
              "      fill: #174EA6;\n",
              "    }\n",
              "\n",
              "    .colab-df-buttons div {\n",
              "      margin-bottom: 4px;\n",
              "    }\n",
              "\n",
              "    [theme=dark] .colab-df-convert {\n",
              "      background-color: #3B4455;\n",
              "      fill: #D2E3FC;\n",
              "    }\n",
              "\n",
              "    [theme=dark] .colab-df-convert:hover {\n",
              "      background-color: #434B5C;\n",
              "      box-shadow: 0px 1px 3px 1px rgba(0, 0, 0, 0.15);\n",
              "      filter: drop-shadow(0px 1px 2px rgba(0, 0, 0, 0.3));\n",
              "      fill: #FFFFFF;\n",
              "    }\n",
              "  </style>\n",
              "\n",
              "    <script>\n",
              "      const buttonEl =\n",
              "        document.querySelector('#df-21c058e7-3c4f-4093-8a00-3c26040eabb3 button.colab-df-convert');\n",
              "      buttonEl.style.display =\n",
              "        google.colab.kernel.accessAllowed ? 'block' : 'none';\n",
              "\n",
              "      async function convertToInteractive(key) {\n",
              "        const element = document.querySelector('#df-21c058e7-3c4f-4093-8a00-3c26040eabb3');\n",
              "        const dataTable =\n",
              "          await google.colab.kernel.invokeFunction('convertToInteractive',\n",
              "                                                    [key], {});\n",
              "        if (!dataTable) return;\n",
              "\n",
              "        const docLinkHtml = 'Like what you see? Visit the ' +\n",
              "          '<a target=\"_blank\" href=https://colab.research.google.com/notebooks/data_table.ipynb>data table notebook</a>'\n",
              "          + ' to learn more about interactive tables.';\n",
              "        element.innerHTML = '';\n",
              "        dataTable['output_type'] = 'display_data';\n",
              "        await google.colab.output.renderOutput(dataTable, element);\n",
              "        const docLink = document.createElement('div');\n",
              "        docLink.innerHTML = docLinkHtml;\n",
              "        element.appendChild(docLink);\n",
              "      }\n",
              "    </script>\n",
              "  </div>\n",
              "\n",
              "\n",
              "    <div id=\"df-10bdd7a4-8cc1-4325-ba26-59440d3460b2\">\n",
              "      <button class=\"colab-df-quickchart\" onclick=\"quickchart('df-10bdd7a4-8cc1-4325-ba26-59440d3460b2')\"\n",
              "                title=\"Suggest charts\"\n",
              "                style=\"display:none;\">\n",
              "\n",
              "<svg xmlns=\"http://www.w3.org/2000/svg\" height=\"24px\"viewBox=\"0 0 24 24\"\n",
              "     width=\"24px\">\n",
              "    <g>\n",
              "        <path d=\"M19 3H5c-1.1 0-2 .9-2 2v14c0 1.1.9 2 2 2h14c1.1 0 2-.9 2-2V5c0-1.1-.9-2-2-2zM9 17H7v-7h2v7zm4 0h-2V7h2v10zm4 0h-2v-4h2v4z\"/>\n",
              "    </g>\n",
              "</svg>\n",
              "      </button>\n",
              "\n",
              "<style>\n",
              "  .colab-df-quickchart {\n",
              "      --bg-color: #E8F0FE;\n",
              "      --fill-color: #1967D2;\n",
              "      --hover-bg-color: #E2EBFA;\n",
              "      --hover-fill-color: #174EA6;\n",
              "      --disabled-fill-color: #AAA;\n",
              "      --disabled-bg-color: #DDD;\n",
              "  }\n",
              "\n",
              "  [theme=dark] .colab-df-quickchart {\n",
              "      --bg-color: #3B4455;\n",
              "      --fill-color: #D2E3FC;\n",
              "      --hover-bg-color: #434B5C;\n",
              "      --hover-fill-color: #FFFFFF;\n",
              "      --disabled-bg-color: #3B4455;\n",
              "      --disabled-fill-color: #666;\n",
              "  }\n",
              "\n",
              "  .colab-df-quickchart {\n",
              "    background-color: var(--bg-color);\n",
              "    border: none;\n",
              "    border-radius: 50%;\n",
              "    cursor: pointer;\n",
              "    display: none;\n",
              "    fill: var(--fill-color);\n",
              "    height: 32px;\n",
              "    padding: 0;\n",
              "    width: 32px;\n",
              "  }\n",
              "\n",
              "  .colab-df-quickchart:hover {\n",
              "    background-color: var(--hover-bg-color);\n",
              "    box-shadow: 0 1px 2px rgba(60, 64, 67, 0.3), 0 1px 3px 1px rgba(60, 64, 67, 0.15);\n",
              "    fill: var(--button-hover-fill-color);\n",
              "  }\n",
              "\n",
              "  .colab-df-quickchart-complete:disabled,\n",
              "  .colab-df-quickchart-complete:disabled:hover {\n",
              "    background-color: var(--disabled-bg-color);\n",
              "    fill: var(--disabled-fill-color);\n",
              "    box-shadow: none;\n",
              "  }\n",
              "\n",
              "  .colab-df-spinner {\n",
              "    border: 2px solid var(--fill-color);\n",
              "    border-color: transparent;\n",
              "    border-bottom-color: var(--fill-color);\n",
              "    animation:\n",
              "      spin 1s steps(1) infinite;\n",
              "  }\n",
              "\n",
              "  @keyframes spin {\n",
              "    0% {\n",
              "      border-color: transparent;\n",
              "      border-bottom-color: var(--fill-color);\n",
              "      border-left-color: var(--fill-color);\n",
              "    }\n",
              "    20% {\n",
              "      border-color: transparent;\n",
              "      border-left-color: var(--fill-color);\n",
              "      border-top-color: var(--fill-color);\n",
              "    }\n",
              "    30% {\n",
              "      border-color: transparent;\n",
              "      border-left-color: var(--fill-color);\n",
              "      border-top-color: var(--fill-color);\n",
              "      border-right-color: var(--fill-color);\n",
              "    }\n",
              "    40% {\n",
              "      border-color: transparent;\n",
              "      border-right-color: var(--fill-color);\n",
              "      border-top-color: var(--fill-color);\n",
              "    }\n",
              "    60% {\n",
              "      border-color: transparent;\n",
              "      border-right-color: var(--fill-color);\n",
              "    }\n",
              "    80% {\n",
              "      border-color: transparent;\n",
              "      border-right-color: var(--fill-color);\n",
              "      border-bottom-color: var(--fill-color);\n",
              "    }\n",
              "    90% {\n",
              "      border-color: transparent;\n",
              "      border-bottom-color: var(--fill-color);\n",
              "    }\n",
              "  }\n",
              "</style>\n",
              "\n",
              "      <script>\n",
              "        async function quickchart(key) {\n",
              "          const quickchartButtonEl =\n",
              "            document.querySelector('#' + key + ' button');\n",
              "          quickchartButtonEl.disabled = true;  // To prevent multiple clicks.\n",
              "          quickchartButtonEl.classList.add('colab-df-spinner');\n",
              "          try {\n",
              "            const charts = await google.colab.kernel.invokeFunction(\n",
              "                'suggestCharts', [key], {});\n",
              "          } catch (error) {\n",
              "            console.error('Error during call to suggestCharts:', error);\n",
              "          }\n",
              "          quickchartButtonEl.classList.remove('colab-df-spinner');\n",
              "          quickchartButtonEl.classList.add('colab-df-quickchart-complete');\n",
              "        }\n",
              "        (() => {\n",
              "          let quickchartButtonEl =\n",
              "            document.querySelector('#df-10bdd7a4-8cc1-4325-ba26-59440d3460b2 button');\n",
              "          quickchartButtonEl.style.display =\n",
              "            google.colab.kernel.accessAllowed ? 'block' : 'none';\n",
              "        })();\n",
              "      </script>\n",
              "    </div>\n",
              "\n",
              "    </div>\n",
              "  </div>\n"
            ],
            "application/vnd.google.colaboratory.intrinsic+json": {
              "type": "dataframe",
              "variable_name": "df",
              "summary": "{\n  \"name\": \"df\",\n  \"rows\": 21152,\n  \"fields\": [\n    {\n      \"column\": \"verdict\",\n      \"properties\": {\n        \"dtype\": \"category\",\n        \"num_unique_values\": 6,\n        \"samples\": [\n          \"true\",\n          \"false\",\n          \"mostly-false\"\n        ],\n        \"semantic_type\": \"\",\n        \"description\": \"\"\n      }\n    },\n    {\n      \"column\": \"statement_originator\",\n      \"properties\": {\n        \"dtype\": \"category\",\n        \"num_unique_values\": 4565,\n        \"samples\": [\n          \"America First Political Committee\",\n          \"Marilinda Garcia\",\n          \"Kristi Noem\"\n        ],\n        \"semantic_type\": \"\",\n        \"description\": \"\"\n      }\n    },\n    {\n      \"column\": \"statement\",\n      \"properties\": {\n        \"dtype\": \"string\",\n        \"num_unique_values\": 21139,\n        \"samples\": [\n          \"\\\"Last week Joe Biden flashed the \\u2018white power\\u2019 sign. President Trump condemned white supremacists yesterday. Why hasn't Joe Biden?\\\"\",\n          \"\\\"The Coast Guard confiscated 200 tons of contraband, heroin, and so forth. At the border they collected 20 tons.\\\"\",\n          \"Judithanne McLauchlan \\\"was part of a group that supports imposing a state income tax on Floridians.\\\"\"\n        ],\n        \"semantic_type\": \"\",\n        \"description\": \"\"\n      }\n    },\n    {\n      \"column\": \"statement_date\",\n      \"properties\": {\n        \"dtype\": \"object\",\n        \"num_unique_values\": 4751,\n        \"samples\": [\n          \"3/10/2017\",\n          \"3/6/2016\",\n          \"6/20/2014\"\n        ],\n        \"semantic_type\": \"\",\n        \"description\": \"\"\n      }\n    },\n    {\n      \"column\": \"statement_source\",\n      \"properties\": {\n        \"dtype\": \"category\",\n        \"num_unique_values\": 13,\n        \"samples\": [\n          \"testimony\",\n          \"radio\",\n          \"speech\"\n        ],\n        \"semantic_type\": \"\",\n        \"description\": \"\"\n      }\n    },\n    {\n      \"column\": \"factchecker\",\n      \"properties\": {\n        \"dtype\": \"category\",\n        \"num_unique_values\": 563,\n        \"samples\": [\n          \"Kevin Hoffman\",\n          \"Naseem Ferdowsi\",\n          \"Rachel Rice\"\n        ],\n        \"semantic_type\": \"\",\n        \"description\": \"\"\n      }\n    },\n    {\n      \"column\": \"factcheck_date\",\n      \"properties\": {\n        \"dtype\": \"object\",\n        \"num_unique_values\": 4322,\n        \"samples\": [\n          \"1/27/2021\",\n          \"2/24/2011\",\n          \"9/23/2013\"\n        ],\n        \"semantic_type\": \"\",\n        \"description\": \"\"\n      }\n    },\n    {\n      \"column\": \"factcheck_analysis_link\",\n      \"properties\": {\n        \"dtype\": \"string\",\n        \"num_unique_values\": 21151,\n        \"samples\": [\n          \"https://www.politifact.com/factchecks/2016/feb/18/jeb-bush/jeb-bush-says-barack-obama-will-add-more-debt-all-/\",\n          \"https://www.politifact.com/factchecks/2013/apr/02/progressohio/progressohio-says-ohio-lacks-law-prohibiting-emplo/\",\n          \"https://www.politifact.com/factchecks/2015/feb/23/joseph-yost/yost-says-one-third-millennials-live-parents/\"\n        ],\n        \"semantic_type\": \"\",\n        \"description\": \"\"\n      }\n    }\n  ]\n}"
            }
          },
          "metadata": {},
          "execution_count": 1
        }
      ],
      "source": [
        "from google.colab import files\n",
        "uploaded = files.upload()\n",
        "\n",
        "import io, json\n",
        "import pandas as pd\n",
        "\n",
        "file_name = list(uploaded.keys())[0]\n",
        "data = [json.loads(line) for line in io.StringIO(uploaded[file_name].decode('utf-8'))]\n",
        "df = pd.DataFrame(data)\n",
        "df.head()"
      ]
    },
    {
      "cell_type": "markdown",
      "source": [
        "# 2. 전처리"
      ],
      "metadata": {
        "id": "0Paz9z-yewJ9"
      }
    },
    {
      "cell_type": "markdown",
      "source": [
        "2-1. Binary Labeling 및 특정 라벨 제외"
      ],
      "metadata": {
        "id": "5q2Etb6Qe0LX"
      }
    },
    {
      "cell_type": "code",
      "execution_count": null,
      "metadata": {
        "colab": {
          "base_uri": "https://localhost:8080/",
          "height": 178
        },
        "id": "IigcO8Bba-o3",
        "outputId": "74c91a6e-8790-4c90-ad4b-4499f3eeb637"
      },
      "outputs": [
        {
          "output_type": "execute_result",
          "data": {
            "text/plain": [
              "label\n",
              "1    8328\n",
              "0    5795\n",
              "Name: count, dtype: int64"
            ],
            "text/html": [
              "<div>\n",
              "<style scoped>\n",
              "    .dataframe tbody tr th:only-of-type {\n",
              "        vertical-align: middle;\n",
              "    }\n",
              "\n",
              "    .dataframe tbody tr th {\n",
              "        vertical-align: top;\n",
              "    }\n",
              "\n",
              "    .dataframe thead th {\n",
              "        text-align: right;\n",
              "    }\n",
              "</style>\n",
              "<table border=\"1\" class=\"dataframe\">\n",
              "  <thead>\n",
              "    <tr style=\"text-align: right;\">\n",
              "      <th></th>\n",
              "      <th>count</th>\n",
              "    </tr>\n",
              "    <tr>\n",
              "      <th>label</th>\n",
              "      <th></th>\n",
              "    </tr>\n",
              "  </thead>\n",
              "  <tbody>\n",
              "    <tr>\n",
              "      <th>1</th>\n",
              "      <td>8328</td>\n",
              "    </tr>\n",
              "    <tr>\n",
              "      <th>0</th>\n",
              "      <td>5795</td>\n",
              "    </tr>\n",
              "  </tbody>\n",
              "</table>\n",
              "</div><br><label><b>dtype:</b> int64</label>"
            ]
          },
          "metadata": {},
          "execution_count": 2
        }
      ],
      "source": [
        "\n",
        "# Binary Labeling\n",
        "real_labels = [\"true\", \"mostly-true\"]\n",
        "fake_labels = [\"false\", \"pants-fire\", \"barely-true\"]\n",
        "\n",
        "#'half-true'제외\n",
        "df_filtered = df[~df[\"verdict\"].isin([\"half-true\", \"mostly-false\"])].copy()\n",
        "\n",
        "# binary label\n",
        "df_filtered[\"label\"] = df_filtered[\"verdict\"].apply(lambda x: 1 if x in fake_labels else 0)\n",
        "\n",
        "# label distribution\n",
        "df_filtered[\"label\"].value_counts()\n"
      ]
    },
    {
      "cell_type": "code",
      "execution_count": null,
      "metadata": {
        "id": "VsD4Q0nCbYJP",
        "colab": {
          "base_uri": "https://localhost:8080/"
        },
        "outputId": "7ef6677b-04ac-4b4e-8981-c5eaba5b2cec"
      },
      "outputs": [
        {
          "output_type": "stream",
          "name": "stdout",
          "text": [
            "11298 1412 1413\n"
          ]
        }
      ],
      "source": [
        "from sklearn.model_selection import train_test_split\n",
        "train_df, val_df = train_test_split(df_filtered, test_size=0.2, stratify=df_filtered[\"label\"], random_state=42)\n",
        "val_df, test_df = train_test_split(val_df, test_size=0.5, stratify=val_df[\"label\"], random_state=42)\n",
        "print(len(train_df), len(val_df), len(test_df))"
      ]
    },
    {
      "cell_type": "markdown",
      "source": [
        "2-2. 문장 임베딩"
      ],
      "metadata": {
        "id": "mXK0a4xwe8Bw"
      }
    },
    {
      "cell_type": "code",
      "execution_count": null,
      "metadata": {
        "id": "h79pJn3Llzlw"
      },
      "outputs": [],
      "source": [
        "from sentence_transformers import SentenceTransformer\n",
        "sbert = SentenceTransformer('sentence-transformers/all-mpnet-base-v2', device='cuda')\n",
        "\n",
        "X_bert_train = sbert.encode(train_df['statement'].tolist())\n",
        "X_bert_val = sbert.encode(val_df['statement'].tolist())\n",
        "X_bert_test = sbert.encode(test_df['statement'].tolist())"
      ]
    },
    {
      "cell_type": "markdown",
      "source": [
        "2-3. 연도 추가 (baseline)"
      ],
      "metadata": {
        "id": "aE0yM3sKfAPm"
      }
    },
    {
      "cell_type": "code",
      "source": [
        "train_df['statement_year'] = train_df['statement_date'].str.split('/').str[-1]\n",
        "val_df['statement_year'] = val_df['statement_date'].str.split('/').str[-1]\n",
        "test_df['statement_year'] = test_df['statement_date'].str.split('/').str[-1]\n"
      ],
      "metadata": {
        "id": "nDoCEs0ScIXg"
      },
      "execution_count": null,
      "outputs": []
    },
    {
      "cell_type": "markdown",
      "source": [
        "2-4. 감성 점수 feature"
      ],
      "metadata": {
        "id": "iR4vom_jfG_i"
      }
    },
    {
      "cell_type": "code",
      "execution_count": null,
      "metadata": {
        "id": "pIkZXJpDbUtX"
      },
      "outputs": [],
      "source": [
        "from transformers import AutoTokenizer, AutoModelForSequenceClassification\n",
        "import torch\n",
        "import numpy as np\n",
        "from tqdm import tqdm\n",
        "\n",
        "tokenizer = AutoTokenizer.from_pretrained(\"cardiffnlp/twitter-roberta-base-sentiment\")\n",
        "model = AutoModelForSequenceClassification.from_pretrained(\"cardiffnlp/twitter-roberta-base-sentiment\")\n",
        "model.eval()\n",
        "model = model.to('cuda')\n",
        "\n",
        "def get_sentiment_scores(text):\n",
        "    inputs = tokenizer(text, return_tensors=\"pt\", truncation=True, padding=True, max_length=128).to('cuda')\n",
        "    with torch.no_grad():\n",
        "        outputs = model(**inputs)\n",
        "    scores = torch.nn.functional.softmax(outputs.logits, dim=1).cpu().numpy()[0]\n",
        "    return scores\n",
        "# 감성 점수\n",
        "from transformers import AutoTokenizer, AutoModelForSequenceClassification\n",
        "import torch\n",
        "import numpy as np\n",
        "from tqdm import tqdm\n",
        "\n",
        "tokenizer = AutoTokenizer.from_pretrained(\"cardiffnlp/twitter-roberta-base-sentiment\")\n",
        "model = AutoModelForSequenceClassification.from_pretrained(\"cardiffnlp/twitter-roberta-base-sentiment\")\n",
        "model.eval()\n",
        "model = model.to('cuda')\n",
        "\n",
        "def get_sentiment_scores(text):\n",
        "    inputs = tokenizer(text, return_tensors=\"pt\", truncation=True, padding=True, max_length=128).to('cuda')\n",
        "    with torch.no_grad():\n",
        "        outputs = model(**inputs)\n",
        "    scores = torch.nn.functional.softmax(outputs.logits, dim=1).cpu().numpy()[0]\n",
        "    return scores\n",
        "\n",
        "\n",
        "train_df[['sent_neg', 'sent_neu', 'sent_pos']] = np.array([get_sentiment_scores(text) for text in tqdm(train_df['statement'], disable=True)])\n",
        "val_df[['sent_neg', 'sent_neu', 'sent_pos']] = np.array([get_sentiment_scores(text) for text in tqdm(val_df['statement'], disable=True)])\n",
        "test_df[['sent_neg', 'sent_neu', 'sent_pos']] = np.array([get_sentiment_scores(text) for text in tqdm(test_df['statement'], disable=True)])\n"
      ]
    },
    {
      "cell_type": "markdown",
      "source": [
        "2-5. TF-IDF 클러스터 거리"
      ],
      "metadata": {
        "id": "wxd0ah6VfJ7m"
      }
    },
    {
      "cell_type": "code",
      "execution_count": null,
      "metadata": {
        "id": "b_Q6NRN9uI_c"
      },
      "outputs": [],
      "source": [
        "from sklearn.feature_extraction.text import TfidfVectorizer\n",
        "from sklearn.cluster import KMeans\n",
        "from sklearn.metrics import pairwise_distances_argmin_min\n",
        "\n",
        "tfidf_vec = TfidfVectorizer(max_features=1000)\n",
        "X_tfidf_train = tfidf_vec.fit_transform(train_df['statement'])\n",
        "kmeans = KMeans(n_clusters=10, random_state=42)\n",
        "kmeans.fit(X_tfidf_train)\n",
        "train_labels = kmeans.predict(X_tfidf_train)\n",
        "_, train_dists = pairwise_distances_argmin_min(X_tfidf_train, kmeans.cluster_centers_)\n",
        "\n",
        "X_tfidf_val = tfidf_vec.transform(val_df['statement'])\n",
        "val_labels = kmeans.predict(X_tfidf_val)\n",
        "_, val_dists = pairwise_distances_argmin_min(X_tfidf_val, kmeans.cluster_centers_)\n",
        "\n",
        "X_tfidf_test = tfidf_vec.transform(test_df['statement'])\n",
        "test_labels = kmeans.predict(X_tfidf_test)\n",
        "_, test_dists = pairwise_distances_argmin_min(X_tfidf_test, kmeans.cluster_centers_)\n",
        "\n",
        "train_df['tfidf_cluster_dist'] = train_dists\n",
        "val_df['tfidf_cluster_dist'] = val_dists\n",
        "test_df['tfidf_cluster_dist'] = test_dists"
      ]
    },
    {
      "cell_type": "markdown",
      "source": [
        "2-6. 문체 + NER"
      ],
      "metadata": {
        "id": "SFMjqe81fMzT"
      }
    },
    {
      "cell_type": "code",
      "execution_count": null,
      "metadata": {
        "colab": {
          "base_uri": "https://localhost:8080/"
        },
        "id": "ZSGZJCvVOyWL",
        "outputId": "9410618a-93bf-4cb6-cfcc-4b5a90f77c1e"
      },
      "outputs": [
        {
          "output_type": "stream",
          "name": "stdout",
          "text": [
            "Requirement already satisfied: spacy in /usr/local/lib/python3.11/dist-packages (3.8.5)\n",
            "Requirement already satisfied: spacy-legacy<3.1.0,>=3.0.11 in /usr/local/lib/python3.11/dist-packages (from spacy) (3.0.12)\n",
            "Requirement already satisfied: spacy-loggers<2.0.0,>=1.0.0 in /usr/local/lib/python3.11/dist-packages (from spacy) (1.0.5)\n",
            "Requirement already satisfied: murmurhash<1.1.0,>=0.28.0 in /usr/local/lib/python3.11/dist-packages (from spacy) (1.0.12)\n",
            "Requirement already satisfied: cymem<2.1.0,>=2.0.2 in /usr/local/lib/python3.11/dist-packages (from spacy) (2.0.11)\n",
            "Requirement already satisfied: preshed<3.1.0,>=3.0.2 in /usr/local/lib/python3.11/dist-packages (from spacy) (3.0.9)\n",
            "Requirement already satisfied: thinc<8.4.0,>=8.3.4 in /usr/local/lib/python3.11/dist-packages (from spacy) (8.3.6)\n",
            "Requirement already satisfied: wasabi<1.2.0,>=0.9.1 in /usr/local/lib/python3.11/dist-packages (from spacy) (1.1.3)\n",
            "Requirement already satisfied: srsly<3.0.0,>=2.4.3 in /usr/local/lib/python3.11/dist-packages (from spacy) (2.5.1)\n",
            "Requirement already satisfied: catalogue<2.1.0,>=2.0.6 in /usr/local/lib/python3.11/dist-packages (from spacy) (2.0.10)\n",
            "Requirement already satisfied: weasel<0.5.0,>=0.1.0 in /usr/local/lib/python3.11/dist-packages (from spacy) (0.4.1)\n",
            "Requirement already satisfied: typer<1.0.0,>=0.3.0 in /usr/local/lib/python3.11/dist-packages (from spacy) (0.15.3)\n",
            "Requirement already satisfied: tqdm<5.0.0,>=4.38.0 in /usr/local/lib/python3.11/dist-packages (from spacy) (4.67.1)\n",
            "Requirement already satisfied: numpy>=1.19.0 in /usr/local/lib/python3.11/dist-packages (from spacy) (2.0.2)\n",
            "Requirement already satisfied: requests<3.0.0,>=2.13.0 in /usr/local/lib/python3.11/dist-packages (from spacy) (2.32.3)\n",
            "Requirement already satisfied: pydantic!=1.8,!=1.8.1,<3.0.0,>=1.7.4 in /usr/local/lib/python3.11/dist-packages (from spacy) (2.11.4)\n",
            "Requirement already satisfied: jinja2 in /usr/local/lib/python3.11/dist-packages (from spacy) (3.1.6)\n",
            "Requirement already satisfied: setuptools in /usr/local/lib/python3.11/dist-packages (from spacy) (75.2.0)\n",
            "Requirement already satisfied: packaging>=20.0 in /usr/local/lib/python3.11/dist-packages (from spacy) (24.2)\n",
            "Requirement already satisfied: langcodes<4.0.0,>=3.2.0 in /usr/local/lib/python3.11/dist-packages (from spacy) (3.5.0)\n",
            "Requirement already satisfied: language-data>=1.2 in /usr/local/lib/python3.11/dist-packages (from langcodes<4.0.0,>=3.2.0->spacy) (1.3.0)\n",
            "Requirement already satisfied: annotated-types>=0.6.0 in /usr/local/lib/python3.11/dist-packages (from pydantic!=1.8,!=1.8.1,<3.0.0,>=1.7.4->spacy) (0.7.0)\n",
            "Requirement already satisfied: pydantic-core==2.33.2 in /usr/local/lib/python3.11/dist-packages (from pydantic!=1.8,!=1.8.1,<3.0.0,>=1.7.4->spacy) (2.33.2)\n",
            "Requirement already satisfied: typing-extensions>=4.12.2 in /usr/local/lib/python3.11/dist-packages (from pydantic!=1.8,!=1.8.1,<3.0.0,>=1.7.4->spacy) (4.13.2)\n",
            "Requirement already satisfied: typing-inspection>=0.4.0 in /usr/local/lib/python3.11/dist-packages (from pydantic!=1.8,!=1.8.1,<3.0.0,>=1.7.4->spacy) (0.4.0)\n",
            "Requirement already satisfied: charset-normalizer<4,>=2 in /usr/local/lib/python3.11/dist-packages (from requests<3.0.0,>=2.13.0->spacy) (3.4.2)\n",
            "Requirement already satisfied: idna<4,>=2.5 in /usr/local/lib/python3.11/dist-packages (from requests<3.0.0,>=2.13.0->spacy) (3.10)\n",
            "Requirement already satisfied: urllib3<3,>=1.21.1 in /usr/local/lib/python3.11/dist-packages (from requests<3.0.0,>=2.13.0->spacy) (2.4.0)\n",
            "Requirement already satisfied: certifi>=2017.4.17 in /usr/local/lib/python3.11/dist-packages (from requests<3.0.0,>=2.13.0->spacy) (2025.4.26)\n",
            "Requirement already satisfied: blis<1.4.0,>=1.3.0 in /usr/local/lib/python3.11/dist-packages (from thinc<8.4.0,>=8.3.4->spacy) (1.3.0)\n",
            "Requirement already satisfied: confection<1.0.0,>=0.0.1 in /usr/local/lib/python3.11/dist-packages (from thinc<8.4.0,>=8.3.4->spacy) (0.1.5)\n",
            "Requirement already satisfied: click>=8.0.0 in /usr/local/lib/python3.11/dist-packages (from typer<1.0.0,>=0.3.0->spacy) (8.2.0)\n",
            "Requirement already satisfied: shellingham>=1.3.0 in /usr/local/lib/python3.11/dist-packages (from typer<1.0.0,>=0.3.0->spacy) (1.5.4)\n",
            "Requirement already satisfied: rich>=10.11.0 in /usr/local/lib/python3.11/dist-packages (from typer<1.0.0,>=0.3.0->spacy) (13.9.4)\n",
            "Requirement already satisfied: cloudpathlib<1.0.0,>=0.7.0 in /usr/local/lib/python3.11/dist-packages (from weasel<0.5.0,>=0.1.0->spacy) (0.21.0)\n",
            "Requirement already satisfied: smart-open<8.0.0,>=5.2.1 in /usr/local/lib/python3.11/dist-packages (from weasel<0.5.0,>=0.1.0->spacy) (7.1.0)\n",
            "Requirement already satisfied: MarkupSafe>=2.0 in /usr/local/lib/python3.11/dist-packages (from jinja2->spacy) (3.0.2)\n",
            "Requirement already satisfied: marisa-trie>=1.1.0 in /usr/local/lib/python3.11/dist-packages (from language-data>=1.2->langcodes<4.0.0,>=3.2.0->spacy) (1.2.1)\n",
            "Requirement already satisfied: markdown-it-py>=2.2.0 in /usr/local/lib/python3.11/dist-packages (from rich>=10.11.0->typer<1.0.0,>=0.3.0->spacy) (3.0.0)\n",
            "Requirement already satisfied: pygments<3.0.0,>=2.13.0 in /usr/local/lib/python3.11/dist-packages (from rich>=10.11.0->typer<1.0.0,>=0.3.0->spacy) (2.19.1)\n",
            "Requirement already satisfied: wrapt in /usr/local/lib/python3.11/dist-packages (from smart-open<8.0.0,>=5.2.1->weasel<0.5.0,>=0.1.0->spacy) (1.17.2)\n",
            "Requirement already satisfied: mdurl~=0.1 in /usr/local/lib/python3.11/dist-packages (from markdown-it-py>=2.2.0->rich>=10.11.0->typer<1.0.0,>=0.3.0->spacy) (0.1.2)\n",
            "Collecting en-core-web-sm==3.8.0\n",
            "  Downloading https://github.com/explosion/spacy-models/releases/download/en_core_web_sm-3.8.0/en_core_web_sm-3.8.0-py3-none-any.whl (12.8 MB)\n",
            "\u001b[2K     \u001b[90m━━━━━━━━━━━━━━━━━━━━━━━━━━━━━━━━━━━━━━━━\u001b[0m \u001b[32m12.8/12.8 MB\u001b[0m \u001b[31m90.1 MB/s\u001b[0m eta \u001b[36m0:00:00\u001b[0m\n",
            "\u001b[?25h\u001b[38;5;2m✔ Download and installation successful\u001b[0m\n",
            "You can now load the package via spacy.load('en_core_web_sm')\n",
            "\u001b[38;5;3m⚠ Restart to reload dependencies\u001b[0m\n",
            "If you are in a Jupyter or Colab notebook, you may need to restart Python in\n",
            "order to load all the package's dependencies. You can do this by selecting the\n",
            "'Restart kernel' or 'Restart runtime' option.\n"
          ]
        }
      ],
      "source": [
        "!pip install spacy\n",
        "!python -m spacy download en_core_web_sm"
      ]
    },
    {
      "cell_type": "code",
      "execution_count": null,
      "metadata": {
        "id": "XilHxW7mO80n"
      },
      "outputs": [],
      "source": [
        "import spacy\n",
        "nlp = spacy.load(\"en_core_web_sm\")\n",
        "train_df['num_entities'] = [len(nlp(text).ents) for text in tqdm(train_df['statement'], desc=\"NER Train\", disable=True)]\n",
        "val_df['num_entities'] = [len(nlp(text).ents) for text in tqdm(val_df['statement'], desc=\"NER Val\", disable=True)]\n",
        "test_df['num_entities'] = [len(nlp(text).ents) for text in tqdm(test_df['statement'], desc=\"NER Test\", disable=True)]\n",
        "\n",
        "\n",
        "train_df['word_count'] = train_df['statement'].apply(lambda x: len(x.split()))\n",
        "val_df['word_count'] = val_df['statement'].apply(lambda x: len(x.split()))\n",
        "test_df['word_count'] = test_df['statement'].apply(lambda x: len(x.split()))\n"
      ]
    },
    {
      "cell_type": "markdown",
      "source": [
        "Encode, scale, one-hot, feature 결합"
      ],
      "metadata": {
        "id": "-FjM82ynfU55"
      }
    },
    {
      "cell_type": "code",
      "execution_count": null,
      "metadata": {
        "id": "Vhec6_P0l8SO"
      },
      "outputs": [],
      "source": [
        "from sklearn.preprocessing import OneHotEncoder, StandardScaler\n",
        "\n",
        "bert_scaler = StandardScaler()\n",
        "X_bert_train = bert_scaler.fit_transform(X_bert_train)\n",
        "X_bert_val = bert_scaler.transform(X_bert_val)\n",
        "X_bert_test = bert_scaler.transform(X_bert_test)\n",
        "\n",
        "encoder = OneHotEncoder(handle_unknown='ignore', sparse_output=False)\n",
        "X_src_train = encoder.fit_transform(train_df[['statement_source']])\n",
        "X_src_val = encoder.transform(val_df[['statement_source']])\n",
        "X_src_test = encoder.transform(test_df[['statement_source']])\n",
        "\n",
        "year_encoder = OneHotEncoder(sparse_output=False, handle_unknown='ignore')\n",
        "X_year_train = year_encoder.fit_transform(train_df[['statement_year']])\n",
        "X_year_val = year_encoder.transform(val_df[['statement_year']])\n",
        "X_year_test = year_encoder.transform(test_df[['statement_year']])\n",
        "\n",
        "style_cols = ['word_count', 'num_entities']\n",
        "scaler = StandardScaler()\n",
        "X_style_train = scaler.fit_transform(train_df[style_cols])\n",
        "X_style_val = scaler.transform(val_df[style_cols])\n",
        "X_style_test = scaler.transform(test_df[style_cols])\n",
        "\n",
        "X_sent_train = scaler.fit_transform(train_df[['sent_neg', 'sent_neu', 'sent_pos']])\n",
        "X_sent_val = scaler.transform(val_df[['sent_neg', 'sent_neu', 'sent_pos']])\n",
        "X_sent_test = scaler.transform(test_df[['sent_neg', 'sent_neu', 'sent_pos']])\n",
        "\n",
        "X_clust_train = scaler.fit_transform(train_df[['tfidf_cluster_dist']])\n",
        "X_clust_val = scaler.transform(val_df[['tfidf_cluster_dist']])\n",
        "X_clust_test = scaler.transform(test_df[['tfidf_cluster_dist']])\n",
        "\n",
        "import numpy as np\n",
        "X_train_final = np.hstack([X_bert_train, X_sent_train, X_src_train, X_style_train, X_clust_train, X_year_train])\n",
        "X_val_final = np.hstack([X_bert_val, X_sent_val, X_src_val, X_style_val, X_clust_val, X_year_val])\n",
        "X_test_final = np.hstack([X_bert_test, X_sent_test, X_src_test, X_style_test, X_clust_test, X_year_test])\n",
        "y_train_final = train_df['label'].values\n",
        "y_val_final = val_df['label'].values\n",
        "y_test_final = test_df['label'].values"
      ]
    },
    {
      "cell_type": "markdown",
      "metadata": {
        "id": "E3X3cxrCbDXP"
      },
      "source": [
        "# 3. MLP 모델"
      ]
    },
    {
      "cell_type": "markdown",
      "source": [
        "3-1. PyTorch 학습"
      ],
      "metadata": {
        "id": "bZKdrRVtfbQm"
      }
    },
    {
      "cell_type": "code",
      "execution_count": null,
      "metadata": {
        "id": "q6A-ZkpKThUc"
      },
      "outputs": [],
      "source": [
        "# PyTorch 학습\n",
        "import torch\n",
        "from torch.utils.data import TensorDataset, DataLoader\n",
        "X_train_tensor = torch.tensor(X_train_final, dtype=torch.float32)\n",
        "y_train_tensor = torch.tensor(y_train_final, dtype=torch.float32)\n",
        "X_val_tensor = torch.tensor(X_val_final, dtype=torch.float32)\n",
        "y_val_tensor = torch.tensor(y_val_final, dtype=torch.float32)\n",
        "X_test_tensor = torch.tensor(X_test_final, dtype=torch.float32)\n",
        "y_test_tensor = torch.tensor(y_test_final, dtype=torch.float32)\n",
        "\n",
        "train_dataset = TensorDataset(X_train_tensor, y_train_tensor)\n",
        "val_dataset = TensorDataset(X_val_tensor, y_val_tensor)\n",
        "test_dataset = TensorDataset(X_test_tensor, y_test_tensor)\n",
        "\n",
        "train_loader = DataLoader(train_dataset, batch_size=64, shuffle=True)\n",
        "val_loader = DataLoader(val_dataset, batch_size=64)\n",
        "test_loader = DataLoader(test_dataset, batch_size=64)\n"
      ]
    },
    {
      "cell_type": "code",
      "execution_count": null,
      "metadata": {
        "id": "DX6oJRgAXiBM"
      },
      "outputs": [],
      "source": [
        "import torch.nn as nn\n",
        "class MLPBatchNorm1D(nn.Module):\n",
        "    def __init__(self, input_dim, dropout_ratios):\n",
        "        super().__init__()\n",
        "        self.net = nn.Sequential(\n",
        "            nn.Linear(input_dim, 512),\n",
        "            nn.BatchNorm1d(512),\n",
        "            nn.ReLU(),\n",
        "            nn.Dropout(dropout_ratios[0]),\n",
        "\n",
        "            nn.Linear(512, 256),\n",
        "            nn.BatchNorm1d(256),\n",
        "            nn.ReLU(),\n",
        "            nn.Dropout(dropout_ratios[1]),\n",
        "\n",
        "            nn.Linear(256, 64),\n",
        "            nn.ReLU(),\n",
        "            nn.Dropout(dropout_ratios[2]),\n",
        "\n",
        "            nn.Linear(64, 1),\n",
        "            nn.Sigmoid()\n",
        "        )\n",
        "\n",
        "    def forward(self, x):\n",
        "        return self.net(x)\n",
        "\n",
        "DROPOUT_RATIOS = [0.5, 0.4, 0.3]\n",
        "model = MLPBatchNorm1D(X_train_tensor.shape[1], DROPOUT_RATIOS)\n",
        "criterion = nn.BCELoss()\n",
        "optimizer = torch.optim.Adam(model.parameters(), lr=1e-3)"
      ]
    },
    {
      "cell_type": "code",
      "execution_count": null,
      "metadata": {
        "colab": {
          "base_uri": "https://localhost:8080/"
        },
        "id": "TEmOQYSOXj0c",
        "outputId": "38bfe765-a9a3-4391-b7b1-a89480f9aea0"
      },
      "outputs": [
        {
          "output_type": "stream",
          "name": "stdout",
          "text": [
            "Epoch 1 | Train Loss: 0.5403 | Valid Loss: 0.5129 | Test loss: 0.5084715472615283\n",
            "  --> Best model updated\n",
            "Epoch 2 | Train Loss: 0.4923 | Valid Loss: 0.4945 | Test loss: 0.4892214782859968\n",
            "  --> Best model updated\n",
            "Epoch 3 | Train Loss: 0.4695 | Valid Loss: 0.4869 | Test loss: 0.48135636163794476\n",
            "  --> Best model updated\n",
            "Epoch 4 | Train Loss: 0.4483 | Valid Loss: 0.4924 | Test loss: 0.47253427427747974\n",
            "  --> Best model updated\n",
            "Epoch 5 | Train Loss: 0.4304 | Valid Loss: 0.5006 | Test loss: 0.4775779882202978\n",
            "Epoch 6 | Train Loss: 0.4115 | Valid Loss: 0.5021 | Test loss: 0.4785736261502556\n",
            "Epoch 7 | Train Loss: 0.4000 | Valid Loss: 0.5114 | Test loss: 0.48416448481704877\n",
            "Epoch 8 | Train Loss: 0.3821 | Valid Loss: 0.4995 | Test loss: 0.4834192524785581\n",
            "Epoch 9 | Train Loss: 0.3737 | Valid Loss: 0.5043 | Test loss: 0.4892833543860394\n",
            "  --> Early stopping triggered\n"
          ]
        }
      ],
      "source": [
        "# 학습 루프\n",
        "NUM_EPOCHS = 30\n",
        "best_loss = float('inf')\n",
        "best_model = None\n",
        "early_stop = 5\n",
        "epochs_no_improve = 0\n",
        "\n",
        "for epoch in range(NUM_EPOCHS):\n",
        "    train_losses = []\n",
        "    model.train()\n",
        "    for xb, yb in train_loader:\n",
        "        optimizer.zero_grad()\n",
        "        preds = model(xb).squeeze()\n",
        "        loss = criterion(preds, yb)\n",
        "        loss.backward()\n",
        "        optimizer.step()\n",
        "        train_losses.append(loss.item())\n",
        "\n",
        "    valid_losses = []\n",
        "    model.eval()\n",
        "    with torch.no_grad():\n",
        "        for xb, yb in val_loader:\n",
        "            preds = model(xb).squeeze()\n",
        "            loss = criterion(preds, yb)\n",
        "            valid_losses.append(loss.item())\n",
        "\n",
        "    test_losses = []\n",
        "    model.eval()\n",
        "    with torch.no_grad():\n",
        "        for xb, yb in test_loader:\n",
        "            preds = model(xb).squeeze()\n",
        "            loss = criterion(preds, yb)\n",
        "            test_losses.append(loss.item())\n",
        "\n",
        "    avg_valid_loss = np.mean(valid_losses)\n",
        "    avg_test_loss = np.mean(test_losses)\n",
        "    print(f\"Epoch {epoch+1} | Train Loss: {np.mean(train_losses):.4f} | Valid Loss: {avg_valid_loss:.4f} | Test loss: {avg_test_loss}\")\n",
        "\n",
        "    if avg_test_loss < best_loss:\n",
        "        best_loss = avg_test_loss\n",
        "        best_model = model\n",
        "        epochs_no_improve = 0\n",
        "        print(\"  --> Best model updated\")\n",
        "    else:\n",
        "        epochs_no_improve += 1\n",
        "        if epochs_no_improve >= early_stop:\n",
        "            print(\"  --> Early stopping triggered\")\n",
        "            break\n",
        "\n"
      ]
    },
    {
      "cell_type": "markdown",
      "source": [
        "# 4. 평가"
      ],
      "metadata": {
        "id": "Acv5tUVzfe0s"
      }
    },
    {
      "cell_type": "markdown",
      "source": [
        "classification report"
      ],
      "metadata": {
        "id": "Lg0YGbLYfiGz"
      }
    },
    {
      "cell_type": "code",
      "execution_count": null,
      "metadata": {
        "colab": {
          "base_uri": "https://localhost:8080/"
        },
        "id": "9Z-PJlp1Xm3V",
        "outputId": "c1ab9a9b-2cd4-4b77-bb99-38a189ccd690"
      },
      "outputs": [
        {
          "output_type": "stream",
          "name": "stdout",
          "text": [
            "              precision    recall  f1-score   support\n",
            "\n",
            "         0.0       0.70      0.76      0.73       580\n",
            "         1.0       0.82      0.77      0.79       833\n",
            "\n",
            "    accuracy                           0.77      1413\n",
            "   macro avg       0.76      0.76      0.76      1413\n",
            "weighted avg       0.77      0.77      0.77      1413\n",
            "\n"
          ]
        }
      ],
      "source": [
        "from sklearn.metrics import classification_report\n",
        "best_model.eval()\n",
        "with torch.no_grad():\n",
        "    test_preds = best_model(X_test_tensor).round().squeeze()\n",
        "\n",
        "print(classification_report(y_test_tensor, test_preds))\n"
      ]
    },
    {
      "cell_type": "markdown",
      "source": [
        "AUROC"
      ],
      "metadata": {
        "id": "PxNz-c7Vfi48"
      }
    },
    {
      "cell_type": "code",
      "source": [
        "from sklearn.metrics import roc_curve, roc_auc_score, average_precision_score\n",
        "import matplotlib.pyplot as plt\n",
        "\n",
        "def evaluate_ap_and_auroc(test_labels, test_preds, exp_names):\n",
        "    assert len(test_labels) == len(test_preds) == len(exp_names), \"길이 불일치 오류\"\n",
        "    for labels, preds, exp_name in zip(test_labels, test_preds, exp_names):\n",
        "        fpr, tpr, _ = roc_curve(labels, preds)\n",
        "        auc = roc_auc_score(labels, preds)\n",
        "        ap = average_precision_score(labels, preds)\n",
        "        plt.plot(fpr, tpr, label=f'{exp_name} : AUC = {auc:.3f}')\n",
        "        print(f\"[*] {exp_name} | AP = {ap:.3f}, AUROC = {auc:.3f}\")\n",
        "    print(\"-\" * 50)\n",
        "    plt.xlabel(\"False Positive Rate\")\n",
        "    plt.ylabel(\"True Positive Rate\")\n",
        "    plt.title(\"ROC Curve\")\n",
        "    plt.legend()\n",
        "    plt.show()\n",
        "\n",
        "#  테스트셋 예측 확률값\n",
        "best_model.eval()\n",
        "with torch.no_grad():\n",
        "    test_probs = best_model(X_test_tensor).squeeze().cpu().numpy()  # 확률값\n",
        "\n",
        "\n",
        "exp_names = ['MLP Final']\n",
        "test_preds = [test_probs]\n",
        "test_labels = [y_test_tensor.cpu().numpy()]\n",
        "\n",
        "evaluate_ap_and_auroc(test_labels, test_preds, exp_names)\n"
      ],
      "metadata": {
        "id": "QB_y0WCwLvyx",
        "colab": {
          "base_uri": "https://localhost:8080/",
          "height": 509
        },
        "outputId": "c589d059-fe8e-4229-ba6b-ac95c70fe9a9"
      },
      "execution_count": null,
      "outputs": [
        {
          "output_type": "stream",
          "name": "stdout",
          "text": [
            "[*] MLP Final | AP = 0.886, AUROC = 0.830\n",
            "--------------------------------------------------\n"
          ]
        },
        {
          "output_type": "display_data",
          "data": {
            "text/plain": [
              "<Figure size 640x480 with 1 Axes>"
            ],
            "image/png": "[encoded data removed]"
          },
          "metadata": {}
        }
      ]
    },
    {
      "cell_type": "markdown",
      "source": [
        "# 5. 모델 저장"
      ],
      "metadata": {
        "id": "K7mcERrGfl32"
      }
    },
    {
      "cell_type": "code",
      "source": [
        "np.save('final_test_probs.npy', best_model(X_test_tensor).detach().cpu().numpy())\n"
      ],
      "metadata": {
        "id": "gNHsIxYM865w"
      },
      "execution_count": null,
      "outputs": []
    },
    {
      "cell_type": "code",
      "source": [
        "torch.save(best_model.state_dict(), \"best_model.pt\")\n"
      ],
      "metadata": {
        "id": "Vcq6d00n9Ct3"
      },
      "execution_count": null,
      "outputs": []
    },
    {
      "cell_type": "code",
      "source": [
        "from google.colab import drive\n",
        "drive.mount('/content/drive')\n",
        "\n",
        "import numpy as np\n",
        "import torch\n",
        "import os\n",
        "\n",
        "save_path = \"/content/drive/MyDrive/fakenews_results\"\n",
        "os.makedirs(save_path, exist_ok=True)\n",
        "\n",
        "np.save(f\"{save_path}/final_test_probs.npy\", best_model(X_test_tensor).detach().cpu().numpy())\n",
        "\n",
        "# 모델 가중치 저장\n",
        "torch.save(best_model.state_dict(), f\"{save_path}/best_model.pt\")\n"
      ],
      "metadata": {
        "colab": {
          "base_uri": "https://localhost:8080/"
        },
        "id": "bIIg5-SARuJ8",
        "outputId": "89021ffc-15e0-4c49-bea0-76f4dd461eef"
      },
      "execution_count": null,
      "outputs": [
        {
          "output_type": "stream",
          "name": "stdout",
          "text": [
            "Drive already mounted at /content/drive; to attempt to forcibly remount, call drive.mount(\"/content/drive\", force_remount=True).\n"
          ]
        }
      ]
    },
    {
      "cell_type": "code",
      "source": [
        "!ls /content/drive/MyDrive/fakenews_results\n"
      ],
      "metadata": {
        "id": "l1fo6E2UR3P9"
      },
      "execution_count": null,
      "outputs": []
    }
  ],
  "metadata": {
    "colab": {
      "provenance": [],
      "gpuType": "T4"
    },
    "kernelspec": {
      "display_name": "Python 3",
      "name": "python3"
    },
    "language_info": {
      "name": "python"
    },
    "accelerator": "GPU"
  },
  "nbformat": 4,
  "nbformat_minor": 0
}