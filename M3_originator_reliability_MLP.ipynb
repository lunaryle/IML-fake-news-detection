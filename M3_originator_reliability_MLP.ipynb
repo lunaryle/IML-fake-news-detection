{
  "metadata": {
    "kernelspec": {
      "display_name": "Python 3",
      "name": "python3"
    },
    "language_info": {
      "name": "python",
      "version": "3.7.12",
      "mimetype": "text/x-python",
      "codemirror_mode": {
        "name": "ipython",
        "version": 3
      },
      "pygments_lexer": "ipython3",
      "nbconvert_exporter": "python",
      "file_extension": ".py"
    },
    "kaggle": {
      "accelerator": "none",
      "dataSources": [
        {
          "sourceId": 4249043,
          "sourceType": "datasetVersion",
          "datasetId": 2503801
        }
      ],
      "dockerImageVersionId": 30407,
      "isInternetEnabled": false,
      "language": "python",
      "sourceType": "notebook",
      "isGpuEnabled": false
    },
    "colab": {
      "provenance": [],
      "gpuType": "T4",
      "collapsed_sections": [
        "kya4GFcNgK7R"
      ]
    },
    "accelerator": "GPU"
  },
  "nbformat_minor": 0,
  "nbformat": 4,
  "cells": [
    {
      "cell_type": "markdown",
      "source": [
        "### 1. Install Required Dependencies"
      ],
      "metadata": {
        "id": "KikeLakGXeSb"
      }
    },
    {
      "cell_type": "code",
      "source": [
        "!pip install sentence-transformers"
      ],
      "metadata": {
        "id": "Sodvp03kYCK0"
      },
      "execution_count": null,
      "outputs": []
    },
    {
      "cell_type": "code",
      "source": [
        "import pandas as pd\n",
        "import numpy as np\n",
        "import matplotlib.pyplot as plt\n",
        "\n",
        "from sklearn.model_selection import train_test_split\n",
        "from sklearn.metrics import classification_report\n",
        "from sklearn.preprocessing import OneHotEncoder, LabelEncoder, StandardScaler"
      ],
      "metadata": {
        "id": "d28GlrsToc9I"
      },
      "execution_count": 32,
      "outputs": []
    },
    {
      "cell_type": "markdown",
      "source": [
        "### 2. Mount drive & Load data"
      ],
      "metadata": {
        "id": "vSsNpTzGXeSd"
      }
    },
    {
      "cell_type": "code",
      "source": [
        "from google.colab import drive\n",
        "drive.mount('/content/drive')"
      ],
      "metadata": {
        "colab": {
          "base_uri": "https://localhost:8080/"
        },
        "id": "SVVdXMEWXn10",
        "outputId": "3f3e915c-d285-4b8c-8bca-50b81daa09e2"
      },
      "execution_count": 3,
      "outputs": [
        {
          "output_type": "stream",
          "name": "stdout",
          "text": [
            "Mounted at /content/drive\n"
          ]
        }
      ]
    },
    {
      "cell_type": "code",
      "source": [
        "df = pd.read_json('/content/drive/MyDrive/Colab Notebooks/Intro_to_Machine_Learning/politifact_factcheck_data.json', lines=True)\n",
        "df['verdict'].value_counts()"
      ],
      "metadata": {
        "execution": {
          "iopub.status.busy": "2023-04-03T17:52:11.834453Z",
          "iopub.execute_input": "2023-04-03T17:52:11.834917Z",
          "iopub.status.idle": "2023-04-03T17:52:12.083428Z",
          "shell.execute_reply.started": "2023-04-03T17:52:11.834879Z",
          "shell.execute_reply": "2023-04-03T17:52:12.082403Z"
        },
        "trusted": true,
        "id": "zpRsm51lXeSd",
        "colab": {
          "base_uri": "https://localhost:8080/",
          "height": 303
        },
        "outputId": "5e4fc39f-8948-45ea-e571-f39b5c50f583"
      },
      "outputs": [
        {
          "output_type": "execute_result",
          "data": {
            "text/plain": [
              "verdict\n",
              "false           5625\n",
              "half-true       3597\n",
              "mostly-false    3432\n",
              "mostly-true     3332\n",
              "pants-fire      2703\n",
              "true            2463\n",
              "Name: count, dtype: int64"
            ],
            "text/html": [
              "<div>\n",
              "<style scoped>\n",
              "    .dataframe tbody tr th:only-of-type {\n",
              "        vertical-align: middle;\n",
              "    }\n",
              "\n",
              "    .dataframe tbody tr th {\n",
              "        vertical-align: top;\n",
              "    }\n",
              "\n",
              "    .dataframe thead th {\n",
              "        text-align: right;\n",
              "    }\n",
              "</style>\n",
              "<table border=\"1\" class=\"dataframe\">\n",
              "  <thead>\n",
              "    <tr style=\"text-align: right;\">\n",
              "      <th></th>\n",
              "      <th>count</th>\n",
              "    </tr>\n",
              "    <tr>\n",
              "      <th>verdict</th>\n",
              "      <th></th>\n",
              "    </tr>\n",
              "  </thead>\n",
              "  <tbody>\n",
              "    <tr>\n",
              "      <th>false</th>\n",
              "      <td>5625</td>\n",
              "    </tr>\n",
              "    <tr>\n",
              "      <th>half-true</th>\n",
              "      <td>3597</td>\n",
              "    </tr>\n",
              "    <tr>\n",
              "      <th>mostly-false</th>\n",
              "      <td>3432</td>\n",
              "    </tr>\n",
              "    <tr>\n",
              "      <th>mostly-true</th>\n",
              "      <td>3332</td>\n",
              "    </tr>\n",
              "    <tr>\n",
              "      <th>pants-fire</th>\n",
              "      <td>2703</td>\n",
              "    </tr>\n",
              "    <tr>\n",
              "      <th>true</th>\n",
              "      <td>2463</td>\n",
              "    </tr>\n",
              "  </tbody>\n",
              "</table>\n",
              "</div><br><label><b>dtype:</b> int64</label>"
            ]
          },
          "metadata": {},
          "execution_count": 4
        }
      ],
      "execution_count": 4
    },
    {
      "cell_type": "markdown",
      "source": [
        "### 3. Preprocess"
      ],
      "metadata": {
        "id": "GafKaSkClZ0O"
      }
    },
    {
      "cell_type": "markdown",
      "source": [
        "#### 3-1. Filter ambiguos statements & binarize labels"
      ],
      "metadata": {
        "id": "EtIVIdzGk-OF"
      }
    },
    {
      "cell_type": "code",
      "source": [
        "print(len(df))\n",
        "df = df[df['verdict'] != 'half-true'].reset_index(drop=True)\n",
        "df = df[df['verdict'] != 'mostly-false'].reset_index(drop=True)\n",
        "print(len(df))"
      ],
      "metadata": {
        "colab": {
          "base_uri": "https://localhost:8080/"
        },
        "id": "LtXadEwJm_D7",
        "outputId": "ce4d0a91-a44d-400d-da1d-ecab8b2a9789"
      },
      "execution_count": 5,
      "outputs": [
        {
          "output_type": "stream",
          "name": "stdout",
          "text": [
            "21152\n",
            "14123\n"
          ]
        }
      ]
    },
    {
      "cell_type": "code",
      "source": [
        "# Binarize the labels\n",
        "binary_map = {\n",
        "    'true': 0,\n",
        "    'mostly-true': 0,\n",
        "    'false': 1,\n",
        "    'pants-fire': 1\n",
        "}\n",
        "df['binary_verdict'] = df['verdict'].map(binary_map)\n",
        "df['binary_verdict'].value_counts()"
      ],
      "metadata": {
        "execution": {
          "iopub.status.busy": "2023-04-03T17:53:14.739337Z",
          "iopub.execute_input": "2023-04-03T17:53:14.73974Z",
          "iopub.status.idle": "2023-04-03T17:53:14.752239Z",
          "shell.execute_reply.started": "2023-04-03T17:53:14.739705Z",
          "shell.execute_reply": "2023-04-03T17:53:14.751084Z"
        },
        "trusted": true,
        "id": "RGjebi-AlJsc",
        "colab": {
          "base_uri": "https://localhost:8080/",
          "height": 178
        },
        "outputId": "7244fb20-f931-46f4-a81d-936789704ce8"
      },
      "outputs": [
        {
          "output_type": "execute_result",
          "data": {
            "text/plain": [
              "binary_verdict\n",
              "1    8328\n",
              "0    5795\n",
              "Name: count, dtype: int64"
            ],
            "text/html": [
              "<div>\n",
              "<style scoped>\n",
              "    .dataframe tbody tr th:only-of-type {\n",
              "        vertical-align: middle;\n",
              "    }\n",
              "\n",
              "    .dataframe tbody tr th {\n",
              "        vertical-align: top;\n",
              "    }\n",
              "\n",
              "    .dataframe thead th {\n",
              "        text-align: right;\n",
              "    }\n",
              "</style>\n",
              "<table border=\"1\" class=\"dataframe\">\n",
              "  <thead>\n",
              "    <tr style=\"text-align: right;\">\n",
              "      <th></th>\n",
              "      <th>count</th>\n",
              "    </tr>\n",
              "    <tr>\n",
              "      <th>binary_verdict</th>\n",
              "      <th></th>\n",
              "    </tr>\n",
              "  </thead>\n",
              "  <tbody>\n",
              "    <tr>\n",
              "      <th>1</th>\n",
              "      <td>8328</td>\n",
              "    </tr>\n",
              "    <tr>\n",
              "      <th>0</th>\n",
              "      <td>5795</td>\n",
              "    </tr>\n",
              "  </tbody>\n",
              "</table>\n",
              "</div><br><label><b>dtype:</b> int64</label>"
            ]
          },
          "metadata": {},
          "execution_count": 6
        }
      ],
      "execution_count": 6
    },
    {
      "cell_type": "markdown",
      "source": [
        "#### 3-2. Discard unused metadata (e.g., `factcheck_date`, `factcheck_analysis_link`, etc.)"
      ],
      "metadata": {
        "id": "d9W5RS4Wp0FF"
      }
    },
    {
      "cell_type": "code",
      "source": [
        "df = df.drop(['factchecker', 'factcheck_date', 'factcheck_analysis_link'], axis=1)\n",
        "df.head(3)"
      ],
      "metadata": {
        "colab": {
          "base_uri": "https://localhost:8080/",
          "height": 143
        },
        "id": "q-Qs__nEptyO",
        "outputId": "123d66ef-68dd-41b8-834c-14fa3b6b2b40"
      },
      "execution_count": 8,
      "outputs": [
        {
          "output_type": "execute_result",
          "data": {
            "text/plain": [
              "       verdict statement_originator  \\\n",
              "0         true         Barack Obama   \n",
              "1        false           Matt Gaetz   \n",
              "2  mostly-true         Kelly Ayotte   \n",
              "\n",
              "                                           statement statement_date  \\\n",
              "0  John McCain opposed bankruptcy protections for...      6/11/2008   \n",
              "1  \"Bennie Thompson actively cheer-led riots in t...       6/7/2022   \n",
              "2  Says Maggie Hassan was \"out of state on 30 day...      5/18/2016   \n",
              "\n",
              "  statement_source  binary_verdict  \n",
              "0           speech               0  \n",
              "1       television               1  \n",
              "2             news               0  "
            ],
            "text/html": [
              "\n",
              "  <div id=\"df-438e570d-ddad-40d8-b8ab-d27a8a64d3ae\" class=\"colab-df-container\">\n",
              "    <div>\n",
              "<style scoped>\n",
              "    .dataframe tbody tr th:only-of-type {\n",
              "        vertical-align: middle;\n",
              "    }\n",
              "\n",
              "    .dataframe tbody tr th {\n",
              "        vertical-align: top;\n",
              "    }\n",
              "\n",
              "    .dataframe thead th {\n",
              "        text-align: right;\n",
              "    }\n",
              "</style>\n",
              "<table border=\"1\" class=\"dataframe\">\n",
              "  <thead>\n",
              "    <tr style=\"text-align: right;\">\n",
              "      <th></th>\n",
              "      <th>verdict</th>\n",
              "      <th>statement_originator</th>\n",
              "      <th>statement</th>\n",
              "      <th>statement_date</th>\n",
              "      <th>statement_source</th>\n",
              "      <th>binary_verdict</th>\n",
              "    </tr>\n",
              "  </thead>\n",
              "  <tbody>\n",
              "    <tr>\n",
              "      <th>0</th>\n",
              "      <td>true</td>\n",
              "      <td>Barack Obama</td>\n",
              "      <td>John McCain opposed bankruptcy protections for...</td>\n",
              "      <td>6/11/2008</td>\n",
              "      <td>speech</td>\n",
              "      <td>0</td>\n",
              "    </tr>\n",
              "    <tr>\n",
              "      <th>1</th>\n",
              "      <td>false</td>\n",
              "      <td>Matt Gaetz</td>\n",
              "      <td>\"Bennie Thompson actively cheer-led riots in t...</td>\n",
              "      <td>6/7/2022</td>\n",
              "      <td>television</td>\n",
              "      <td>1</td>\n",
              "    </tr>\n",
              "    <tr>\n",
              "      <th>2</th>\n",
              "      <td>mostly-true</td>\n",
              "      <td>Kelly Ayotte</td>\n",
              "      <td>Says Maggie Hassan was \"out of state on 30 day...</td>\n",
              "      <td>5/18/2016</td>\n",
              "      <td>news</td>\n",
              "      <td>0</td>\n",
              "    </tr>\n",
              "  </tbody>\n",
              "</table>\n",
              "</div>\n",
              "    <div class=\"colab-df-buttons\">\n",
              "\n",
              "  <div class=\"colab-df-container\">\n",
              "    <button class=\"colab-df-convert\" onclick=\"convertToInteractive('df-438e570d-ddad-40d8-b8ab-d27a8a64d3ae')\"\n",
              "            title=\"Convert this dataframe to an interactive table.\"\n",
              "            style=\"display:none;\">\n",
              "\n",
              "  <svg xmlns=\"http://www.w3.org/2000/svg\" height=\"24px\" viewBox=\"0 -960 960 960\">\n",
              "    <path d=\"M120-120v-720h720v720H120Zm60-500h600v-160H180v160Zm220 220h160v-160H400v160Zm0 220h160v-160H400v160ZM180-400h160v-160H180v160Zm440 0h160v-160H620v160ZM180-180h160v-160H180v160Zm440 0h160v-160H620v160Z\"/>\n",
              "  </svg>\n",
              "    </button>\n",
              "\n",
              "  <style>\n",
              "    .colab-df-container {\n",
              "      display:flex;\n",
              "      gap: 12px;\n",
              "    }\n",
              "\n",
              "    .colab-df-convert {\n",
              "      background-color: #E8F0FE;\n",
              "      border: none;\n",
              "      border-radius: 50%;\n",
              "      cursor: pointer;\n",
              "      display: none;\n",
              "      fill: #1967D2;\n",
              "      height: 32px;\n",
              "      padding: 0 0 0 0;\n",
              "      width: 32px;\n",
              "    }\n",
              "\n",
              "    .colab-df-convert:hover {\n",
              "      background-color: #E2EBFA;\n",
              "      box-shadow: 0px 1px 2px rgba(60, 64, 67, 0.3), 0px 1px 3px 1px rgba(60, 64, 67, 0.15);\n",
              "      fill: #174EA6;\n",
              "    }\n",
              "\n",
              "    .colab-df-buttons div {\n",
              "      margin-bottom: 4px;\n",
              "    }\n",
              "\n",
              "    [theme=dark] .colab-df-convert {\n",
              "      background-color: #3B4455;\n",
              "      fill: #D2E3FC;\n",
              "    }\n",
              "\n",
              "    [theme=dark] .colab-df-convert:hover {\n",
              "      background-color: #434B5C;\n",
              "      box-shadow: 0px 1px 3px 1px rgba(0, 0, 0, 0.15);\n",
              "      filter: drop-shadow(0px 1px 2px rgba(0, 0, 0, 0.3));\n",
              "      fill: #FFFFFF;\n",
              "    }\n",
              "  </style>\n",
              "\n",
              "    <script>\n",
              "      const buttonEl =\n",
              "        document.querySelector('#df-438e570d-ddad-40d8-b8ab-d27a8a64d3ae button.colab-df-convert');\n",
              "      buttonEl.style.display =\n",
              "        google.colab.kernel.accessAllowed ? 'block' : 'none';\n",
              "\n",
              "      async function convertToInteractive(key) {\n",
              "        const element = document.querySelector('#df-438e570d-ddad-40d8-b8ab-d27a8a64d3ae');\n",
              "        const dataTable =\n",
              "          await google.colab.kernel.invokeFunction('convertToInteractive',\n",
              "                                                    [key], {});\n",
              "        if (!dataTable) return;\n",
              "\n",
              "        const docLinkHtml = 'Like what you see? Visit the ' +\n",
              "          '<a target=\"_blank\" href=https://colab.research.google.com/notebooks/data_table.ipynb>data table notebook</a>'\n",
              "          + ' to learn more about interactive tables.';\n",
              "        element.innerHTML = '';\n",
              "        dataTable['output_type'] = 'display_data';\n",
              "        await google.colab.output.renderOutput(dataTable, element);\n",
              "        const docLink = document.createElement('div');\n",
              "        docLink.innerHTML = docLinkHtml;\n",
              "        element.appendChild(docLink);\n",
              "      }\n",
              "    </script>\n",
              "  </div>\n",
              "\n",
              "\n",
              "    <div id=\"df-3eeb3b0b-7861-44f1-ac5e-da5ec902d49b\">\n",
              "      <button class=\"colab-df-quickchart\" onclick=\"quickchart('df-3eeb3b0b-7861-44f1-ac5e-da5ec902d49b')\"\n",
              "                title=\"Suggest charts\"\n",
              "                style=\"display:none;\">\n",
              "\n",
              "<svg xmlns=\"http://www.w3.org/2000/svg\" height=\"24px\"viewBox=\"0 0 24 24\"\n",
              "     width=\"24px\">\n",
              "    <g>\n",
              "        <path d=\"M19 3H5c-1.1 0-2 .9-2 2v14c0 1.1.9 2 2 2h14c1.1 0 2-.9 2-2V5c0-1.1-.9-2-2-2zM9 17H7v-7h2v7zm4 0h-2V7h2v10zm4 0h-2v-4h2v4z\"/>\n",
              "    </g>\n",
              "</svg>\n",
              "      </button>\n",
              "\n",
              "<style>\n",
              "  .colab-df-quickchart {\n",
              "      --bg-color: #E8F0FE;\n",
              "      --fill-color: #1967D2;\n",
              "      --hover-bg-color: #E2EBFA;\n",
              "      --hover-fill-color: #174EA6;\n",
              "      --disabled-fill-color: #AAA;\n",
              "      --disabled-bg-color: #DDD;\n",
              "  }\n",
              "\n",
              "  [theme=dark] .colab-df-quickchart {\n",
              "      --bg-color: #3B4455;\n",
              "      --fill-color: #D2E3FC;\n",
              "      --hover-bg-color: #434B5C;\n",
              "      --hover-fill-color: #FFFFFF;\n",
              "      --disabled-bg-color: #3B4455;\n",
              "      --disabled-fill-color: #666;\n",
              "  }\n",
              "\n",
              "  .colab-df-quickchart {\n",
              "    background-color: var(--bg-color);\n",
              "    border: none;\n",
              "    border-radius: 50%;\n",
              "    cursor: pointer;\n",
              "    display: none;\n",
              "    fill: var(--fill-color);\n",
              "    height: 32px;\n",
              "    padding: 0;\n",
              "    width: 32px;\n",
              "  }\n",
              "\n",
              "  .colab-df-quickchart:hover {\n",
              "    background-color: var(--hover-bg-color);\n",
              "    box-shadow: 0 1px 2px rgba(60, 64, 67, 0.3), 0 1px 3px 1px rgba(60, 64, 67, 0.15);\n",
              "    fill: var(--button-hover-fill-color);\n",
              "  }\n",
              "\n",
              "  .colab-df-quickchart-complete:disabled,\n",
              "  .colab-df-quickchart-complete:disabled:hover {\n",
              "    background-color: var(--disabled-bg-color);\n",
              "    fill: var(--disabled-fill-color);\n",
              "    box-shadow: none;\n",
              "  }\n",
              "\n",
              "  .colab-df-spinner {\n",
              "    border: 2px solid var(--fill-color);\n",
              "    border-color: transparent;\n",
              "    border-bottom-color: var(--fill-color);\n",
              "    animation:\n",
              "      spin 1s steps(1) infinite;\n",
              "  }\n",
              "\n",
              "  @keyframes spin {\n",
              "    0% {\n",
              "      border-color: transparent;\n",
              "      border-bottom-color: var(--fill-color);\n",
              "      border-left-color: var(--fill-color);\n",
              "    }\n",
              "    20% {\n",
              "      border-color: transparent;\n",
              "      border-left-color: var(--fill-color);\n",
              "      border-top-color: var(--fill-color);\n",
              "    }\n",
              "    30% {\n",
              "      border-color: transparent;\n",
              "      border-left-color: var(--fill-color);\n",
              "      border-top-color: var(--fill-color);\n",
              "      border-right-color: var(--fill-color);\n",
              "    }\n",
              "    40% {\n",
              "      border-color: transparent;\n",
              "      border-right-color: var(--fill-color);\n",
              "      border-top-color: var(--fill-color);\n",
              "    }\n",
              "    60% {\n",
              "      border-color: transparent;\n",
              "      border-right-color: var(--fill-color);\n",
              "    }\n",
              "    80% {\n",
              "      border-color: transparent;\n",
              "      border-right-color: var(--fill-color);\n",
              "      border-bottom-color: var(--fill-color);\n",
              "    }\n",
              "    90% {\n",
              "      border-color: transparent;\n",
              "      border-bottom-color: var(--fill-color);\n",
              "    }\n",
              "  }\n",
              "</style>\n",
              "\n",
              "      <script>\n",
              "        async function quickchart(key) {\n",
              "          const quickchartButtonEl =\n",
              "            document.querySelector('#' + key + ' button');\n",
              "          quickchartButtonEl.disabled = true;  // To prevent multiple clicks.\n",
              "          quickchartButtonEl.classList.add('colab-df-spinner');\n",
              "          try {\n",
              "            const charts = await google.colab.kernel.invokeFunction(\n",
              "                'suggestCharts', [key], {});\n",
              "          } catch (error) {\n",
              "            console.error('Error during call to suggestCharts:', error);\n",
              "          }\n",
              "          quickchartButtonEl.classList.remove('colab-df-spinner');\n",
              "          quickchartButtonEl.classList.add('colab-df-quickchart-complete');\n",
              "        }\n",
              "        (() => {\n",
              "          let quickchartButtonEl =\n",
              "            document.querySelector('#df-3eeb3b0b-7861-44f1-ac5e-da5ec902d49b button');\n",
              "          quickchartButtonEl.style.display =\n",
              "            google.colab.kernel.accessAllowed ? 'block' : 'none';\n",
              "        })();\n",
              "      </script>\n",
              "    </div>\n",
              "\n",
              "    </div>\n",
              "  </div>\n"
            ],
            "application/vnd.google.colaboratory.intrinsic+json": {
              "type": "dataframe",
              "variable_name": "df",
              "summary": "{\n  \"name\": \"df\",\n  \"rows\": 14123,\n  \"fields\": [\n    {\n      \"column\": \"verdict\",\n      \"properties\": {\n        \"dtype\": \"category\",\n        \"num_unique_values\": 4,\n        \"samples\": [\n          \"false\",\n          \"pants-fire\",\n          \"true\"\n        ],\n        \"semantic_type\": \"\",\n        \"description\": \"\"\n      }\n    },\n    {\n      \"column\": \"statement_originator\",\n      \"properties\": {\n        \"dtype\": \"category\",\n        \"num_unique_values\": 3475,\n        \"samples\": [\n          \"Mac Heller\",\n          \"Ruben Hinojosa\",\n          \"AmericanNews.com\"\n        ],\n        \"semantic_type\": \"\",\n        \"description\": \"\"\n      }\n    },\n    {\n      \"column\": \"statement\",\n      \"properties\": {\n        \"dtype\": \"string\",\n        \"num_unique_values\": 14113,\n        \"samples\": [\n          \"Says Lee Majors died and left $6 million to Donald Trump.\",\n          \"Says H.R. 1 \\\"allows minors to vote.\\\"\",\n          \"\\\"Only half of the murders in the city of St. Louis get solved.\\\"\"\n        ],\n        \"semantic_type\": \"\",\n        \"description\": \"\"\n      }\n    },\n    {\n      \"column\": \"statement_date\",\n      \"properties\": {\n        \"dtype\": \"object\",\n        \"num_unique_values\": 4374,\n        \"samples\": [\n          \"1/11/2021\",\n          \"9/26/2020\",\n          \"10/9/2016\"\n        ],\n        \"semantic_type\": \"\",\n        \"description\": \"\"\n      }\n    },\n    {\n      \"column\": \"statement_source\",\n      \"properties\": {\n        \"dtype\": \"category\",\n        \"num_unique_values\": 13,\n        \"samples\": [\n          \"testimony\",\n          \"radio\",\n          \"speech\"\n        ],\n        \"semantic_type\": \"\",\n        \"description\": \"\"\n      }\n    },\n    {\n      \"column\": \"binary_verdict\",\n      \"properties\": {\n        \"dtype\": \"number\",\n        \"std\": 0,\n        \"min\": 0,\n        \"max\": 1,\n        \"num_unique_values\": 2,\n        \"samples\": [\n          1,\n          0\n        ],\n        \"semantic_type\": \"\",\n        \"description\": \"\"\n      }\n    }\n  ]\n}"
            }
          },
          "metadata": {},
          "execution_count": 8
        }
      ]
    },
    {
      "cell_type": "markdown",
      "source": [
        "#### 3-3. Split entire dataset by `train` : `valid` : `test` = 8 : 1 : 1 (fixed seed)"
      ],
      "metadata": {
        "id": "ULaeqycwwrwl"
      }
    },
    {
      "cell_type": "code",
      "source": [
        "train_df, valid_df = train_test_split(df, test_size=0.2, random_state=42, stratify=df['binary_verdict'])\n",
        "valid_df, test_df = train_test_split(valid_df, test_size=0.5, random_state=42, stratify=valid_df['binary_verdict'])\n",
        "print(len(train_df), len(valid_df), len(test_df))"
      ],
      "metadata": {
        "colab": {
          "base_uri": "https://localhost:8080/"
        },
        "id": "iK25HG2rwqkT",
        "outputId": "caf8545b-89eb-4ed1-e11e-b41b20663c93"
      },
      "execution_count": 9,
      "outputs": [
        {
          "output_type": "stream",
          "name": "stdout",
          "text": [
            "11298 1412 1413\n"
          ]
        }
      ]
    },
    {
      "cell_type": "markdown",
      "source": [
        "## 4. Method III : Originator Reliability (Avg. truthness + originator embedding)\n"
      ],
      "metadata": {
        "id": "nkdsFiuNlJsc"
      }
    },
    {
      "cell_type": "markdown",
      "source": [
        "#### 4-1. Find out the coverage of Top-$K$ `statement_originator`s\n",
        "Empirically, we choose $K$=300 originators that appear at least  $N$=5 times in the train dataset"
      ],
      "metadata": {
        "id": "z10KRF0IqHcj"
      }
    },
    {
      "cell_type": "code",
      "source": [
        "N = 5\n",
        "frequent_originators = train_df[\"statement_originator\"].value_counts() >= N\n",
        "frequent_originators.sum().item()"
      ],
      "metadata": {
        "id": "3bv-ezqJxe2u",
        "colab": {
          "base_uri": "https://localhost:8080/"
        },
        "outputId": "0cdeabc2-745c-4a72-8a50-089949469aa8"
      },
      "execution_count": 27,
      "outputs": [
        {
          "output_type": "execute_result",
          "data": {
            "text/plain": [
              "292"
            ]
          },
          "metadata": {},
          "execution_count": 27
        }
      ]
    },
    {
      "cell_type": "markdown",
      "source": [
        "Given $K$=300, **53% of statements** are covered from top 300 originators in train dataset"
      ],
      "metadata": {
        "id": "Eqry3ZSRqMvg"
      }
    },
    {
      "cell_type": "code",
      "source": [
        "# Cumulative coverage ratio\n",
        "cumulative_counts = train_df[\"statement_originator\"].value_counts().cumsum()\n",
        "coverage_ratio = cumulative_counts / len(df)\n",
        "\n",
        "# Plot coverage w.r.t to top-k originators\n",
        "plt.figure(figsize=(10, 5))\n",
        "plt.plot(range(1, len(coverage_ratio)+1), coverage_ratio.values)\n",
        "plt.xlabel(\"Top-k statement originators\")\n",
        "plt.ylabel(\"Cumulative data coverage ratio\")\n",
        "plt.title(\"Coverage of Top-k Statement Originators\")\n",
        "plt.grid(True)\n",
        "plt.axhline(y=0.53, color='orange', linestyle='--', label='53% Coverage')\n",
        "plt.axvline(x=300, color='red', linestyle='--', label=\"Top 300\")\n",
        "plt.legend()"
      ],
      "metadata": {
        "colab": {
          "base_uri": "https://localhost:8080/",
          "height": 505
        },
        "id": "15vZZLKl7kku",
        "outputId": "60bdc031-1584-481f-bdcd-9b345880e16a"
      },
      "execution_count": null,
      "outputs": [
        {
          "output_type": "execute_result",
          "data": {
            "text/plain": [
              "<matplotlib.legend.Legend at 0x7835f0192390>"
            ]
          },
          "metadata": {},
          "execution_count": 145
        },
        {
          "output_type": "display_data",
          "data": {
            "text/plain": [
              "<Figure size 1000x500 with 1 Axes>"
            ],
            "image/png": "[encoded data removed]"
          },
          "metadata": {}
        }
      ]
    },
    {
      "cell_type": "markdown",
      "source": [
        "####4-2. Retrieve top-$K$ `statement_originator`s and calculate `originator_avg_truth` per group"
      ],
      "metadata": {
        "id": "2mqxo2-l6QjQ"
      }
    },
    {
      "cell_type": "code",
      "source": [
        "top_k = 300\n",
        "\n",
        "top_k_train_originators = (\n",
        "    train_df['statement_originator']\n",
        "    .value_counts()\n",
        "    .nlargest(top_k)\n",
        "    .index\n",
        "    .tolist()\n",
        ")\n",
        "\n",
        "# Compare with top-k originators and group rest as 'other'\n",
        "def group_originators(originator):\n",
        "    return originator if originator in top_k_train_originators else \"other\"\n",
        "\n",
        "train_df['originator_grouped'] = train_df['statement_originator'].apply(group_originators)\n",
        "valid_df['originator_grouped'] = valid_df['statement_originator'].apply(group_originators)\n",
        "test_df['originator_grouped'] = test_df['statement_originator'].apply(group_originators)\n",
        "\n",
        "\n",
        "# Compute average truthfulness of the statement originator (from train dataset only)\n",
        "truth_map = train_df.groupby('statement_originator')['binary_verdict'].mean()\n",
        "global_mean = train_df['binary_verdict'].mean()\n",
        "\n",
        "train_df['originator_avg_truth'] = train_df['statement_originator'].map(truth_map).fillna(global_mean)\n",
        "valid_df['originator_avg_truth'] = valid_df['statement_originator'].map(truth_map).fillna(global_mean)\n",
        "test_df['originator_avg_truth'] = test_df['statement_originator'].map(truth_map).fillna(global_mean)\n",
        "train_df.head(3)"
      ],
      "metadata": {
        "colab": {
          "base_uri": "https://localhost:8080/",
          "height": 195
        },
        "id": "asfD8KDi9txW",
        "outputId": "d9b59979-6ef4-46a1-9f4a-86550ea08fa5"
      },
      "execution_count": 30,
      "outputs": [
        {
          "output_type": "execute_result",
          "data": {
            "text/plain": [
              "           verdict statement_originator  \\\n",
              "5161         false         Scott Walker   \n",
              "10333        false       Facebook posts   \n",
              "12896  mostly-true         Donald Trump   \n",
              "\n",
              "                                               statement statement_date  \\\n",
              "5161        \"We’re broke. We don’t have any more money.\"      2/21/2011   \n",
              "10333  \"Doctor proves masks don’t work\" by vaping thr...     12/31/2020   \n",
              "12896  Says Nancy Pelosi’s coronavirus bill includes ...      3/24/2020   \n",
              "\n",
              "      statement_source  binary_verdict originator_grouped  \\\n",
              "5161              news               1       Scott Walker   \n",
              "10333     social_media               1     Facebook posts   \n",
              "12896         campaign               0       Donald Trump   \n",
              "\n",
              "       originator_avg_truth  \n",
              "5161               0.404255  \n",
              "10333              0.958893  \n",
              "12896              0.821497  "
            ],
            "text/html": [
              "\n",
              "  <div id=\"df-c7d8b5fc-94e0-40a7-ad0f-330e28d214ab\" class=\"colab-df-container\">\n",
              "    <div>\n",
              "<style scoped>\n",
              "    .dataframe tbody tr th:only-of-type {\n",
              "        vertical-align: middle;\n",
              "    }\n",
              "\n",
              "    .dataframe tbody tr th {\n",
              "        vertical-align: top;\n",
              "    }\n",
              "\n",
              "    .dataframe thead th {\n",
              "        text-align: right;\n",
              "    }\n",
              "</style>\n",
              "<table border=\"1\" class=\"dataframe\">\n",
              "  <thead>\n",
              "    <tr style=\"text-align: right;\">\n",
              "      <th></th>\n",
              "      <th>verdict</th>\n",
              "      <th>statement_originator</th>\n",
              "      <th>statement</th>\n",
              "      <th>statement_date</th>\n",
              "      <th>statement_source</th>\n",
              "      <th>binary_verdict</th>\n",
              "      <th>originator_grouped</th>\n",
              "      <th>originator_avg_truth</th>\n",
              "    </tr>\n",
              "  </thead>\n",
              "  <tbody>\n",
              "    <tr>\n",
              "      <th>5161</th>\n",
              "      <td>false</td>\n",
              "      <td>Scott Walker</td>\n",
              "      <td>\"We’re broke. We don’t have any more money.\"</td>\n",
              "      <td>2/21/2011</td>\n",
              "      <td>news</td>\n",
              "      <td>1</td>\n",
              "      <td>Scott Walker</td>\n",
              "      <td>0.404255</td>\n",
              "    </tr>\n",
              "    <tr>\n",
              "      <th>10333</th>\n",
              "      <td>false</td>\n",
              "      <td>Facebook posts</td>\n",
              "      <td>\"Doctor proves masks don’t work\" by vaping thr...</td>\n",
              "      <td>12/31/2020</td>\n",
              "      <td>social_media</td>\n",
              "      <td>1</td>\n",
              "      <td>Facebook posts</td>\n",
              "      <td>0.958893</td>\n",
              "    </tr>\n",
              "    <tr>\n",
              "      <th>12896</th>\n",
              "      <td>mostly-true</td>\n",
              "      <td>Donald Trump</td>\n",
              "      <td>Says Nancy Pelosi’s coronavirus bill includes ...</td>\n",
              "      <td>3/24/2020</td>\n",
              "      <td>campaign</td>\n",
              "      <td>0</td>\n",
              "      <td>Donald Trump</td>\n",
              "      <td>0.821497</td>\n",
              "    </tr>\n",
              "  </tbody>\n",
              "</table>\n",
              "</div>\n",
              "    <div class=\"colab-df-buttons\">\n",
              "\n",
              "  <div class=\"colab-df-container\">\n",
              "    <button class=\"colab-df-convert\" onclick=\"convertToInteractive('df-c7d8b5fc-94e0-40a7-ad0f-330e28d214ab')\"\n",
              "            title=\"Convert this dataframe to an interactive table.\"\n",
              "            style=\"display:none;\">\n",
              "\n",
              "  <svg xmlns=\"http://www.w3.org/2000/svg\" height=\"24px\" viewBox=\"0 -960 960 960\">\n",
              "    <path d=\"M120-120v-720h720v720H120Zm60-500h600v-160H180v160Zm220 220h160v-160H400v160Zm0 220h160v-160H400v160ZM180-400h160v-160H180v160Zm440 0h160v-160H620v160ZM180-180h160v-160H180v160Zm440 0h160v-160H620v160Z\"/>\n",
              "  </svg>\n",
              "    </button>\n",
              "\n",
              "  <style>\n",
              "    .colab-df-container {\n",
              "      display:flex;\n",
              "      gap: 12px;\n",
              "    }\n",
              "\n",
              "    .colab-df-convert {\n",
              "      background-color: #E8F0FE;\n",
              "      border: none;\n",
              "      border-radius: 50%;\n",
              "      cursor: pointer;\n",
              "      display: none;\n",
              "      fill: #1967D2;\n",
              "      height: 32px;\n",
              "      padding: 0 0 0 0;\n",
              "      width: 32px;\n",
              "    }\n",
              "\n",
              "    .colab-df-convert:hover {\n",
              "      background-color: #E2EBFA;\n",
              "      box-shadow: 0px 1px 2px rgba(60, 64, 67, 0.3), 0px 1px 3px 1px rgba(60, 64, 67, 0.15);\n",
              "      fill: #174EA6;\n",
              "    }\n",
              "\n",
              "    .colab-df-buttons div {\n",
              "      margin-bottom: 4px;\n",
              "    }\n",
              "\n",
              "    [theme=dark] .colab-df-convert {\n",
              "      background-color: #3B4455;\n",
              "      fill: #D2E3FC;\n",
              "    }\n",
              "\n",
              "    [theme=dark] .colab-df-convert:hover {\n",
              "      background-color: #434B5C;\n",
              "      box-shadow: 0px 1px 3px 1px rgba(0, 0, 0, 0.15);\n",
              "      filter: drop-shadow(0px 1px 2px rgba(0, 0, 0, 0.3));\n",
              "      fill: #FFFFFF;\n",
              "    }\n",
              "  </style>\n",
              "\n",
              "    <script>\n",
              "      const buttonEl =\n",
              "        document.querySelector('#df-c7d8b5fc-94e0-40a7-ad0f-330e28d214ab button.colab-df-convert');\n",
              "      buttonEl.style.display =\n",
              "        google.colab.kernel.accessAllowed ? 'block' : 'none';\n",
              "\n",
              "      async function convertToInteractive(key) {\n",
              "        const element = document.querySelector('#df-c7d8b5fc-94e0-40a7-ad0f-330e28d214ab');\n",
              "        const dataTable =\n",
              "          await google.colab.kernel.invokeFunction('convertToInteractive',\n",
              "                                                    [key], {});\n",
              "        if (!dataTable) return;\n",
              "\n",
              "        const docLinkHtml = 'Like what you see? Visit the ' +\n",
              "          '<a target=\"_blank\" href=https://colab.research.google.com/notebooks/data_table.ipynb>data table notebook</a>'\n",
              "          + ' to learn more about interactive tables.';\n",
              "        element.innerHTML = '';\n",
              "        dataTable['output_type'] = 'display_data';\n",
              "        await google.colab.output.renderOutput(dataTable, element);\n",
              "        const docLink = document.createElement('div');\n",
              "        docLink.innerHTML = docLinkHtml;\n",
              "        element.appendChild(docLink);\n",
              "      }\n",
              "    </script>\n",
              "  </div>\n",
              "\n",
              "\n",
              "    <div id=\"df-ed13da7e-a4d3-4fc5-ba40-5017336e64eb\">\n",
              "      <button class=\"colab-df-quickchart\" onclick=\"quickchart('df-ed13da7e-a4d3-4fc5-ba40-5017336e64eb')\"\n",
              "                title=\"Suggest charts\"\n",
              "                style=\"display:none;\">\n",
              "\n",
              "<svg xmlns=\"http://www.w3.org/2000/svg\" height=\"24px\"viewBox=\"0 0 24 24\"\n",
              "     width=\"24px\">\n",
              "    <g>\n",
              "        <path d=\"M19 3H5c-1.1 0-2 .9-2 2v14c0 1.1.9 2 2 2h14c1.1 0 2-.9 2-2V5c0-1.1-.9-2-2-2zM9 17H7v-7h2v7zm4 0h-2V7h2v10zm4 0h-2v-4h2v4z\"/>\n",
              "    </g>\n",
              "</svg>\n",
              "      </button>\n",
              "\n",
              "<style>\n",
              "  .colab-df-quickchart {\n",
              "      --bg-color: #E8F0FE;\n",
              "      --fill-color: #1967D2;\n",
              "      --hover-bg-color: #E2EBFA;\n",
              "      --hover-fill-color: #174EA6;\n",
              "      --disabled-fill-color: #AAA;\n",
              "      --disabled-bg-color: #DDD;\n",
              "  }\n",
              "\n",
              "  [theme=dark] .colab-df-quickchart {\n",
              "      --bg-color: #3B4455;\n",
              "      --fill-color: #D2E3FC;\n",
              "      --hover-bg-color: #434B5C;\n",
              "      --hover-fill-color: #FFFFFF;\n",
              "      --disabled-bg-color: #3B4455;\n",
              "      --disabled-fill-color: #666;\n",
              "  }\n",
              "\n",
              "  .colab-df-quickchart {\n",
              "    background-color: var(--bg-color);\n",
              "    border: none;\n",
              "    border-radius: 50%;\n",
              "    cursor: pointer;\n",
              "    display: none;\n",
              "    fill: var(--fill-color);\n",
              "    height: 32px;\n",
              "    padding: 0;\n",
              "    width: 32px;\n",
              "  }\n",
              "\n",
              "  .colab-df-quickchart:hover {\n",
              "    background-color: var(--hover-bg-color);\n",
              "    box-shadow: 0 1px 2px rgba(60, 64, 67, 0.3), 0 1px 3px 1px rgba(60, 64, 67, 0.15);\n",
              "    fill: var(--button-hover-fill-color);\n",
              "  }\n",
              "\n",
              "  .colab-df-quickchart-complete:disabled,\n",
              "  .colab-df-quickchart-complete:disabled:hover {\n",
              "    background-color: var(--disabled-bg-color);\n",
              "    fill: var(--disabled-fill-color);\n",
              "    box-shadow: none;\n",
              "  }\n",
              "\n",
              "  .colab-df-spinner {\n",
              "    border: 2px solid var(--fill-color);\n",
              "    border-color: transparent;\n",
              "    border-bottom-color: var(--fill-color);\n",
              "    animation:\n",
              "      spin 1s steps(1) infinite;\n",
              "  }\n",
              "\n",
              "  @keyframes spin {\n",
              "    0% {\n",
              "      border-color: transparent;\n",
              "      border-bottom-color: var(--fill-color);\n",
              "      border-left-color: var(--fill-color);\n",
              "    }\n",
              "    20% {\n",
              "      border-color: transparent;\n",
              "      border-left-color: var(--fill-color);\n",
              "      border-top-color: var(--fill-color);\n",
              "    }\n",
              "    30% {\n",
              "      border-color: transparent;\n",
              "      border-left-color: var(--fill-color);\n",
              "      border-top-color: var(--fill-color);\n",
              "      border-right-color: var(--fill-color);\n",
              "    }\n",
              "    40% {\n",
              "      border-color: transparent;\n",
              "      border-right-color: var(--fill-color);\n",
              "      border-top-color: var(--fill-color);\n",
              "    }\n",
              "    60% {\n",
              "      border-color: transparent;\n",
              "      border-right-color: var(--fill-color);\n",
              "    }\n",
              "    80% {\n",
              "      border-color: transparent;\n",
              "      border-right-color: var(--fill-color);\n",
              "      border-bottom-color: var(--fill-color);\n",
              "    }\n",
              "    90% {\n",
              "      border-color: transparent;\n",
              "      border-bottom-color: var(--fill-color);\n",
              "    }\n",
              "  }\n",
              "</style>\n",
              "\n",
              "      <script>\n",
              "        async function quickchart(key) {\n",
              "          const quickchartButtonEl =\n",
              "            document.querySelector('#' + key + ' button');\n",
              "          quickchartButtonEl.disabled = true;  // To prevent multiple clicks.\n",
              "          quickchartButtonEl.classList.add('colab-df-spinner');\n",
              "          try {\n",
              "            const charts = await google.colab.kernel.invokeFunction(\n",
              "                'suggestCharts', [key], {});\n",
              "          } catch (error) {\n",
              "            console.error('Error during call to suggestCharts:', error);\n",
              "          }\n",
              "          quickchartButtonEl.classList.remove('colab-df-spinner');\n",
              "          quickchartButtonEl.classList.add('colab-df-quickchart-complete');\n",
              "        }\n",
              "        (() => {\n",
              "          let quickchartButtonEl =\n",
              "            document.querySelector('#df-ed13da7e-a4d3-4fc5-ba40-5017336e64eb button');\n",
              "          quickchartButtonEl.style.display =\n",
              "            google.colab.kernel.accessAllowed ? 'block' : 'none';\n",
              "        })();\n",
              "      </script>\n",
              "    </div>\n",
              "\n",
              "    </div>\n",
              "  </div>\n"
            ],
            "application/vnd.google.colaboratory.intrinsic+json": {
              "type": "dataframe",
              "variable_name": "train_df",
              "summary": "{\n  \"name\": \"train_df\",\n  \"rows\": 11298,\n  \"fields\": [\n    {\n      \"column\": \"verdict\",\n      \"properties\": {\n        \"dtype\": \"category\",\n        \"num_unique_values\": 4,\n        \"samples\": [\n          \"mostly-true\",\n          \"true\",\n          \"false\"\n        ],\n        \"semantic_type\": \"\",\n        \"description\": \"\"\n      }\n    },\n    {\n      \"column\": \"statement_originator\",\n      \"properties\": {\n        \"dtype\": \"category\",\n        \"num_unique_values\": 3003,\n        \"samples\": [\n          \"Jackie Dingfelder\",\n          \"Lawrence Lessig\",\n          \"John Lee\"\n        ],\n        \"semantic_type\": \"\",\n        \"description\": \"\"\n      }\n    },\n    {\n      \"column\": \"statement\",\n      \"properties\": {\n        \"dtype\": \"string\",\n        \"num_unique_values\": 11291,\n        \"samples\": [\n          \"Students no longer say the Pledge of Allegiance in schools.\",\n          \"\\\"If you look at most of the polls, this is a margin-of-error race on Fourth of July between Mitt Romney and the president.\\\"\",\n          \"Says actor Mike Mitchell died because of a COVID-19 booster shot.\"\n        ],\n        \"semantic_type\": \"\",\n        \"description\": \"\"\n      }\n    },\n    {\n      \"column\": \"statement_date\",\n      \"properties\": {\n        \"dtype\": \"object\",\n        \"num_unique_values\": 4119,\n        \"samples\": [\n          \"4/4/2011\",\n          \"7/22/2009\",\n          \"5/2/2012\"\n        ],\n        \"semantic_type\": \"\",\n        \"description\": \"\"\n      }\n    },\n    {\n      \"column\": \"statement_source\",\n      \"properties\": {\n        \"dtype\": \"category\",\n        \"num_unique_values\": 13,\n        \"samples\": [\n          \"meeting\",\n          \"television\",\n          \"news\"\n        ],\n        \"semantic_type\": \"\",\n        \"description\": \"\"\n      }\n    },\n    {\n      \"column\": \"binary_verdict\",\n      \"properties\": {\n        \"dtype\": \"number\",\n        \"std\": 0,\n        \"min\": 0,\n        \"max\": 1,\n        \"num_unique_values\": 2,\n        \"samples\": [\n          0,\n          1\n        ],\n        \"semantic_type\": \"\",\n        \"description\": \"\"\n      }\n    },\n    {\n      \"column\": \"originator_grouped\",\n      \"properties\": {\n        \"dtype\": \"category\",\n        \"num_unique_values\": 301,\n        \"samples\": [\n          \"Karen Handel\",\n          \"Mitch Daniels\"\n        ],\n        \"semantic_type\": \"\",\n        \"description\": \"\"\n      }\n    },\n    {\n      \"column\": \"originator_avg_truth\",\n      \"properties\": {\n        \"dtype\": \"number\",\n        \"std\": 0.3741240180622068,\n        \"min\": 0.0,\n        \"max\": 1.0,\n        \"num_unique_values\": 97,\n        \"samples\": [\n          0.1875,\n          0.3026315789473684\n        ],\n        \"semantic_type\": \"\",\n        \"description\": \"\"\n      }\n    }\n  ]\n}"
            }
          },
          "metadata": {},
          "execution_count": 30
        }
      ]
    },
    {
      "cell_type": "markdown",
      "source": [
        "#### 4-3. Prepare Originator Embeddings"
      ],
      "metadata": {
        "id": "fSKlq2uH6H4y"
      }
    },
    {
      "cell_type": "markdown",
      "source": [
        "Encode each originator name to IDs in range $[0, K]$"
      ],
      "metadata": {
        "id": "zn6fjoi75t62"
      }
    },
    {
      "cell_type": "code",
      "source": [
        "le = LabelEncoder()\n",
        "\n",
        "originator_ids_train = le.fit_transform(train_df['originator_grouped'])\n",
        "originator_ids_valid = le.transform(valid_df['originator_grouped'])\n",
        "originator_ids_test = le.transform(test_df['originator_grouped'])\n",
        "print(originator_ids_train[:5])\n",
        "print(np.min(originator_ids_train), np.max(originator_ids_train))"
      ],
      "metadata": {
        "colab": {
          "base_uri": "https://localhost:8080/"
        },
        "id": "APfGH6-vDqIy",
        "outputId": "b8b80864-23b1-408f-ed86-4c6fc745ced1"
      },
      "execution_count": 33,
      "outputs": [
        {
          "output_type": "stream",
          "name": "stdout",
          "text": [
            "[259  93  84  84 279]\n",
            "0 300\n"
          ]
        }
      ]
    },
    {
      "cell_type": "code",
      "source": [
        "import torch\n",
        "import torch.nn as nn\n",
        "import torch.nn.init as init\n",
        "\n",
        "# np.ndarray to torch.tensor\n",
        "X_train_originator_ids = torch.tensor(originator_ids_train, dtype=torch.long)\n",
        "X_valid_originator_ids = torch.tensor(originator_ids_valid, dtype=torch.long)\n",
        "X_test_originator_ids = torch.tensor(originator_ids_test, dtype=torch.long)"
      ],
      "metadata": {
        "id": "SbSbkWYCdI59"
      },
      "execution_count": 34,
      "outputs": []
    },
    {
      "cell_type": "markdown",
      "source": [
        "#### 4-4. Follow baseline (Get `statement_year` from `statement_date`)"
      ],
      "metadata": {
        "id": "OOfBT02xzswr"
      }
    },
    {
      "cell_type": "code",
      "source": [
        "train_df['statement_year'] = train_df['statement_date'].str.split('/').str[-1]\n",
        "valid_df['statement_year'] = valid_df['statement_date'].str.split('/').str[-1]\n",
        "test_df['statement_year'] = test_df['statement_date'].str.split('/').str[-1]\n",
        "train_df.drop('statement_date', axis=1, inplace=True)\n",
        "valid_df.drop('statement_date', axis=1, inplace=True)\n",
        "test_df.drop('statement_date', axis=1, inplace=True)"
      ],
      "metadata": {
        "id": "zTgMcvf9QXNb",
        "collapsed": true
      },
      "execution_count": 35,
      "outputs": []
    },
    {
      "cell_type": "markdown",
      "source": [
        "#### 4-4. Follow baseline (Extract Sentence BERT embedding from each statement)"
      ],
      "metadata": {
        "id": "XowUV5v60BEg"
      }
    },
    {
      "cell_type": "code",
      "source": [
        "from sentence_transformers import SentenceTransformer\n",
        "sbert_model_name = 'all-MiniLM-L6-v2'\n",
        "sbert_model = SentenceTransformer(sbert_model_name)"
      ],
      "metadata": {
        "id": "qWR-bGKrsGH3"
      },
      "execution_count": null,
      "outputs": []
    },
    {
      "cell_type": "code",
      "source": [
        "train_statement_embeddings = sbert_model.encode(train_df['statement'].tolist(), show_progress_bar=True)\n",
        "valid_statement_embeddings = sbert_model.encode(valid_df['statement'].tolist(), show_progress_bar=True)\n",
        "test_statement_embeddings = sbert_model.encode(test_df['statement'].tolist(), show_progress_bar=True)"
      ],
      "metadata": {
        "id": "we1lqaIatQdz"
      },
      "execution_count": null,
      "outputs": []
    },
    {
      "cell_type": "code",
      "source": [
        "# np.ndarray to dataframe\n",
        "embedding_dim = train_statement_embeddings.shape[1]\n",
        "embedding_feature_names = [f'embed_{i}' for i in range(embedding_dim)]\n",
        "train_embeddings_df = pd.DataFrame(train_statement_embeddings, columns=embedding_feature_names, index=train_df.index)\n",
        "valid_embeddings_df = pd.DataFrame(valid_statement_embeddings, columns=embedding_feature_names, index=valid_df.index)\n",
        "test_embeddings_df = pd.DataFrame(test_statement_embeddings, columns=embedding_feature_names, index=test_df.index)\n",
        "\n",
        "# Combine embeddings with the original DataFrame\n",
        "train_df = pd.concat([train_df.drop(['statement'], axis=1), train_embeddings_df], axis=1)\n",
        "valid_df = pd.concat([valid_df.drop(['statement'], axis=1), valid_embeddings_df], axis=1)\n",
        "test_df = pd.concat([test_df.drop(['statement'], axis=1), test_embeddings_df], axis=1)\n",
        "train_df.head()"
      ],
      "metadata": {
        "id": "VGiTTe9FtJc3",
        "colab": {
          "base_uri": "https://localhost:8080/",
          "height": 273
        },
        "outputId": "a694fcf5-e4c0-4af5-fc3f-431c58fb1d17"
      },
      "execution_count": 38,
      "outputs": [
        {
          "output_type": "execute_result",
          "data": {
            "text/plain": [
              "           verdict statement_originator statement_source  binary_verdict  \\\n",
              "5161         false         Scott Walker             news               1   \n",
              "10333        false       Facebook posts     social_media               1   \n",
              "12896  mostly-true         Donald Trump         campaign               0   \n",
              "409     pants-fire         Donald Trump           speech               1   \n",
              "12078         true            Tim Kaine             news               0   \n",
              "\n",
              "      originator_grouped  originator_avg_truth statement_year   embed_0  \\\n",
              "5161        Scott Walker              0.404255           2011 -0.055342   \n",
              "10333     Facebook posts              0.958893           2020  0.008371   \n",
              "12896       Donald Trump              0.821497           2020 -0.005775   \n",
              "409         Donald Trump              0.821497           2020 -0.084947   \n",
              "12078          Tim Kaine              0.080000           2021 -0.063232   \n",
              "\n",
              "        embed_1   embed_2  ...  embed_374  embed_375  embed_376  embed_377  \\\n",
              "5161   0.029324  0.016157  ...  -0.049894  -0.040692  -0.023578   0.070436   \n",
              "10333  0.070577  0.059364  ...  -0.027812  -0.004499   0.046334  -0.033792   \n",
              "12896  0.081369  0.091523  ...  -0.088440   0.016320  -0.051128  -0.078806   \n",
              "409    0.077394  0.080611  ...   0.116466   0.108275   0.043569   0.019466   \n",
              "12078  0.078880  0.012146  ...   0.002505  -0.029684   0.064795   0.037255   \n",
              "\n",
              "       embed_378  embed_379  embed_380  embed_381  embed_382  embed_383  \n",
              "5161   -0.057112  -0.054528   0.056940  -0.039115   0.010386  -0.034721  \n",
              "10333  -0.057582  -0.039001   0.059064   0.010713   0.069696   0.026547  \n",
              "12896  -0.012644  -0.042643   0.034212  -0.078945  -0.025310  -0.005026  \n",
              "409     0.020980   0.043026  -0.022040  -0.025539   0.006419  -0.010950  \n",
              "12078  -0.088508  -0.100266  -0.015884   0.021775   0.079951   0.031500  \n",
              "\n",
              "[5 rows x 391 columns]"
            ],
            "text/html": [
              "\n",
              "  <div id=\"df-8baa12d7-d278-4d2e-aa8c-68d563c87cc3\" class=\"colab-df-container\">\n",
              "    <div>\n",
              "<style scoped>\n",
              "    .dataframe tbody tr th:only-of-type {\n",
              "        vertical-align: middle;\n",
              "    }\n",
              "\n",
              "    .dataframe tbody tr th {\n",
              "        vertical-align: top;\n",
              "    }\n",
              "\n",
              "    .dataframe thead th {\n",
              "        text-align: right;\n",
              "    }\n",
              "</style>\n",
              "<table border=\"1\" class=\"dataframe\">\n",
              "  <thead>\n",
              "    <tr style=\"text-align: right;\">\n",
              "      <th></th>\n",
              "      <th>verdict</th>\n",
              "      <th>statement_originator</th>\n",
              "      <th>statement_source</th>\n",
              "      <th>binary_verdict</th>\n",
              "      <th>originator_grouped</th>\n",
              "      <th>originator_avg_truth</th>\n",
              "      <th>statement_year</th>\n",
              "      <th>embed_0</th>\n",
              "      <th>embed_1</th>\n",
              "      <th>embed_2</th>\n",
              "      <th>...</th>\n",
              "      <th>embed_374</th>\n",
              "      <th>embed_375</th>\n",
              "      <th>embed_376</th>\n",
              "      <th>embed_377</th>\n",
              "      <th>embed_378</th>\n",
              "      <th>embed_379</th>\n",
              "      <th>embed_380</th>\n",
              "      <th>embed_381</th>\n",
              "      <th>embed_382</th>\n",
              "      <th>embed_383</th>\n",
              "    </tr>\n",
              "  </thead>\n",
              "  <tbody>\n",
              "    <tr>\n",
              "      <th>5161</th>\n",
              "      <td>false</td>\n",
              "      <td>Scott Walker</td>\n",
              "      <td>news</td>\n",
              "      <td>1</td>\n",
              "      <td>Scott Walker</td>\n",
              "      <td>0.404255</td>\n",
              "      <td>2011</td>\n",
              "      <td>-0.055342</td>\n",
              "      <td>0.029324</td>\n",
              "      <td>0.016157</td>\n",
              "      <td>...</td>\n",
              "      <td>-0.049894</td>\n",
              "      <td>-0.040692</td>\n",
              "      <td>-0.023578</td>\n",
              "      <td>0.070436</td>\n",
              "      <td>-0.057112</td>\n",
              "      <td>-0.054528</td>\n",
              "      <td>0.056940</td>\n",
              "      <td>-0.039115</td>\n",
              "      <td>0.010386</td>\n",
              "      <td>-0.034721</td>\n",
              "    </tr>\n",
              "    <tr>\n",
              "      <th>10333</th>\n",
              "      <td>false</td>\n",
              "      <td>Facebook posts</td>\n",
              "      <td>social_media</td>\n",
              "      <td>1</td>\n",
              "      <td>Facebook posts</td>\n",
              "      <td>0.958893</td>\n",
              "      <td>2020</td>\n",
              "      <td>0.008371</td>\n",
              "      <td>0.070577</td>\n",
              "      <td>0.059364</td>\n",
              "      <td>...</td>\n",
              "      <td>-0.027812</td>\n",
              "      <td>-0.004499</td>\n",
              "      <td>0.046334</td>\n",
              "      <td>-0.033792</td>\n",
              "      <td>-0.057582</td>\n",
              "      <td>-0.039001</td>\n",
              "      <td>0.059064</td>\n",
              "      <td>0.010713</td>\n",
              "      <td>0.069696</td>\n",
              "      <td>0.026547</td>\n",
              "    </tr>\n",
              "    <tr>\n",
              "      <th>12896</th>\n",
              "      <td>mostly-true</td>\n",
              "      <td>Donald Trump</td>\n",
              "      <td>campaign</td>\n",
              "      <td>0</td>\n",
              "      <td>Donald Trump</td>\n",
              "      <td>0.821497</td>\n",
              "      <td>2020</td>\n",
              "      <td>-0.005775</td>\n",
              "      <td>0.081369</td>\n",
              "      <td>0.091523</td>\n",
              "      <td>...</td>\n",
              "      <td>-0.088440</td>\n",
              "      <td>0.016320</td>\n",
              "      <td>-0.051128</td>\n",
              "      <td>-0.078806</td>\n",
              "      <td>-0.012644</td>\n",
              "      <td>-0.042643</td>\n",
              "      <td>0.034212</td>\n",
              "      <td>-0.078945</td>\n",
              "      <td>-0.025310</td>\n",
              "      <td>-0.005026</td>\n",
              "    </tr>\n",
              "    <tr>\n",
              "      <th>409</th>\n",
              "      <td>pants-fire</td>\n",
              "      <td>Donald Trump</td>\n",
              "      <td>speech</td>\n",
              "      <td>1</td>\n",
              "      <td>Donald Trump</td>\n",
              "      <td>0.821497</td>\n",
              "      <td>2020</td>\n",
              "      <td>-0.084947</td>\n",
              "      <td>0.077394</td>\n",
              "      <td>0.080611</td>\n",
              "      <td>...</td>\n",
              "      <td>0.116466</td>\n",
              "      <td>0.108275</td>\n",
              "      <td>0.043569</td>\n",
              "      <td>0.019466</td>\n",
              "      <td>0.020980</td>\n",
              "      <td>0.043026</td>\n",
              "      <td>-0.022040</td>\n",
              "      <td>-0.025539</td>\n",
              "      <td>0.006419</td>\n",
              "      <td>-0.010950</td>\n",
              "    </tr>\n",
              "    <tr>\n",
              "      <th>12078</th>\n",
              "      <td>true</td>\n",
              "      <td>Tim Kaine</td>\n",
              "      <td>news</td>\n",
              "      <td>0</td>\n",
              "      <td>Tim Kaine</td>\n",
              "      <td>0.080000</td>\n",
              "      <td>2021</td>\n",
              "      <td>-0.063232</td>\n",
              "      <td>0.078880</td>\n",
              "      <td>0.012146</td>\n",
              "      <td>...</td>\n",
              "      <td>0.002505</td>\n",
              "      <td>-0.029684</td>\n",
              "      <td>0.064795</td>\n",
              "      <td>0.037255</td>\n",
              "      <td>-0.088508</td>\n",
              "      <td>-0.100266</td>\n",
              "      <td>-0.015884</td>\n",
              "      <td>0.021775</td>\n",
              "      <td>0.079951</td>\n",
              "      <td>0.031500</td>\n",
              "    </tr>\n",
              "  </tbody>\n",
              "</table>\n",
              "<p>5 rows × 391 columns</p>\n",
              "</div>\n",
              "    <div class=\"colab-df-buttons\">\n",
              "\n",
              "  <div class=\"colab-df-container\">\n",
              "    <button class=\"colab-df-convert\" onclick=\"convertToInteractive('df-8baa12d7-d278-4d2e-aa8c-68d563c87cc3')\"\n",
              "            title=\"Convert this dataframe to an interactive table.\"\n",
              "            style=\"display:none;\">\n",
              "\n",
              "  <svg xmlns=\"http://www.w3.org/2000/svg\" height=\"24px\" viewBox=\"0 -960 960 960\">\n",
              "    <path d=\"M120-120v-720h720v720H120Zm60-500h600v-160H180v160Zm220 220h160v-160H400v160Zm0 220h160v-160H400v160ZM180-400h160v-160H180v160Zm440 0h160v-160H620v160ZM180-180h160v-160H180v160Zm440 0h160v-160H620v160Z\"/>\n",
              "  </svg>\n",
              "    </button>\n",
              "\n",
              "  <style>\n",
              "    .colab-df-container {\n",
              "      display:flex;\n",
              "      gap: 12px;\n",
              "    }\n",
              "\n",
              "    .colab-df-convert {\n",
              "      background-color: #E8F0FE;\n",
              "      border: none;\n",
              "      border-radius: 50%;\n",
              "      cursor: pointer;\n",
              "      display: none;\n",
              "      fill: #1967D2;\n",
              "      height: 32px;\n",
              "      padding: 0 0 0 0;\n",
              "      width: 32px;\n",
              "    }\n",
              "\n",
              "    .colab-df-convert:hover {\n",
              "      background-color: #E2EBFA;\n",
              "      box-shadow: 0px 1px 2px rgba(60, 64, 67, 0.3), 0px 1px 3px 1px rgba(60, 64, 67, 0.15);\n",
              "      fill: #174EA6;\n",
              "    }\n",
              "\n",
              "    .colab-df-buttons div {\n",
              "      margin-bottom: 4px;\n",
              "    }\n",
              "\n",
              "    [theme=dark] .colab-df-convert {\n",
              "      background-color: #3B4455;\n",
              "      fill: #D2E3FC;\n",
              "    }\n",
              "\n",
              "    [theme=dark] .colab-df-convert:hover {\n",
              "      background-color: #434B5C;\n",
              "      box-shadow: 0px 1px 3px 1px rgba(0, 0, 0, 0.15);\n",
              "      filter: drop-shadow(0px 1px 2px rgba(0, 0, 0, 0.3));\n",
              "      fill: #FFFFFF;\n",
              "    }\n",
              "  </style>\n",
              "\n",
              "    <script>\n",
              "      const buttonEl =\n",
              "        document.querySelector('#df-8baa12d7-d278-4d2e-aa8c-68d563c87cc3 button.colab-df-convert');\n",
              "      buttonEl.style.display =\n",
              "        google.colab.kernel.accessAllowed ? 'block' : 'none';\n",
              "\n",
              "      async function convertToInteractive(key) {\n",
              "        const element = document.querySelector('#df-8baa12d7-d278-4d2e-aa8c-68d563c87cc3');\n",
              "        const dataTable =\n",
              "          await google.colab.kernel.invokeFunction('convertToInteractive',\n",
              "                                                    [key], {});\n",
              "        if (!dataTable) return;\n",
              "\n",
              "        const docLinkHtml = 'Like what you see? Visit the ' +\n",
              "          '<a target=\"_blank\" href=https://colab.research.google.com/notebooks/data_table.ipynb>data table notebook</a>'\n",
              "          + ' to learn more about interactive tables.';\n",
              "        element.innerHTML = '';\n",
              "        dataTable['output_type'] = 'display_data';\n",
              "        await google.colab.output.renderOutput(dataTable, element);\n",
              "        const docLink = document.createElement('div');\n",
              "        docLink.innerHTML = docLinkHtml;\n",
              "        element.appendChild(docLink);\n",
              "      }\n",
              "    </script>\n",
              "  </div>\n",
              "\n",
              "\n",
              "    <div id=\"df-43518397-09b7-462d-aa8a-08f579b662f7\">\n",
              "      <button class=\"colab-df-quickchart\" onclick=\"quickchart('df-43518397-09b7-462d-aa8a-08f579b662f7')\"\n",
              "                title=\"Suggest charts\"\n",
              "                style=\"display:none;\">\n",
              "\n",
              "<svg xmlns=\"http://www.w3.org/2000/svg\" height=\"24px\"viewBox=\"0 0 24 24\"\n",
              "     width=\"24px\">\n",
              "    <g>\n",
              "        <path d=\"M19 3H5c-1.1 0-2 .9-2 2v14c0 1.1.9 2 2 2h14c1.1 0 2-.9 2-2V5c0-1.1-.9-2-2-2zM9 17H7v-7h2v7zm4 0h-2V7h2v10zm4 0h-2v-4h2v4z\"/>\n",
              "    </g>\n",
              "</svg>\n",
              "      </button>\n",
              "\n",
              "<style>\n",
              "  .colab-df-quickchart {\n",
              "      --bg-color: #E8F0FE;\n",
              "      --fill-color: #1967D2;\n",
              "      --hover-bg-color: #E2EBFA;\n",
              "      --hover-fill-color: #174EA6;\n",
              "      --disabled-fill-color: #AAA;\n",
              "      --disabled-bg-color: #DDD;\n",
              "  }\n",
              "\n",
              "  [theme=dark] .colab-df-quickchart {\n",
              "      --bg-color: #3B4455;\n",
              "      --fill-color: #D2E3FC;\n",
              "      --hover-bg-color: #434B5C;\n",
              "      --hover-fill-color: #FFFFFF;\n",
              "      --disabled-bg-color: #3B4455;\n",
              "      --disabled-fill-color: #666;\n",
              "  }\n",
              "\n",
              "  .colab-df-quickchart {\n",
              "    background-color: var(--bg-color);\n",
              "    border: none;\n",
              "    border-radius: 50%;\n",
              "    cursor: pointer;\n",
              "    display: none;\n",
              "    fill: var(--fill-color);\n",
              "    height: 32px;\n",
              "    padding: 0;\n",
              "    width: 32px;\n",
              "  }\n",
              "\n",
              "  .colab-df-quickchart:hover {\n",
              "    background-color: var(--hover-bg-color);\n",
              "    box-shadow: 0 1px 2px rgba(60, 64, 67, 0.3), 0 1px 3px 1px rgba(60, 64, 67, 0.15);\n",
              "    fill: var(--button-hover-fill-color);\n",
              "  }\n",
              "\n",
              "  .colab-df-quickchart-complete:disabled,\n",
              "  .colab-df-quickchart-complete:disabled:hover {\n",
              "    background-color: var(--disabled-bg-color);\n",
              "    fill: var(--disabled-fill-color);\n",
              "    box-shadow: none;\n",
              "  }\n",
              "\n",
              "  .colab-df-spinner {\n",
              "    border: 2px solid var(--fill-color);\n",
              "    border-color: transparent;\n",
              "    border-bottom-color: var(--fill-color);\n",
              "    animation:\n",
              "      spin 1s steps(1) infinite;\n",
              "  }\n",
              "\n",
              "  @keyframes spin {\n",
              "    0% {\n",
              "      border-color: transparent;\n",
              "      border-bottom-color: var(--fill-color);\n",
              "      border-left-color: var(--fill-color);\n",
              "    }\n",
              "    20% {\n",
              "      border-color: transparent;\n",
              "      border-left-color: var(--fill-color);\n",
              "      border-top-color: var(--fill-color);\n",
              "    }\n",
              "    30% {\n",
              "      border-color: transparent;\n",
              "      border-left-color: var(--fill-color);\n",
              "      border-top-color: var(--fill-color);\n",
              "      border-right-color: var(--fill-color);\n",
              "    }\n",
              "    40% {\n",
              "      border-color: transparent;\n",
              "      border-right-color: var(--fill-color);\n",
              "      border-top-color: var(--fill-color);\n",
              "    }\n",
              "    60% {\n",
              "      border-color: transparent;\n",
              "      border-right-color: var(--fill-color);\n",
              "    }\n",
              "    80% {\n",
              "      border-color: transparent;\n",
              "      border-right-color: var(--fill-color);\n",
              "      border-bottom-color: var(--fill-color);\n",
              "    }\n",
              "    90% {\n",
              "      border-color: transparent;\n",
              "      border-bottom-color: var(--fill-color);\n",
              "    }\n",
              "  }\n",
              "</style>\n",
              "\n",
              "      <script>\n",
              "        async function quickchart(key) {\n",
              "          const quickchartButtonEl =\n",
              "            document.querySelector('#' + key + ' button');\n",
              "          quickchartButtonEl.disabled = true;  // To prevent multiple clicks.\n",
              "          quickchartButtonEl.classList.add('colab-df-spinner');\n",
              "          try {\n",
              "            const charts = await google.colab.kernel.invokeFunction(\n",
              "                'suggestCharts', [key], {});\n",
              "          } catch (error) {\n",
              "            console.error('Error during call to suggestCharts:', error);\n",
              "          }\n",
              "          quickchartButtonEl.classList.remove('colab-df-spinner');\n",
              "          quickchartButtonEl.classList.add('colab-df-quickchart-complete');\n",
              "        }\n",
              "        (() => {\n",
              "          let quickchartButtonEl =\n",
              "            document.querySelector('#df-43518397-09b7-462d-aa8a-08f579b662f7 button');\n",
              "          quickchartButtonEl.style.display =\n",
              "            google.colab.kernel.accessAllowed ? 'block' : 'none';\n",
              "        })();\n",
              "      </script>\n",
              "    </div>\n",
              "\n",
              "    </div>\n",
              "  </div>\n"
            ],
            "application/vnd.google.colaboratory.intrinsic+json": {
              "type": "dataframe",
              "variable_name": "train_df"
            }
          },
          "metadata": {},
          "execution_count": 38
        }
      ]
    },
    {
      "cell_type": "markdown",
      "source": [
        "Now, `statement_originator` and `originator_grouped` is no longer used -> `originator_ids`"
      ],
      "metadata": {
        "id": "d-cJ4IpUs914"
      }
    },
    {
      "cell_type": "code",
      "source": [
        "y_train = train_df.binary_verdict\n",
        "y_valid = valid_df.binary_verdict\n",
        "y_test = test_df.binary_verdict\n",
        "X_train = train_df.drop(['verdict', 'statement_originator', 'originator_grouped', 'binary_verdict'], axis=1)\n",
        "X_valid = valid_df.drop(['verdict', 'statement_originator', 'originator_grouped', 'binary_verdict'], axis=1)\n",
        "X_test = test_df.drop(['verdict', 'statement_originator', 'originator_grouped', 'binary_verdict'], axis=1)\n",
        "X_train.head()"
      ],
      "metadata": {
        "colab": {
          "base_uri": "https://localhost:8080/",
          "height": 255
        },
        "id": "zP-FPIeAJJ1w",
        "outputId": "a6618f09-152f-411a-8b40-e014938967c5"
      },
      "execution_count": 39,
      "outputs": [
        {
          "output_type": "execute_result",
          "data": {
            "text/plain": [
              "      statement_source  originator_avg_truth statement_year   embed_0  \\\n",
              "5161              news              0.404255           2011 -0.055342   \n",
              "10333     social_media              0.958893           2020  0.008371   \n",
              "12896         campaign              0.821497           2020 -0.005775   \n",
              "409             speech              0.821497           2020 -0.084947   \n",
              "12078             news              0.080000           2021 -0.063232   \n",
              "\n",
              "        embed_1   embed_2   embed_3   embed_4   embed_5   embed_6  ...  \\\n",
              "5161   0.029324  0.016157  0.037620  0.004032  0.024392  0.087365  ...   \n",
              "10333  0.070577  0.059364  0.011913  0.027253 -0.036312  0.106571  ...   \n",
              "12896  0.081369  0.091523  0.037719  0.041166  0.063546 -0.017020  ...   \n",
              "409    0.077394  0.080611 -0.003112 -0.010916  0.026685  0.019391  ...   \n",
              "12078  0.078880  0.012146  0.002512 -0.013513  0.008941  0.043066  ...   \n",
              "\n",
              "       embed_374  embed_375  embed_376  embed_377  embed_378  embed_379  \\\n",
              "5161   -0.049894  -0.040692  -0.023578   0.070436  -0.057112  -0.054528   \n",
              "10333  -0.027812  -0.004499   0.046334  -0.033792  -0.057582  -0.039001   \n",
              "12896  -0.088440   0.016320  -0.051128  -0.078806  -0.012644  -0.042643   \n",
              "409     0.116466   0.108275   0.043569   0.019466   0.020980   0.043026   \n",
              "12078   0.002505  -0.029684   0.064795   0.037255  -0.088508  -0.100266   \n",
              "\n",
              "       embed_380  embed_381  embed_382  embed_383  \n",
              "5161    0.056940  -0.039115   0.010386  -0.034721  \n",
              "10333   0.059064   0.010713   0.069696   0.026547  \n",
              "12896   0.034212  -0.078945  -0.025310  -0.005026  \n",
              "409    -0.022040  -0.025539   0.006419  -0.010950  \n",
              "12078  -0.015884   0.021775   0.079951   0.031500  \n",
              "\n",
              "[5 rows x 387 columns]"
            ],
            "text/html": [
              "\n",
              "  <div id=\"df-8060b526-a0fc-425c-b3fb-24285cf00d09\" class=\"colab-df-container\">\n",
              "    <div>\n",
              "<style scoped>\n",
              "    .dataframe tbody tr th:only-of-type {\n",
              "        vertical-align: middle;\n",
              "    }\n",
              "\n",
              "    .dataframe tbody tr th {\n",
              "        vertical-align: top;\n",
              "    }\n",
              "\n",
              "    .dataframe thead th {\n",
              "        text-align: right;\n",
              "    }\n",
              "</style>\n",
              "<table border=\"1\" class=\"dataframe\">\n",
              "  <thead>\n",
              "    <tr style=\"text-align: right;\">\n",
              "      <th></th>\n",
              "      <th>statement_source</th>\n",
              "      <th>originator_avg_truth</th>\n",
              "      <th>statement_year</th>\n",
              "      <th>embed_0</th>\n",
              "      <th>embed_1</th>\n",
              "      <th>embed_2</th>\n",
              "      <th>embed_3</th>\n",
              "      <th>embed_4</th>\n",
              "      <th>embed_5</th>\n",
              "      <th>embed_6</th>\n",
              "      <th>...</th>\n",
              "      <th>embed_374</th>\n",
              "      <th>embed_375</th>\n",
              "      <th>embed_376</th>\n",
              "      <th>embed_377</th>\n",
              "      <th>embed_378</th>\n",
              "      <th>embed_379</th>\n",
              "      <th>embed_380</th>\n",
              "      <th>embed_381</th>\n",
              "      <th>embed_382</th>\n",
              "      <th>embed_383</th>\n",
              "    </tr>\n",
              "  </thead>\n",
              "  <tbody>\n",
              "    <tr>\n",
              "      <th>5161</th>\n",
              "      <td>news</td>\n",
              "      <td>0.404255</td>\n",
              "      <td>2011</td>\n",
              "      <td>-0.055342</td>\n",
              "      <td>0.029324</td>\n",
              "      <td>0.016157</td>\n",
              "      <td>0.037620</td>\n",
              "      <td>0.004032</td>\n",
              "      <td>0.024392</td>\n",
              "      <td>0.087365</td>\n",
              "      <td>...</td>\n",
              "      <td>-0.049894</td>\n",
              "      <td>-0.040692</td>\n",
              "      <td>-0.023578</td>\n",
              "      <td>0.070436</td>\n",
              "      <td>-0.057112</td>\n",
              "      <td>-0.054528</td>\n",
              "      <td>0.056940</td>\n",
              "      <td>-0.039115</td>\n",
              "      <td>0.010386</td>\n",
              "      <td>-0.034721</td>\n",
              "    </tr>\n",
              "    <tr>\n",
              "      <th>10333</th>\n",
              "      <td>social_media</td>\n",
              "      <td>0.958893</td>\n",
              "      <td>2020</td>\n",
              "      <td>0.008371</td>\n",
              "      <td>0.070577</td>\n",
              "      <td>0.059364</td>\n",
              "      <td>0.011913</td>\n",
              "      <td>0.027253</td>\n",
              "      <td>-0.036312</td>\n",
              "      <td>0.106571</td>\n",
              "      <td>...</td>\n",
              "      <td>-0.027812</td>\n",
              "      <td>-0.004499</td>\n",
              "      <td>0.046334</td>\n",
              "      <td>-0.033792</td>\n",
              "      <td>-0.057582</td>\n",
              "      <td>-0.039001</td>\n",
              "      <td>0.059064</td>\n",
              "      <td>0.010713</td>\n",
              "      <td>0.069696</td>\n",
              "      <td>0.026547</td>\n",
              "    </tr>\n",
              "    <tr>\n",
              "      <th>12896</th>\n",
              "      <td>campaign</td>\n",
              "      <td>0.821497</td>\n",
              "      <td>2020</td>\n",
              "      <td>-0.005775</td>\n",
              "      <td>0.081369</td>\n",
              "      <td>0.091523</td>\n",
              "      <td>0.037719</td>\n",
              "      <td>0.041166</td>\n",
              "      <td>0.063546</td>\n",
              "      <td>-0.017020</td>\n",
              "      <td>...</td>\n",
              "      <td>-0.088440</td>\n",
              "      <td>0.016320</td>\n",
              "      <td>-0.051128</td>\n",
              "      <td>-0.078806</td>\n",
              "      <td>-0.012644</td>\n",
              "      <td>-0.042643</td>\n",
              "      <td>0.034212</td>\n",
              "      <td>-0.078945</td>\n",
              "      <td>-0.025310</td>\n",
              "      <td>-0.005026</td>\n",
              "    </tr>\n",
              "    <tr>\n",
              "      <th>409</th>\n",
              "      <td>speech</td>\n",
              "      <td>0.821497</td>\n",
              "      <td>2020</td>\n",
              "      <td>-0.084947</td>\n",
              "      <td>0.077394</td>\n",
              "      <td>0.080611</td>\n",
              "      <td>-0.003112</td>\n",
              "      <td>-0.010916</td>\n",
              "      <td>0.026685</td>\n",
              "      <td>0.019391</td>\n",
              "      <td>...</td>\n",
              "      <td>0.116466</td>\n",
              "      <td>0.108275</td>\n",
              "      <td>0.043569</td>\n",
              "      <td>0.019466</td>\n",
              "      <td>0.020980</td>\n",
              "      <td>0.043026</td>\n",
              "      <td>-0.022040</td>\n",
              "      <td>-0.025539</td>\n",
              "      <td>0.006419</td>\n",
              "      <td>-0.010950</td>\n",
              "    </tr>\n",
              "    <tr>\n",
              "      <th>12078</th>\n",
              "      <td>news</td>\n",
              "      <td>0.080000</td>\n",
              "      <td>2021</td>\n",
              "      <td>-0.063232</td>\n",
              "      <td>0.078880</td>\n",
              "      <td>0.012146</td>\n",
              "      <td>0.002512</td>\n",
              "      <td>-0.013513</td>\n",
              "      <td>0.008941</td>\n",
              "      <td>0.043066</td>\n",
              "      <td>...</td>\n",
              "      <td>0.002505</td>\n",
              "      <td>-0.029684</td>\n",
              "      <td>0.064795</td>\n",
              "      <td>0.037255</td>\n",
              "      <td>-0.088508</td>\n",
              "      <td>-0.100266</td>\n",
              "      <td>-0.015884</td>\n",
              "      <td>0.021775</td>\n",
              "      <td>0.079951</td>\n",
              "      <td>0.031500</td>\n",
              "    </tr>\n",
              "  </tbody>\n",
              "</table>\n",
              "<p>5 rows × 387 columns</p>\n",
              "</div>\n",
              "    <div class=\"colab-df-buttons\">\n",
              "\n",
              "  <div class=\"colab-df-container\">\n",
              "    <button class=\"colab-df-convert\" onclick=\"convertToInteractive('df-8060b526-a0fc-425c-b3fb-24285cf00d09')\"\n",
              "            title=\"Convert this dataframe to an interactive table.\"\n",
              "            style=\"display:none;\">\n",
              "\n",
              "  <svg xmlns=\"http://www.w3.org/2000/svg\" height=\"24px\" viewBox=\"0 -960 960 960\">\n",
              "    <path d=\"M120-120v-720h720v720H120Zm60-500h600v-160H180v160Zm220 220h160v-160H400v160Zm0 220h160v-160H400v160ZM180-400h160v-160H180v160Zm440 0h160v-160H620v160ZM180-180h160v-160H180v160Zm440 0h160v-160H620v160Z\"/>\n",
              "  </svg>\n",
              "    </button>\n",
              "\n",
              "  <style>\n",
              "    .colab-df-container {\n",
              "      display:flex;\n",
              "      gap: 12px;\n",
              "    }\n",
              "\n",
              "    .colab-df-convert {\n",
              "      background-color: #E8F0FE;\n",
              "      border: none;\n",
              "      border-radius: 50%;\n",
              "      cursor: pointer;\n",
              "      display: none;\n",
              "      fill: #1967D2;\n",
              "      height: 32px;\n",
              "      padding: 0 0 0 0;\n",
              "      width: 32px;\n",
              "    }\n",
              "\n",
              "    .colab-df-convert:hover {\n",
              "      background-color: #E2EBFA;\n",
              "      box-shadow: 0px 1px 2px rgba(60, 64, 67, 0.3), 0px 1px 3px 1px rgba(60, 64, 67, 0.15);\n",
              "      fill: #174EA6;\n",
              "    }\n",
              "\n",
              "    .colab-df-buttons div {\n",
              "      margin-bottom: 4px;\n",
              "    }\n",
              "\n",
              "    [theme=dark] .colab-df-convert {\n",
              "      background-color: #3B4455;\n",
              "      fill: #D2E3FC;\n",
              "    }\n",
              "\n",
              "    [theme=dark] .colab-df-convert:hover {\n",
              "      background-color: #434B5C;\n",
              "      box-shadow: 0px 1px 3px 1px rgba(0, 0, 0, 0.15);\n",
              "      filter: drop-shadow(0px 1px 2px rgba(0, 0, 0, 0.3));\n",
              "      fill: #FFFFFF;\n",
              "    }\n",
              "  </style>\n",
              "\n",
              "    <script>\n",
              "      const buttonEl =\n",
              "        document.querySelector('#df-8060b526-a0fc-425c-b3fb-24285cf00d09 button.colab-df-convert');\n",
              "      buttonEl.style.display =\n",
              "        google.colab.kernel.accessAllowed ? 'block' : 'none';\n",
              "\n",
              "      async function convertToInteractive(key) {\n",
              "        const element = document.querySelector('#df-8060b526-a0fc-425c-b3fb-24285cf00d09');\n",
              "        const dataTable =\n",
              "          await google.colab.kernel.invokeFunction('convertToInteractive',\n",
              "                                                    [key], {});\n",
              "        if (!dataTable) return;\n",
              "\n",
              "        const docLinkHtml = 'Like what you see? Visit the ' +\n",
              "          '<a target=\"_blank\" href=https://colab.research.google.com/notebooks/data_table.ipynb>data table notebook</a>'\n",
              "          + ' to learn more about interactive tables.';\n",
              "        element.innerHTML = '';\n",
              "        dataTable['output_type'] = 'display_data';\n",
              "        await google.colab.output.renderOutput(dataTable, element);\n",
              "        const docLink = document.createElement('div');\n",
              "        docLink.innerHTML = docLinkHtml;\n",
              "        element.appendChild(docLink);\n",
              "      }\n",
              "    </script>\n",
              "  </div>\n",
              "\n",
              "\n",
              "    <div id=\"df-9c2e4359-6f50-482b-9ef2-03f1dd394512\">\n",
              "      <button class=\"colab-df-quickchart\" onclick=\"quickchart('df-9c2e4359-6f50-482b-9ef2-03f1dd394512')\"\n",
              "                title=\"Suggest charts\"\n",
              "                style=\"display:none;\">\n",
              "\n",
              "<svg xmlns=\"http://www.w3.org/2000/svg\" height=\"24px\"viewBox=\"0 0 24 24\"\n",
              "     width=\"24px\">\n",
              "    <g>\n",
              "        <path d=\"M19 3H5c-1.1 0-2 .9-2 2v14c0 1.1.9 2 2 2h14c1.1 0 2-.9 2-2V5c0-1.1-.9-2-2-2zM9 17H7v-7h2v7zm4 0h-2V7h2v10zm4 0h-2v-4h2v4z\"/>\n",
              "    </g>\n",
              "</svg>\n",
              "      </button>\n",
              "\n",
              "<style>\n",
              "  .colab-df-quickchart {\n",
              "      --bg-color: #E8F0FE;\n",
              "      --fill-color: #1967D2;\n",
              "      --hover-bg-color: #E2EBFA;\n",
              "      --hover-fill-color: #174EA6;\n",
              "      --disabled-fill-color: #AAA;\n",
              "      --disabled-bg-color: #DDD;\n",
              "  }\n",
              "\n",
              "  [theme=dark] .colab-df-quickchart {\n",
              "      --bg-color: #3B4455;\n",
              "      --fill-color: #D2E3FC;\n",
              "      --hover-bg-color: #434B5C;\n",
              "      --hover-fill-color: #FFFFFF;\n",
              "      --disabled-bg-color: #3B4455;\n",
              "      --disabled-fill-color: #666;\n",
              "  }\n",
              "\n",
              "  .colab-df-quickchart {\n",
              "    background-color: var(--bg-color);\n",
              "    border: none;\n",
              "    border-radius: 50%;\n",
              "    cursor: pointer;\n",
              "    display: none;\n",
              "    fill: var(--fill-color);\n",
              "    height: 32px;\n",
              "    padding: 0;\n",
              "    width: 32px;\n",
              "  }\n",
              "\n",
              "  .colab-df-quickchart:hover {\n",
              "    background-color: var(--hover-bg-color);\n",
              "    box-shadow: 0 1px 2px rgba(60, 64, 67, 0.3), 0 1px 3px 1px rgba(60, 64, 67, 0.15);\n",
              "    fill: var(--button-hover-fill-color);\n",
              "  }\n",
              "\n",
              "  .colab-df-quickchart-complete:disabled,\n",
              "  .colab-df-quickchart-complete:disabled:hover {\n",
              "    background-color: var(--disabled-bg-color);\n",
              "    fill: var(--disabled-fill-color);\n",
              "    box-shadow: none;\n",
              "  }\n",
              "\n",
              "  .colab-df-spinner {\n",
              "    border: 2px solid var(--fill-color);\n",
              "    border-color: transparent;\n",
              "    border-bottom-color: var(--fill-color);\n",
              "    animation:\n",
              "      spin 1s steps(1) infinite;\n",
              "  }\n",
              "\n",
              "  @keyframes spin {\n",
              "    0% {\n",
              "      border-color: transparent;\n",
              "      border-bottom-color: var(--fill-color);\n",
              "      border-left-color: var(--fill-color);\n",
              "    }\n",
              "    20% {\n",
              "      border-color: transparent;\n",
              "      border-left-color: var(--fill-color);\n",
              "      border-top-color: var(--fill-color);\n",
              "    }\n",
              "    30% {\n",
              "      border-color: transparent;\n",
              "      border-left-color: var(--fill-color);\n",
              "      border-top-color: var(--fill-color);\n",
              "      border-right-color: var(--fill-color);\n",
              "    }\n",
              "    40% {\n",
              "      border-color: transparent;\n",
              "      border-right-color: var(--fill-color);\n",
              "      border-top-color: var(--fill-color);\n",
              "    }\n",
              "    60% {\n",
              "      border-color: transparent;\n",
              "      border-right-color: var(--fill-color);\n",
              "    }\n",
              "    80% {\n",
              "      border-color: transparent;\n",
              "      border-right-color: var(--fill-color);\n",
              "      border-bottom-color: var(--fill-color);\n",
              "    }\n",
              "    90% {\n",
              "      border-color: transparent;\n",
              "      border-bottom-color: var(--fill-color);\n",
              "    }\n",
              "  }\n",
              "</style>\n",
              "\n",
              "      <script>\n",
              "        async function quickchart(key) {\n",
              "          const quickchartButtonEl =\n",
              "            document.querySelector('#' + key + ' button');\n",
              "          quickchartButtonEl.disabled = true;  // To prevent multiple clicks.\n",
              "          quickchartButtonEl.classList.add('colab-df-spinner');\n",
              "          try {\n",
              "            const charts = await google.colab.kernel.invokeFunction(\n",
              "                'suggestCharts', [key], {});\n",
              "          } catch (error) {\n",
              "            console.error('Error during call to suggestCharts:', error);\n",
              "          }\n",
              "          quickchartButtonEl.classList.remove('colab-df-spinner');\n",
              "          quickchartButtonEl.classList.add('colab-df-quickchart-complete');\n",
              "        }\n",
              "        (() => {\n",
              "          let quickchartButtonEl =\n",
              "            document.querySelector('#df-9c2e4359-6f50-482b-9ef2-03f1dd394512 button');\n",
              "          quickchartButtonEl.style.display =\n",
              "            google.colab.kernel.accessAllowed ? 'block' : 'none';\n",
              "        })();\n",
              "      </script>\n",
              "    </div>\n",
              "\n",
              "    </div>\n",
              "  </div>\n"
            ],
            "application/vnd.google.colaboratory.intrinsic+json": {
              "type": "dataframe",
              "variable_name": "X_train"
            }
          },
          "metadata": {},
          "execution_count": 39
        }
      ]
    },
    {
      "cell_type": "markdown",
      "source": [
        "#### Encode & Scale (BERT, `source`, `year`, `org_avg_truth`)"
      ],
      "metadata": {
        "id": "C7HdAv2c-DZh"
      }
    },
    {
      "cell_type": "code",
      "source": [
        "bert_cols = [f'embed_{i}' for i in range(384)]\n",
        "bert_scaler = StandardScaler()\n",
        "X_train_bert_scaled_np = bert_scaler.fit_transform(X_train[bert_cols])\n",
        "X_valid_bert_scaled_np = bert_scaler.transform(X_valid[bert_cols])\n",
        "X_test_bert_scaled_np = bert_scaler.transform(X_test[bert_cols])\n",
        "\n",
        "X_train = X_train.drop(bert_cols, axis=1)\n",
        "X_valid = X_valid.drop(bert_cols, axis=1)\n",
        "X_test = X_test.drop(bert_cols, axis=1)\n",
        "print(X_train_bert_scaled_np[0][:10])"
      ],
      "metadata": {
        "id": "XRoM-f-S2FKa",
        "colab": {
          "base_uri": "https://localhost:8080/"
        },
        "outputId": "2d992098-e804-43a3-d377-5c7175553e1c"
      },
      "execution_count": 40,
      "outputs": [
        {
          "output_type": "stream",
          "name": "stdout",
          "text": [
            "[-1.0944536  -0.04076888  0.10614742  0.23786393 -0.2623048   0.03971124\n",
            "  0.96312314  0.16481827  1.4424397  -0.96911585]\n"
          ]
        }
      ]
    },
    {
      "cell_type": "code",
      "source": [
        "source_encoder = OneHotEncoder(\n",
        "    sparse_output=False,\n",
        "    handle_unknown=\"ignore\"\n",
        ")\n",
        "\n",
        "X_train_src_np = source_encoder.fit_transform(X_train[['statement_source']])\n",
        "X_valid_src_np = source_encoder.transform(X_valid[['statement_source']])\n",
        "X_test_src_np = source_encoder.transform(X_test[['statement_source']])\n",
        "X_train = X_train.drop(['statement_source'], axis=1)\n",
        "X_valid = X_valid.drop(['statement_source'], axis=1)\n",
        "X_test = X_test.drop(['statement_source'], axis=1)\n",
        "X_train_src_np[0]"
      ],
      "metadata": {
        "colab": {
          "base_uri": "https://localhost:8080/"
        },
        "id": "PapnaOyssEbb",
        "outputId": "31049e0a-5a28-4407-cc6a-235dab882aa3"
      },
      "execution_count": 41,
      "outputs": [
        {
          "output_type": "execute_result",
          "data": {
            "text/plain": [
              "array([0., 0., 0., 0., 0., 1., 0., 0., 0., 0., 0., 0., 0.])"
            ]
          },
          "metadata": {},
          "execution_count": 41
        }
      ]
    },
    {
      "cell_type": "code",
      "source": [
        "year_encoder = OneHotEncoder(\n",
        "    sparse_output=False,\n",
        "    handle_unknown=\"ignore\"\n",
        ")\n",
        "\n",
        "X_train_year_np = year_encoder.fit_transform(X_train[['statement_year']])\n",
        "X_valid_year_np = year_encoder.transform(X_valid[['statement_year']])\n",
        "X_test_year_np = year_encoder.transform(X_test[['statement_year']])\n",
        "X_train = X_train.drop(['statement_year'], axis=1)\n",
        "X_valid = X_valid.drop(['statement_year'], axis=1)\n",
        "X_test = X_test.drop(['statement_year'], axis=1)\n",
        "X_train_year_np[0]"
      ],
      "metadata": {
        "colab": {
          "base_uri": "https://localhost:8080/"
        },
        "id": "XEZS6aTC0L0t",
        "outputId": "bd5d379b-6e40-412e-f3f0-d8eff91853db"
      },
      "execution_count": 42,
      "outputs": [
        {
          "output_type": "execute_result",
          "data": {
            "text/plain": [
              "array([0., 0., 0., 0., 0., 1., 0., 0., 0., 0., 0., 0., 0., 0., 0., 0., 0.])"
            ]
          },
          "metadata": {},
          "execution_count": 42
        }
      ]
    },
    {
      "cell_type": "code",
      "source": [
        "X_train_org_avg_truth_np = X_train.to_numpy()\n",
        "X_valid_org_avg_truth_np = X_valid.to_numpy()\n",
        "X_test_org_avg_truth_np = X_test.to_numpy()\n",
        "X_train_org_avg_truth_np[:3]"
      ],
      "metadata": {
        "colab": {
          "base_uri": "https://localhost:8080/"
        },
        "id": "aBv3GumH3li1",
        "outputId": "f69dbfcc-7519-49c0-d3f8-da353b700b99"
      },
      "execution_count": 43,
      "outputs": [
        {
          "output_type": "execute_result",
          "data": {
            "text/plain": [
              "array([[0.40425532],\n",
              "       [0.95889328],\n",
              "       [0.82149712]])"
            ]
          },
          "metadata": {},
          "execution_count": 43
        }
      ]
    },
    {
      "cell_type": "markdown",
      "source": [
        "### $\\mathbf x_{feat} = [\\; \\mathbf x_{source}, \\mathbf x_{year}, \\mathbf x_{org,avg,truth}\\;,  \\mathbf x_{BERT}]$"
      ],
      "metadata": {
        "id": "2lORpYuJ36zK"
      }
    },
    {
      "cell_type": "code",
      "source": [
        "import numpy as np\n",
        "import torch\n",
        "import torch.nn as nn\n",
        "from torch.utils.data import TensorDataset, DataLoader\n",
        "\n",
        "X_train_final = np.concatenate(\n",
        "    (X_train_src_np, X_train_year_np, X_train_org_avg_truth_np, X_train_bert_scaled_np),\n",
        "    axis=1\n",
        ")\n",
        "X_valid_final = np.concatenate(\n",
        "    (X_valid_src_np, X_valid_year_np, X_valid_org_avg_truth_np, X_valid_bert_scaled_np),\n",
        "    axis=1\n",
        ")\n",
        "X_test_final = np.concatenate(\n",
        "    (X_test_src_np, X_test_year_np, X_test_org_avg_truth_np, X_test_bert_scaled_np),\n",
        "    axis=1\n",
        ")\n",
        "print(X_train_final.shape)\n",
        "print(X_valid_final.shape)\n",
        "print(X_test_final.shape)"
      ],
      "metadata": {
        "colab": {
          "base_uri": "https://localhost:8080/"
        },
        "id": "pRFoyIPqnwWW",
        "outputId": "bcf714df-ab16-4cca-b261-e01d73efa70e"
      },
      "execution_count": 44,
      "outputs": [
        {
          "output_type": "stream",
          "name": "stdout",
          "text": [
            "(11298, 415)\n",
            "(1412, 415)\n",
            "(1413, 415)\n"
          ]
        }
      ]
    },
    {
      "cell_type": "markdown",
      "source": [
        "#### $\\mathbf x_{id} = i $"
      ],
      "metadata": {
        "id": "l3rdQknJxdNO"
      }
    },
    {
      "cell_type": "code",
      "source": [
        "print(originator_ids_train.shape, originator_ids_train.dtype)"
      ],
      "metadata": {
        "colab": {
          "base_uri": "https://localhost:8080/"
        },
        "id": "d-vO5eA7AItX",
        "outputId": "d63acf66-e0a0-46ea-8a94-fd6b98bc8764"
      },
      "execution_count": 46,
      "outputs": [
        {
          "output_type": "stream",
          "name": "stdout",
          "text": [
            "(11298,) int64\n"
          ]
        }
      ]
    },
    {
      "cell_type": "markdown",
      "source": [
        "## 5. Classifier : MLP"
      ],
      "metadata": {
        "id": "aWqkmnlFnxWM"
      }
    },
    {
      "cell_type": "markdown",
      "source": [
        "#### 5-1. Define Dataset and DataLoader"
      ],
      "metadata": {
        "id": "q44NUWxhvBCA"
      }
    },
    {
      "cell_type": "code",
      "source": [
        "X_train_tensor = torch.tensor(X_train_final, dtype=torch.float32)\n",
        "y_train_tensor = torch.tensor(y_train.to_numpy(), dtype=torch.float32)\n",
        "X_valid_tensor = torch.tensor(X_valid_final, dtype=torch.float32)\n",
        "y_valid_tensor = torch.tensor(y_valid.to_numpy(), dtype=torch.float32)\n",
        "X_test_tensor = torch.tensor(X_test_final, dtype=torch.float32)\n",
        "y_test_tensor = torch.tensor(y_test.to_numpy(), dtype=torch.float32)\n",
        "\n",
        "# 'originator_id' is passed with the feature\n",
        "train_dataset = TensorDataset(X_train_originator_ids, X_train_tensor, y_train_tensor)\n",
        "valid_dataset = TensorDataset(X_valid_originator_ids, X_valid_tensor, y_valid_tensor)\n",
        "test_dataset = TensorDataset(X_test_originator_ids, X_test_tensor, y_test_tensor)\n",
        "\n",
        "train_loader = DataLoader(train_dataset, batch_size=256, shuffle=True)\n",
        "valid_loader = DataLoader(valid_dataset, batch_size=256)\n",
        "test_loader = DataLoader(test_dataset, batch_size=256)\n",
        "\n",
        "print(len(train_dataset), len(valid_dataset), len(test_dataset))\n",
        "id, data, label = next(iter(train_dataset))\n",
        "print(\"id \\t: \", id.item())\n",
        "print(\"data\\t: \", data.shape)\n",
        "print(\"label \\t: \", label.item())"
      ],
      "metadata": {
        "colab": {
          "base_uri": "https://localhost:8080/"
        },
        "id": "8jDsLE8t65zv",
        "outputId": "1985e050-c9bc-4da8-acd3-26e49693849a"
      },
      "execution_count": 58,
      "outputs": [
        {
          "output_type": "stream",
          "name": "stdout",
          "text": [
            "11298 1412 1413\n",
            "id \t:  259\n",
            "data\t:  torch.Size([415])\n",
            "label \t:  1.0\n"
          ]
        }
      ]
    },
    {
      "cell_type": "markdown",
      "source": [
        "#### 5-2. Define Model (MLP + BatchNorm1D)"
      ],
      "metadata": {
        "id": "t0fh9zgHzTL4"
      }
    },
    {
      "cell_type": "markdown",
      "source": [
        "- `self.embedding` : Look-up table of shape (`N_originators`, `embedding_dim`)\n",
        "- `x_ebd` : Originator embedding"
      ],
      "metadata": {
        "id": "vClVMCNU2qWa"
      }
    },
    {
      "cell_type": "code",
      "source": [
        "# Define MLP-based model\n",
        "class MLPBatchNorm1D(nn.Module):\n",
        "    def __init__(self, input_dim, num_originators, embedding_dim, dropout_ratios):\n",
        "        super().__init__()\n",
        "        # Define look-up table for originator embedding\n",
        "        self.embedding = nn.Embedding(num_originators, embedding_dim)\n",
        "        nn.init.xavier_uniform_(self.embedding.weight)\n",
        "\n",
        "        self.net = nn.Sequential(\n",
        "            nn.Linear(input_dim + embedding_dim, 512),\n",
        "            nn.BatchNorm1d(512),\n",
        "            nn.ReLU(),\n",
        "            nn.Dropout(dropout_ratios[0]),\n",
        "\n",
        "            nn.Linear(512, 256),\n",
        "            nn.BatchNorm1d(256),\n",
        "            nn.ReLU(),\n",
        "            nn.Dropout(dropout_ratios[1]),\n",
        "\n",
        "            nn.Linear(256, 64),\n",
        "            nn.ReLU(),\n",
        "            nn.Dropout(dropout_ratios[2]),\n",
        "\n",
        "            nn.Linear(64, 1),\n",
        "            nn.Sigmoid()\n",
        "        )\n",
        "\n",
        "    def forward(self, x_originator_ids, x_features):\n",
        "        x_emb = self.embedding(x_originator_ids)          # (B, embedding_dim)\n",
        "        x = torch.cat([x_emb, x_features], axis=1)        # (B, input_dim + embedding_dim)\n",
        "        return self.net(x)"
      ],
      "metadata": {
        "id": "_QWdByHooP2l"
      },
      "execution_count": 61,
      "outputs": []
    },
    {
      "cell_type": "code",
      "source": [
        "## ----- CONFIG ----- ##\n",
        "# model params\n",
        "LR = 1e-3\n",
        "DROPOUT_RATIOS = [0.6, 0.5, 0.4]\n",
        "INPUT_DIM = X_train_tensor.shape[1]\n",
        "NUM_ORG = 301\n",
        "EBD_DIM = 8\n",
        "\n",
        "# train params\n",
        "NUM_EPOCHS = 30\n",
        "best_loss = float('inf')\n",
        "epochs_no_improve = 0\n",
        "early_stop = 10\n",
        "last_lr = LR\n",
        "## ------------------ ##\n",
        "\n",
        "model = MLPBatchNorm1D(INPUT_DIM, NUM_ORG, EBD_DIM, DROPOUT_RATIOS)\n",
        "best_model = MLPBatchNorm1D(INPUT_DIM, NUM_ORG, EBD_DIM, DROPOUT_RATIOS)\n",
        "\n",
        "criterion = nn.BCELoss()\n",
        "optimizer = torch.optim.Adam(model.parameters(), lr=LR)"
      ],
      "metadata": {
        "id": "oRwDrvD_Cvad"
      },
      "execution_count": 62,
      "outputs": []
    },
    {
      "cell_type": "markdown",
      "source": [
        "#### 5-3. Train loop"
      ],
      "metadata": {
        "id": "TSX3CZxK4t_3"
      }
    },
    {
      "cell_type": "code",
      "source": [
        "import copy\n",
        "\n",
        "for i, epoch in enumerate(range(NUM_EPOCHS)):\n",
        "    train_losses = []\n",
        "    valid_losses = []\n",
        "\n",
        "    # Train mode\n",
        "    model.train()\n",
        "    for x_id, x_feat, yb in train_loader:\n",
        "        optimizer.zero_grad()\n",
        "        preds = model(x_id, x_feat).squeeze()\n",
        "        loss = criterion(preds, yb)\n",
        "        loss.backward()\n",
        "        optimizer.step()\n",
        "\n",
        "        train_losses.append(loss)\n",
        "\n",
        "    print(f\"Epoch {epoch} | Train Loss: {(sum(train_losses)/len(train_losses)):.4f}\", end=\" | \")\n",
        "\n",
        "    # Validation mode\n",
        "    model.eval()\n",
        "    with torch.no_grad():\n",
        "      for x_id, x_feat, val_yb in valid_loader:\n",
        "        val_preds = model(x_id, x_feat).squeeze()\n",
        "        val_loss = criterion(val_preds, val_yb)\n",
        "        valid_losses.append(val_loss)\n",
        "\n",
        "    epoch_valid_loss = (sum(valid_losses)/len(valid_losses))\n",
        "    print(f\"Valid Loss: {epoch_valid_loss:.4f}\")\n",
        "\n",
        "    if epoch_valid_loss < best_loss:\n",
        "        best_loss = epoch_valid_loss\n",
        "        best_model_state = copy.deepcopy(model.state_dict())\n",
        "        epochs_no_improve = 0\n",
        "        print(f\"Updating best model @ Epoch = {i}\")\n",
        "\n",
        "    else:\n",
        "        epochs_no_improve += 1\n",
        "        if epochs_no_improve >= early_stop:\n",
        "            print(\"Early stopping triggered.\")\n",
        "            break\n",
        "\n",
        "    del train_losses, valid_losses\n",
        "\n",
        "print(\"Done\")"
      ],
      "metadata": {
        "colab": {
          "base_uri": "https://localhost:8080/"
        },
        "id": "l1SR8tlYobpa",
        "outputId": "a60e9e0f-f210-413b-e3f6-cc8cab400fc0"
      },
      "execution_count": 63,
      "outputs": [
        {
          "output_type": "stream",
          "name": "stdout",
          "text": [
            "Epoch 0 | Train Loss: 0.6679 | Valid Loss: 0.6445\n",
            "Updating best model @ Epoch = 0\n",
            "Epoch 1 | Train Loss: 0.6280 | Valid Loss: 0.6024\n",
            "Updating best model @ Epoch = 1\n",
            "Epoch 2 | Train Loss: 0.5848 | Valid Loss: 0.5674\n",
            "Updating best model @ Epoch = 2\n",
            "Epoch 3 | Train Loss: 0.5529 | Valid Loss: 0.5482\n",
            "Updating best model @ Epoch = 3\n",
            "Epoch 4 | Train Loss: 0.5360 | Valid Loss: 0.5376\n",
            "Updating best model @ Epoch = 4\n",
            "Epoch 5 | Train Loss: 0.5267 | Valid Loss: 0.5286\n",
            "Updating best model @ Epoch = 5\n",
            "Epoch 6 | Train Loss: 0.5174 | Valid Loss: 0.5217\n",
            "Updating best model @ Epoch = 6\n",
            "Epoch 7 | Train Loss: 0.4969 | Valid Loss: 0.5171\n",
            "Updating best model @ Epoch = 7\n",
            "Epoch 8 | Train Loss: 0.4874 | Valid Loss: 0.5109\n",
            "Updating best model @ Epoch = 8\n",
            "Epoch 9 | Train Loss: 0.4744 | Valid Loss: 0.5049\n",
            "Updating best model @ Epoch = 9\n",
            "Epoch 10 | Train Loss: 0.4556 | Valid Loss: 0.5015\n",
            "Updating best model @ Epoch = 10\n",
            "Epoch 11 | Train Loss: 0.4482 | Valid Loss: 0.4956\n",
            "Updating best model @ Epoch = 11\n",
            "Epoch 12 | Train Loss: 0.4353 | Valid Loss: 0.4924\n",
            "Updating best model @ Epoch = 12\n",
            "Epoch 13 | Train Loss: 0.4230 | Valid Loss: 0.4904\n",
            "Updating best model @ Epoch = 13\n",
            "Epoch 14 | Train Loss: 0.4074 | Valid Loss: 0.4874\n",
            "Updating best model @ Epoch = 14\n",
            "Epoch 15 | Train Loss: 0.3976 | Valid Loss: 0.4864\n",
            "Updating best model @ Epoch = 15\n",
            "Epoch 16 | Train Loss: 0.3846 | Valid Loss: 0.4864\n",
            "Epoch 17 | Train Loss: 0.3741 | Valid Loss: 0.4880\n",
            "Epoch 18 | Train Loss: 0.3635 | Valid Loss: 0.4913\n",
            "Epoch 19 | Train Loss: 0.3530 | Valid Loss: 0.4936\n",
            "Epoch 20 | Train Loss: 0.3443 | Valid Loss: 0.4969\n",
            "Epoch 21 | Train Loss: 0.3388 | Valid Loss: 0.4935\n",
            "Epoch 22 | Train Loss: 0.3186 | Valid Loss: 0.4970\n",
            "Epoch 23 | Train Loss: 0.3131 | Valid Loss: 0.5072\n",
            "Epoch 24 | Train Loss: 0.3085 | Valid Loss: 0.5103\n",
            "Epoch 25 | Train Loss: 0.3010 | Valid Loss: 0.5124\n",
            "Early stopping triggered.\n",
            "Done\n"
          ]
        }
      ]
    },
    {
      "cell_type": "markdown",
      "source": [
        "## 6. Evaluation Result"
      ],
      "metadata": {
        "id": "zYyaXYZJzbxY"
      }
    },
    {
      "cell_type": "code",
      "source": [
        "best_model.load_state_dict(best_model_state)\n",
        "best_model.eval()\n",
        "\n",
        "with torch.no_grad():\n",
        "    test_preds_probs_best = best_model(X_test_originator_ids, X_test_tensor)\n",
        "    test_preds_best = (test_preds_probs_best).round().squeeze()\n",
        "\n",
        "print(classification_report(y_test_tensor, test_preds_best))"
      ],
      "metadata": {
        "colab": {
          "base_uri": "https://localhost:8080/"
        },
        "id": "hFCWR1rQPc8g",
        "outputId": "6385bb6a-4a36-4cc1-cb2a-c0164148bce4"
      },
      "execution_count": null,
      "outputs": [
        {
          "output_type": "stream",
          "name": "stdout",
          "text": [
            "              precision    recall  f1-score   support\n",
            "\n",
            "         0.0       0.68      0.83      0.74       580\n",
            "         1.0       0.86      0.73      0.79       833\n",
            "\n",
            "    accuracy                           0.77      1413\n",
            "   macro avg       0.77      0.78      0.77      1413\n",
            "weighted avg       0.78      0.77      0.77      1413\n",
            "\n"
          ]
        }
      ]
    },
    {
      "cell_type": "code",
      "source": [
        "from sklearn.metrics import roc_curve, roc_auc_score, average_precision_score\n",
        "\n",
        "def evaluate_ap_and_auroc(test_labels, test_preds, exp_names):\n",
        "  '''\n",
        "  INPUT\n",
        "      - test_labels : binary verdicts from test set / list(np.ndarray)\n",
        "      - test_preds : 'probability' predictions of the model on test set / list(np.npdarray)\n",
        "      - exp_names : name of each experiment / list(string)\n",
        "  '''\n",
        "\n",
        "  assert len(test_labels) == len(test_preds) and len(test_labels) == len(exp_names), \\\n",
        "          \"Length of each list should be identical.\"\n",
        "\n",
        "  for labels, preds, exp_name in zip(test_labels, test_preds, exp_names):\n",
        "    fpr, tpr, thresholds = roc_curve(labels, preds)\n",
        "    auc = roc_auc_score(labels, preds)\n",
        "    ap = average_precision_score(labels, preds)\n",
        "    plt.plot(fpr, tpr, label=f'{exp_name} : AUC = {auc:.3f}')\n",
        "    print(f\"[*] {exp_name} : AP = {ap:.3f}, AUROC = {auc:.3f}\")\n",
        "\n",
        "  print(\"-\" * 50)\n",
        "  plt.xlabel('False Positive Rate')\n",
        "  plt.ylabel('True Positive Rate')\n",
        "  plt.title('ROC Curve')\n",
        "  plt.legend()\n",
        "  plt.show()\n",
        "\n",
        "\n",
        "test_preds = [test_preds_probs_best]\n",
        "test_labels = [y_test_tensor.numpy()] * len(test_preds)\n",
        "exp_names = ['Org. Reliability']\n",
        "\n",
        "evaluate_ap_and_auroc(test_labels, test_preds, exp_names)"
      ],
      "metadata": {
        "colab": {
          "base_uri": "https://localhost:8080/",
          "height": 509
        },
        "id": "hcvKokBYyW8f",
        "outputId": "7e41503e-ec5e-4e3d-ad8f-a4ecfcf2224a"
      },
      "execution_count": 65,
      "outputs": [
        {
          "output_type": "stream",
          "name": "stdout",
          "text": [
            "[*] Org. Reliability : AP = 0.891, AUROC = 0.842\n",
            "--------------------------------------------------\n"
          ]
        },
        {
          "output_type": "display_data",
          "data": {
            "text/plain": [
              "<Figure size 640x480 with 1 Axes>"
            ],
            "image/png": "[encoded data removed]"
          },
          "metadata": {}
        }
      ]
    },
    {
      "cell_type": "markdown",
      "source": [
        "(Optional) Save model predictions for further comparison"
      ],
      "metadata": {
        "id": "Exc_gOhO5V7U"
      }
    },
    {
      "cell_type": "code",
      "source": [
        "EXP_NAME = \"originator_reliability\"\n",
        "PATH = f\"/content/drive/MyDrive/Colab Notebooks/Intro_to_Machine_Learning/weights/{EXP_NAME}_best_preds.npy\"\n",
        "\n",
        "test_preds_probs_best_np = test_preds_probs_best.detach().cpu().numpy()\n",
        "torch.save(best_model.state_dict(), PATH)\n",
        "\n",
        "with open(PATH, 'wb') as f:\n",
        "    np.save(f, test_preds_probs_best)"
      ],
      "metadata": {
        "id": "4Prm0bjqQ3ml"
      },
      "execution_count": null,
      "outputs": []
    },
    {
      "cell_type": "markdown",
      "source": [
        "### Appendix. Ablation Study"
      ],
      "metadata": {
        "id": "kya4GFcNgK7R"
      }
    },
    {
      "cell_type": "markdown",
      "source": [
        "w/o Sentence BERT Embedding\n",
        "- The performance of the model significantly degrades without Sentence BERT embeeddings"
      ],
      "metadata": {
        "id": "en07Uy5jD0gr"
      }
    },
    {
      "cell_type": "code",
      "source": [
        "from sklearn.metrics import classification_report\n",
        "\n",
        "best_model.eval()\n",
        "with torch.no_grad():\n",
        "    test_preds = best_model(X_test_tensor).round().squeeze()\n",
        "\n",
        "print(classification_report(y_test_tensor, test_preds))"
      ],
      "metadata": {
        "colab": {
          "base_uri": "https://localhost:8080/"
        },
        "id": "yEmzRVC7DtSD",
        "outputId": "ab6214d9-ad40-4448-be30-3bcb25e6fe60"
      },
      "execution_count": null,
      "outputs": [
        {
          "output_type": "stream",
          "name": "stdout",
          "text": [
            "              precision    recall  f1-score   support\n",
            "\n",
            "         0.0       0.78      0.75      0.76      1666\n",
            "         1.0       0.65      0.69      0.67      1159\n",
            "\n",
            "    accuracy                           0.72      2825\n",
            "   macro avg       0.71      0.72      0.72      2825\n",
            "weighted avg       0.73      0.72      0.72      2825\n",
            "\n"
          ]
        }
      ]
    }
  ]
}